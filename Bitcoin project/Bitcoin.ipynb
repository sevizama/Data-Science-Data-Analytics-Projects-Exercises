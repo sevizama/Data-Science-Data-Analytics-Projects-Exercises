{
 "cells": [
  {
   "cell_type": "markdown",
   "id": "2a3050db",
   "metadata": {},
   "source": [
    "## BITCOIN DATA ANALYSIS"
   ]
  },
  {
   "cell_type": "markdown",
   "id": "c03e2926",
   "metadata": {},
   "source": [
    "### First Steps"
   ]
  },
  {
   "cell_type": "code",
   "execution_count": 1,
   "id": "887a6520",
   "metadata": {},
   "outputs": [
    {
     "data": {
      "text/html": [
       "        <script type=\"text/javascript\">\n",
       "        window.PlotlyConfig = {MathJaxConfig: 'local'};\n",
       "        if (window.MathJax) {MathJax.Hub.Config({SVG: {font: \"STIX-Web\"}});}\n",
       "        if (typeof require !== 'undefined') {\n",
       "        require.undef(\"plotly\");\n",
       "        requirejs.config({\n",
       "            paths: {\n",
       "                'plotly': ['https://cdn.plot.ly/plotly-2.2.0.min']\n",
       "            }\n",
       "        });\n",
       "        require(['plotly'], function(Plotly) {\n",
       "            window._Plotly = Plotly;\n",
       "        });\n",
       "        }\n",
       "        </script>\n",
       "        "
      ]
     },
     "metadata": {},
     "output_type": "display_data"
    }
   ],
   "source": [
    "import os\n",
    "import numpy as np\n",
    "import pandas as pd\n",
    "import matplotlib.pyplot as plt\n",
    "import seaborn as sns\n",
    "import chart_studio.plotly as py\n",
    "import plotly.graph_objects as go\n",
    "import plotly.express as px\n",
    "from plotly.offline import download_plotlyjs, init_notebook_mode, plot, iplot \n",
    "init_notebook_mode(connected=True)\n",
    "import folium\n",
    "from folium.plugins import HeatMap"
   ]
  },
  {
   "cell_type": "code",
   "execution_count": 2,
   "id": "b4d6a7bc",
   "metadata": {},
   "outputs": [
    {
     "data": {
      "text/plain": [
       "['bitcoin_analysis_Shan_Singh.ipynb', 'bitcoin_price_Training - Training.csv']"
      ]
     },
     "execution_count": 2,
     "metadata": {},
     "output_type": "execute_result"
    }
   ],
   "source": [
    "os.listdir(r\"D:\\Desktop\\proyectos udemi\\bitcoin\")"
   ]
  },
  {
   "cell_type": "code",
   "execution_count": 3,
   "id": "77f164c7",
   "metadata": {},
   "outputs": [
    {
     "data": {
      "text/html": [
       "<div>\n",
       "<style scoped>\n",
       "    .dataframe tbody tr th:only-of-type {\n",
       "        vertical-align: middle;\n",
       "    }\n",
       "\n",
       "    .dataframe tbody tr th {\n",
       "        vertical-align: top;\n",
       "    }\n",
       "\n",
       "    .dataframe thead th {\n",
       "        text-align: right;\n",
       "    }\n",
       "</style>\n",
       "<table border=\"1\" class=\"dataframe\">\n",
       "  <thead>\n",
       "    <tr style=\"text-align: right;\">\n",
       "      <th></th>\n",
       "      <th>Date</th>\n",
       "      <th>Open</th>\n",
       "      <th>High</th>\n",
       "      <th>Low</th>\n",
       "      <th>Close</th>\n",
       "      <th>Volume</th>\n",
       "      <th>Market Cap</th>\n",
       "    </tr>\n",
       "  </thead>\n",
       "  <tbody>\n",
       "    <tr>\n",
       "      <th>0</th>\n",
       "      <td>Jul 31, 2017</td>\n",
       "      <td>2763.24</td>\n",
       "      <td>2889.62</td>\n",
       "      <td>2720.61</td>\n",
       "      <td>2875.34</td>\n",
       "      <td>860,575,000</td>\n",
       "      <td>45,535,800,000</td>\n",
       "    </tr>\n",
       "    <tr>\n",
       "      <th>1</th>\n",
       "      <td>Jul 30, 2017</td>\n",
       "      <td>2724.39</td>\n",
       "      <td>2758.53</td>\n",
       "      <td>2644.85</td>\n",
       "      <td>2757.18</td>\n",
       "      <td>705,943,000</td>\n",
       "      <td>44,890,700,000</td>\n",
       "    </tr>\n",
       "    <tr>\n",
       "      <th>2</th>\n",
       "      <td>Jul 29, 2017</td>\n",
       "      <td>2807.02</td>\n",
       "      <td>2808.76</td>\n",
       "      <td>2692.80</td>\n",
       "      <td>2726.45</td>\n",
       "      <td>803,746,000</td>\n",
       "      <td>46,246,700,000</td>\n",
       "    </tr>\n",
       "    <tr>\n",
       "      <th>3</th>\n",
       "      <td>Jul 28, 2017</td>\n",
       "      <td>2679.73</td>\n",
       "      <td>2897.45</td>\n",
       "      <td>2679.73</td>\n",
       "      <td>2809.01</td>\n",
       "      <td>1,380,100,000</td>\n",
       "      <td>44,144,400,000</td>\n",
       "    </tr>\n",
       "    <tr>\n",
       "      <th>4</th>\n",
       "      <td>Jul 27, 2017</td>\n",
       "      <td>2538.71</td>\n",
       "      <td>2693.32</td>\n",
       "      <td>2529.34</td>\n",
       "      <td>2671.78</td>\n",
       "      <td>789,104,000</td>\n",
       "      <td>41,816,500,000</td>\n",
       "    </tr>\n",
       "  </tbody>\n",
       "</table>\n",
       "</div>"
      ],
      "text/plain": [
       "           Date     Open     High      Low    Close         Volume  \\\n",
       "0  Jul 31, 2017  2763.24  2889.62  2720.61  2875.34    860,575,000   \n",
       "1  Jul 30, 2017  2724.39  2758.53  2644.85  2757.18    705,943,000   \n",
       "2  Jul 29, 2017  2807.02  2808.76  2692.80  2726.45    803,746,000   \n",
       "3  Jul 28, 2017  2679.73  2897.45  2679.73  2809.01  1,380,100,000   \n",
       "4  Jul 27, 2017  2538.71  2693.32  2529.34  2671.78    789,104,000   \n",
       "\n",
       "       Market Cap  \n",
       "0  45,535,800,000  \n",
       "1  44,890,700,000  \n",
       "2  46,246,700,000  \n",
       "3  44,144,400,000  \n",
       "4  41,816,500,000  "
      ]
     },
     "execution_count": 3,
     "metadata": {},
     "output_type": "execute_result"
    }
   ],
   "source": [
    "#When we have data collected in a period of time, it is called Time Series Data\n",
    "df = pd.read_csv(r\"D:\\Desktop\\proyectos udemi\\bitcoin/bitcoin_price_Training - Training.csv\")\n",
    "df.head()"
   ]
  },
  {
   "cell_type": "code",
   "execution_count": 4,
   "id": "365b07cb",
   "metadata": {},
   "outputs": [
    {
     "name": "stdout",
     "output_type": "stream",
     "text": [
      "<class 'pandas.core.frame.DataFrame'>\n",
      "RangeIndex: 1556 entries, 0 to 1555\n",
      "Data columns (total 7 columns):\n",
      " #   Column      Non-Null Count  Dtype  \n",
      "---  ------      --------------  -----  \n",
      " 0   Date        1556 non-null   object \n",
      " 1   Open        1556 non-null   float64\n",
      " 2   High        1556 non-null   float64\n",
      " 3   Low         1556 non-null   float64\n",
      " 4   Close       1556 non-null   float64\n",
      " 5   Volume      1556 non-null   object \n",
      " 6   Market Cap  1556 non-null   object \n",
      "dtypes: float64(4), object(3)\n",
      "memory usage: 85.2+ KB\n"
     ]
    }
   ],
   "source": [
    "#no nulls\n",
    "df.info()"
   ]
  },
  {
   "cell_type": "code",
   "execution_count": 5,
   "id": "7ff1e654",
   "metadata": {},
   "outputs": [
    {
     "data": {
      "text/plain": [
       "(1556, 7)"
      ]
     },
     "execution_count": 5,
     "metadata": {},
     "output_type": "execute_result"
    }
   ],
   "source": [
    "df.shape"
   ]
  },
  {
   "cell_type": "code",
   "execution_count": 6,
   "id": "8eb9706a",
   "metadata": {},
   "outputs": [
    {
     "data": {
      "text/html": [
       "<div>\n",
       "<style scoped>\n",
       "    .dataframe tbody tr th:only-of-type {\n",
       "        vertical-align: middle;\n",
       "    }\n",
       "\n",
       "    .dataframe tbody tr th {\n",
       "        vertical-align: top;\n",
       "    }\n",
       "\n",
       "    .dataframe thead th {\n",
       "        text-align: right;\n",
       "    }\n",
       "</style>\n",
       "<table border=\"1\" class=\"dataframe\">\n",
       "  <thead>\n",
       "    <tr style=\"text-align: right;\">\n",
       "      <th></th>\n",
       "      <th>count</th>\n",
       "      <th>mean</th>\n",
       "      <th>std</th>\n",
       "      <th>min</th>\n",
       "      <th>25%</th>\n",
       "      <th>50%</th>\n",
       "      <th>75%</th>\n",
       "      <th>max</th>\n",
       "    </tr>\n",
       "  </thead>\n",
       "  <tbody>\n",
       "    <tr>\n",
       "      <th>Open</th>\n",
       "      <td>1556.0</td>\n",
       "      <td>582.625328</td>\n",
       "      <td>523.137312</td>\n",
       "      <td>68.50</td>\n",
       "      <td>254.2875</td>\n",
       "      <td>438.600</td>\n",
       "      <td>662.4375</td>\n",
       "      <td>2953.22</td>\n",
       "    </tr>\n",
       "    <tr>\n",
       "      <th>High</th>\n",
       "      <td>1556.0</td>\n",
       "      <td>597.992847</td>\n",
       "      <td>542.992855</td>\n",
       "      <td>74.56</td>\n",
       "      <td>260.3275</td>\n",
       "      <td>447.560</td>\n",
       "      <td>674.5250</td>\n",
       "      <td>2999.91</td>\n",
       "    </tr>\n",
       "    <tr>\n",
       "      <th>Low</th>\n",
       "      <td>1556.0</td>\n",
       "      <td>567.851446</td>\n",
       "      <td>505.877401</td>\n",
       "      <td>65.53</td>\n",
       "      <td>248.8350</td>\n",
       "      <td>430.570</td>\n",
       "      <td>646.7350</td>\n",
       "      <td>2840.53</td>\n",
       "    </tr>\n",
       "    <tr>\n",
       "      <th>Close</th>\n",
       "      <td>1556.0</td>\n",
       "      <td>584.239396</td>\n",
       "      <td>525.904442</td>\n",
       "      <td>68.43</td>\n",
       "      <td>254.3200</td>\n",
       "      <td>438.855</td>\n",
       "      <td>663.4025</td>\n",
       "      <td>2958.11</td>\n",
       "    </tr>\n",
       "  </tbody>\n",
       "</table>\n",
       "</div>"
      ],
      "text/plain": [
       "        count        mean         std    min       25%      50%       75%  \\\n",
       "Open   1556.0  582.625328  523.137312  68.50  254.2875  438.600  662.4375   \n",
       "High   1556.0  597.992847  542.992855  74.56  260.3275  447.560  674.5250   \n",
       "Low    1556.0  567.851446  505.877401  65.53  248.8350  430.570  646.7350   \n",
       "Close  1556.0  584.239396  525.904442  68.43  254.3200  438.855  663.4025   \n",
       "\n",
       "           max  \n",
       "Open   2953.22  \n",
       "High   2999.91  \n",
       "Low    2840.53  \n",
       "Close  2958.11  "
      ]
     },
     "execution_count": 6,
     "metadata": {},
     "output_type": "execute_result"
    }
   ],
   "source": [
    "df.describe().T"
   ]
  },
  {
   "cell_type": "markdown",
   "id": "282a151c",
   "metadata": {},
   "source": [
    "## Let´s do Data Pre-Processing!"
   ]
  },
  {
   "cell_type": "code",
   "execution_count": 7,
   "id": "a287b4fb",
   "metadata": {},
   "outputs": [],
   "source": [
    "#%b represents the abbreviated month name (e.g., \"Jul\" for July), \n",
    "df['Date'] = pd.to_datetime(df['Date'], format='%b %d, %Y')"
   ]
  },
  {
   "cell_type": "code",
   "execution_count": 8,
   "id": "64a7876e",
   "metadata": {},
   "outputs": [
    {
     "data": {
      "text/html": [
       "<div>\n",
       "<style scoped>\n",
       "    .dataframe tbody tr th:only-of-type {\n",
       "        vertical-align: middle;\n",
       "    }\n",
       "\n",
       "    .dataframe tbody tr th {\n",
       "        vertical-align: top;\n",
       "    }\n",
       "\n",
       "    .dataframe thead th {\n",
       "        text-align: right;\n",
       "    }\n",
       "</style>\n",
       "<table border=\"1\" class=\"dataframe\">\n",
       "  <thead>\n",
       "    <tr style=\"text-align: right;\">\n",
       "      <th></th>\n",
       "      <th>Date</th>\n",
       "      <th>Open</th>\n",
       "      <th>High</th>\n",
       "      <th>Low</th>\n",
       "      <th>Close</th>\n",
       "      <th>Volume</th>\n",
       "      <th>Market Cap</th>\n",
       "    </tr>\n",
       "  </thead>\n",
       "  <tbody>\n",
       "    <tr>\n",
       "      <th>0</th>\n",
       "      <td>2017-07-31</td>\n",
       "      <td>2763.24</td>\n",
       "      <td>2889.62</td>\n",
       "      <td>2720.61</td>\n",
       "      <td>2875.34</td>\n",
       "      <td>860,575,000</td>\n",
       "      <td>45,535,800,000</td>\n",
       "    </tr>\n",
       "    <tr>\n",
       "      <th>1</th>\n",
       "      <td>2017-07-30</td>\n",
       "      <td>2724.39</td>\n",
       "      <td>2758.53</td>\n",
       "      <td>2644.85</td>\n",
       "      <td>2757.18</td>\n",
       "      <td>705,943,000</td>\n",
       "      <td>44,890,700,000</td>\n",
       "    </tr>\n",
       "    <tr>\n",
       "      <th>2</th>\n",
       "      <td>2017-07-29</td>\n",
       "      <td>2807.02</td>\n",
       "      <td>2808.76</td>\n",
       "      <td>2692.80</td>\n",
       "      <td>2726.45</td>\n",
       "      <td>803,746,000</td>\n",
       "      <td>46,246,700,000</td>\n",
       "    </tr>\n",
       "    <tr>\n",
       "      <th>3</th>\n",
       "      <td>2017-07-28</td>\n",
       "      <td>2679.73</td>\n",
       "      <td>2897.45</td>\n",
       "      <td>2679.73</td>\n",
       "      <td>2809.01</td>\n",
       "      <td>1,380,100,000</td>\n",
       "      <td>44,144,400,000</td>\n",
       "    </tr>\n",
       "    <tr>\n",
       "      <th>4</th>\n",
       "      <td>2017-07-27</td>\n",
       "      <td>2538.71</td>\n",
       "      <td>2693.32</td>\n",
       "      <td>2529.34</td>\n",
       "      <td>2671.78</td>\n",
       "      <td>789,104,000</td>\n",
       "      <td>41,816,500,000</td>\n",
       "    </tr>\n",
       "  </tbody>\n",
       "</table>\n",
       "</div>"
      ],
      "text/plain": [
       "        Date     Open     High      Low    Close         Volume  \\\n",
       "0 2017-07-31  2763.24  2889.62  2720.61  2875.34    860,575,000   \n",
       "1 2017-07-30  2724.39  2758.53  2644.85  2757.18    705,943,000   \n",
       "2 2017-07-29  2807.02  2808.76  2692.80  2726.45    803,746,000   \n",
       "3 2017-07-28  2679.73  2897.45  2679.73  2809.01  1,380,100,000   \n",
       "4 2017-07-27  2538.71  2693.32  2529.34  2671.78    789,104,000   \n",
       "\n",
       "       Market Cap  \n",
       "0  45,535,800,000  \n",
       "1  44,890,700,000  \n",
       "2  46,246,700,000  \n",
       "3  44,144,400,000  \n",
       "4  41,816,500,000  "
      ]
     },
     "execution_count": 8,
     "metadata": {},
     "output_type": "execute_result"
    }
   ],
   "source": [
    "df.head()"
   ]
  },
  {
   "cell_type": "code",
   "execution_count": 9,
   "id": "43988fdc",
   "metadata": {},
   "outputs": [
    {
     "data": {
      "text/plain": [
       "False"
      ]
     },
     "execution_count": 9,
     "metadata": {},
     "output_type": "execute_result"
    }
   ],
   "source": [
    "#no duplicated either\n",
    "df.duplicated().any()"
   ]
  },
  {
   "cell_type": "markdown",
   "id": "9bbea2b0",
   "metadata": {},
   "source": [
    "## What was the change of the price in the market over time?"
   ]
  },
  {
   "cell_type": "code",
   "execution_count": 10,
   "id": "384fb34a",
   "metadata": {},
   "outputs": [
    {
     "data": {
      "image/png": "[encoded data removed]",
      "text/plain": [
       "<Figure size 864x864 with 4 Axes>"
      ]
     },
     "metadata": {
      "needs_background": "light"
     },
     "output_type": "display_data"
    }
   ],
   "source": [
    "# Create subplots for each price type\n",
    "fig, axes = plt.subplots(nrows=4, ncols=1, figsize=(12, 12), sharex=True)\n",
    "\n",
    "# Plot Open price\n",
    "axes[0].plot(df['Date'], df['Open'], label='Open', color='blue')\n",
    "axes[0].set_ylabel('Open Price')\n",
    "axes[0].legend()\n",
    "\n",
    "# Plot High price\n",
    "axes[1].plot(df['Date'], df['High'], label='High', color='green')\n",
    "axes[1].set_ylabel('High Price')\n",
    "axes[1].legend()\n",
    "\n",
    "# Plot Low price\n",
    "axes[2].plot(df['Date'], df['Low'], label='Low', color='red')\n",
    "axes[2].set_ylabel('Low Price')\n",
    "axes[2].legend()\n",
    "\n",
    "# Plot Close price\n",
    "axes[3].plot(df['Date'], df['Close'], label='Close', color='purple')\n",
    "axes[3].set_xlabel('Date')\n",
    "axes[3].set_ylabel('Close Price')\n",
    "axes[3].legend()\n",
    "\n",
    "# Set the title for the entire figure\n",
    "fig.suptitle('Bitcoin Price Analysis Over Time')\n",
    "\n",
    "# Adjust layout\n",
    "plt.tight_layout()\n",
    "plt.subplots_adjust(top=0.95)\n",
    "\n",
    "# Show the plots\n",
    "plt.show()"
   ]
  },
  {
   "cell_type": "code",
   "execution_count": 11,
   "id": "40aac672",
   "metadata": {},
   "outputs": [
    {
     "data": {
      "image/png": "[encoded data removed]",
      "text/plain": [
       "<Figure size 1152x720 with 4 Axes>"
      ]
     },
     "metadata": {
      "needs_background": "light"
     },
     "output_type": "display_data"
    }
   ],
   "source": [
    "#Shorter code for plotting the same thing\n",
    "plt.figure(figsize=(16,10))\n",
    "for index,column in enumerate(['Open','High','Low','Close'],1):\n",
    "    plt.subplot(2,2,index)\n",
    "    plt.plot(df['Date'], df[column])\n",
    "    plt.title(column)"
   ]
  },
  {
   "cell_type": "markdown",
   "id": "f5f3c5e1",
   "metadata": {},
   "source": [
    "## Analysing Bitcoin Prices using candle stick bar charts!"
   ]
  },
  {
   "cell_type": "code",
   "execution_count": 12,
   "id": "0b7911f4",
   "metadata": {},
   "outputs": [],
   "source": [
    "sample = df[:50]"
   ]
  },
  {
   "cell_type": "code",
   "execution_count": 13,
   "id": "ce2d02f5",
   "metadata": {},
   "outputs": [],
   "source": [
    "trace = go.Candlestick(x = sample['Date'],\n",
    "              open=sample['Open'],\n",
    "              high=sample['High'],\n",
    "              low=sample['Low'],\n",
    "              close = sample['Close'])"
   ]
  },
  {
   "cell_type": "code",
   "execution_count": 14,
   "id": "92a3f7d2",
   "metadata": {},
   "outputs": [],
   "source": [
    "candle_data = [trace]"
   ]
  },
  {
   "cell_type": "code",
   "execution_count": 15,
   "id": "f0fe87b2",
   "metadata": {},
   "outputs": [
    {
     "data": {
      "application/vnd.plotly.v1+json": {
       "config": {
        "plotlyServerURL": "https://plot.ly"
       },
       "data": [
        {
         "close": [
          2875.34,
          2757.18,
          2726.45,
          2809.01,
          2671.78,
          2529.45,
          2576.48,
          2754.86,
          2730.4,
          2810.12,
          2667.76,
          2817.6,
          2273.43,
          2318.88,
          2228.41,
          1929.82,
          1998.86,
          2233.34,
          2357.9,
          2398.84,
          2337.79,
          2372.56,
          2518.44,
          2571.34,
          2518.66,
          2608.56,
          2601.99,
          2601.64,
          2564.06,
          2506.47,
          2434.55,
          2480.84,
          2539.32,
          2574.79,
          2552.45,
          2478.45,
          2589.41,
          2608.72,
          2744.91,
          2705.41,
          2689.1,
          2721.79,
          2589.6,
          2548.29,
          2655.88,
          2518.56,
          2464.58,
          2506.37,
          2717.02,
          2659.63
         ],
         "high": [
          2889.62,
          2758.53,
          2808.76,
          2897.45,
          2693.32,
          2610.76,
          2768.08,
          2777.26,
          2832.18,
          2862.42,
          2838.41,
          2900.7,
          2397.17,
          2387.61,
          2230.49,
          2058.77,
          2231.14,
          2363.25,
          2425.22,
          2423.71,
          2413.47,
          2537.16,
          2635.49,
          2571.34,
          2916.14,
          2616.72,
          2622.65,
          2631.59,
          2595,
          2514.28,
          2515.27,
          2559.25,
          2588.83,
          2603.98,
          2552.45,
          2615.25,
          2682.26,
          2757.94,
          2765.17,
          2723.74,
          2772.01,
          2763.45,
          2662.85,
          2662.1,
          2685.19,
          2539.92,
          2534.71,
          2786.83,
          2789.04,
          2997.26
         ],
         "low": [
          2720.61,
          2644.85,
          2692.8,
          2679.73,
          2529.34,
          2450.8,
          2480.96,
          2699.19,
          2653.94,
          2657.71,
          2621.85,
          2269.89,
          2260.23,
          2164.77,
          1932.62,
          1843.03,
          1990.41,
          2183.22,
          2340.83,
          2275.14,
          2296.81,
          2321.13,
          2517.59,
          2492.31,
          2498.87,
          2581.69,
          2538.55,
          2559.35,
          2480.47,
          2394.84,
          2419.23,
          2478.43,
          2510.48,
          2484.42,
          2332.99,
          2376.29,
          2552.12,
          2583.19,
          2706.37,
          2642.36,
          2660.4,
          2589.82,
          2549.03,
          2516.33,
          2484.96,
          2385.15,
          2212.96,
          2412.94,
          2650.38,
          2518.56
         ],
         "open": [
          2763.24,
          2724.39,
          2807.02,
          2679.73,
          2538.71,
          2577.77,
          2757.5,
          2732.7,
          2808.1,
          2668.63,
          2838.41,
          2269.89,
          2323.08,
          2233.52,
          1932.62,
          1991.98,
          2230.12,
          2360.59,
          2402.7,
          2332.77,
          2385.89,
          2525.25,
          2572.61,
          2520.27,
          2608.59,
          2608.1,
          2602.87,
          2561,
          2498.56,
          2436.4,
          2492.6,
          2539.24,
          2567.56,
          2553.03,
          2478.45,
          2590.57,
          2607.25,
          2738.52,
          2707.34,
          2691.03,
          2709.43,
          2591.26,
          2549.03,
          2655.35,
          2514.01,
          2469.57,
          2499.58,
          2716.88,
          2680.91,
          2953.22
         ],
         "type": "candlestick",
         "x": [
          "2017-07-31T00:00:00",
          "2017-07-30T00:00:00",
          "2017-07-29T00:00:00",
          "2017-07-28T00:00:00",
          "2017-07-27T00:00:00",
          "2017-07-26T00:00:00",
          "2017-07-25T00:00:00",
          "2017-07-24T00:00:00",
          "2017-07-23T00:00:00",
          "2017-07-22T00:00:00",
          "2017-07-21T00:00:00",
          "2017-07-20T00:00:00",
          "2017-07-19T00:00:00",
          "2017-07-18T00:00:00",
          "2017-07-17T00:00:00",
          "2017-07-16T00:00:00",
          "2017-07-15T00:00:00",
          "2017-07-14T00:00:00",
          "2017-07-13T00:00:00",
          "2017-07-12T00:00:00",
          "2017-07-11T00:00:00",
          "2017-07-10T00:00:00",
          "2017-07-09T00:00:00",
          "2017-07-08T00:00:00",
          "2017-07-07T00:00:00",
          "2017-07-06T00:00:00",
          "2017-07-05T00:00:00",
          "2017-07-04T00:00:00",
          "2017-07-03T00:00:00",
          "2017-07-02T00:00:00",
          "2017-07-01T00:00:00",
          "2017-06-30T00:00:00",
          "2017-06-29T00:00:00",
          "2017-06-28T00:00:00",
          "2017-06-27T00:00:00",
          "2017-06-26T00:00:00",
          "2017-06-25T00:00:00",
          "2017-06-24T00:00:00",
          "2017-06-23T00:00:00",
          "2017-06-22T00:00:00",
          "2017-06-21T00:00:00",
          "2017-06-20T00:00:00",
          "2017-06-19T00:00:00",
          "2017-06-18T00:00:00",
          "2017-06-17T00:00:00",
          "2017-06-16T00:00:00",
          "2017-06-15T00:00:00",
          "2017-06-14T00:00:00",
          "2017-06-13T00:00:00",
          "2017-06-12T00:00:00"
         ]
        }
       ],
       "layout": {
        "template": {
         "data": {
          "bar": [
           {
            "error_x": {
             "color": "#2a3f5f"
            },
            "error_y": {
             "color": "#2a3f5f"
            },
            "marker": {
             "line": {
              "color": "#E5ECF6",
              "width": 0.5
             },
             "pattern": {
              "fillmode": "overlay",
              "size": 10,
              "solidity": 0.2
             }
            },
            "type": "bar"
           }
          ],
          "barpolar": [
           {
            "marker": {
             "line": {
              "color": "#E5ECF6",
              "width": 0.5
             },
             "pattern": {
              "fillmode": "overlay",
              "size": 10,
              "solidity": 0.2
             }
            },
            "type": "barpolar"
           }
          ],
          "carpet": [
           {
            "aaxis": {
             "endlinecolor": "#2a3f5f",
             "gridcolor": "white",
             "linecolor": "white",
             "minorgridcolor": "white",
             "startlinecolor": "#2a3f5f"
            },
            "baxis": {
             "endlinecolor": "#2a3f5f",
             "gridcolor": "white",
             "linecolor": "white",
             "minorgridcolor": "white",
             "startlinecolor": "#2a3f5f"
            },
            "type": "carpet"
           }
          ],
          "choropleth": [
           {
            "colorbar": {
             "outlinewidth": 0,
             "ticks": ""
            },
            "type": "choropleth"
           }
          ],
          "contour": [
           {
            "colorbar": {
             "outlinewidth": 0,
             "ticks": ""
            },
            "colorscale": [
             [
              0,
              "#0d0887"
             ],
             [
              0.1111111111111111,
              "#46039f"
             ],
             [
              0.2222222222222222,
              "#7201a8"
             ],
             [
              0.3333333333333333,
              "#9c179e"
             ],
             [
              0.4444444444444444,
              "#bd3786"
             ],
             [
              0.5555555555555556,
              "#d8576b"
             ],
             [
              0.6666666666666666,
              "#ed7953"
             ],
             [
              0.7777777777777778,
              "#fb9f3a"
             ],
             [
              0.8888888888888888,
              "#fdca26"
             ],
             [
              1,
              "#f0f921"
             ]
            ],
            "type": "contour"
           }
          ],
          "contourcarpet": [
           {
            "colorbar": {
             "outlinewidth": 0,
             "ticks": ""
            },
            "type": "contourcarpet"
           }
          ],
          "heatmap": [
           {
            "colorbar": {
             "outlinewidth": 0,
             "ticks": ""
            },
            "colorscale": [
             [
              0,
              "#0d0887"
             ],
             [
              0.1111111111111111,
              "#46039f"
             ],
             [
              0.2222222222222222,
              "#7201a8"
             ],
             [
              0.3333333333333333,
              "#9c179e"
             ],
             [
              0.4444444444444444,
              "#bd3786"
             ],
             [
              0.5555555555555556,
              "#d8576b"
             ],
             [
              0.6666666666666666,
              "#ed7953"
             ],
             [
              0.7777777777777778,
              "#fb9f3a"
             ],
             [
              0.8888888888888888,
              "#fdca26"
             ],
             [
              1,
              "#f0f921"
             ]
            ],
            "type": "heatmap"
           }
          ],
          "heatmapgl": [
           {
            "colorbar": {
             "outlinewidth": 0,
             "ticks": ""
            },
            "colorscale": [
             [
              0,
              "#0d0887"
             ],
             [
              0.1111111111111111,
              "#46039f"
             ],
             [
              0.2222222222222222,
              "#7201a8"
             ],
             [
              0.3333333333333333,
              "#9c179e"
             ],
             [
              0.4444444444444444,
              "#bd3786"
             ],
             [
              0.5555555555555556,
              "#d8576b"
             ],
             [
              0.6666666666666666,
              "#ed7953"
             ],
             [
              0.7777777777777778,
              "#fb9f3a"
             ],
             [
              0.8888888888888888,
              "#fdca26"
             ],
             [
              1,
              "#f0f921"
             ]
            ],
            "type": "heatmapgl"
           }
          ],
          "histogram": [
           {
            "marker": {
             "pattern": {
              "fillmode": "overlay",
              "size": 10,
              "solidity": 0.2
             }
            },
            "type": "histogram"
           }
          ],
          "histogram2d": [
           {
            "colorbar": {
             "outlinewidth": 0,
             "ticks": ""
            },
            "colorscale": [
             [
              0,
              "#0d0887"
             ],
             [
              0.1111111111111111,
              "#46039f"
             ],
             [
              0.2222222222222222,
              "#7201a8"
             ],
             [
              0.3333333333333333,
              "#9c179e"
             ],
             [
              0.4444444444444444,
              "#bd3786"
             ],
             [
              0.5555555555555556,
              "#d8576b"
             ],
             [
              0.6666666666666666,
              "#ed7953"
             ],
             [
              0.7777777777777778,
              "#fb9f3a"
             ],
             [
              0.8888888888888888,
              "#fdca26"
             ],
             [
              1,
              "#f0f921"
             ]
            ],
            "type": "histogram2d"
           }
          ],
          "histogram2dcontour": [
           {
            "colorbar": {
             "outlinewidth": 0,
             "ticks": ""
            },
            "colorscale": [
             [
              0,
              "#0d0887"
             ],
             [
              0.1111111111111111,
              "#46039f"
             ],
             [
              0.2222222222222222,
              "#7201a8"
             ],
             [
              0.3333333333333333,
              "#9c179e"
             ],
             [
              0.4444444444444444,
              "#bd3786"
             ],
             [
              0.5555555555555556,
              "#d8576b"
             ],
             [
              0.6666666666666666,
              "#ed7953"
             ],
             [
              0.7777777777777778,
              "#fb9f3a"
             ],
             [
              0.8888888888888888,
              "#fdca26"
             ],
             [
              1,
              "#f0f921"
             ]
            ],
            "type": "histogram2dcontour"
           }
          ],
          "mesh3d": [
           {
            "colorbar": {
             "outlinewidth": 0,
             "ticks": ""
            },
            "type": "mesh3d"
           }
          ],
          "parcoords": [
           {
            "line": {
             "colorbar": {
              "outlinewidth": 0,
              "ticks": ""
             }
            },
            "type": "parcoords"
           }
          ],
          "pie": [
           {
            "automargin": true,
            "type": "pie"
           }
          ],
          "scatter": [
           {
            "marker": {
             "colorbar": {
              "outlinewidth": 0,
              "ticks": ""
             }
            },
            "type": "scatter"
           }
          ],
          "scatter3d": [
           {
            "line": {
             "colorbar": {
              "outlinewidth": 0,
              "ticks": ""
             }
            },
            "marker": {
             "colorbar": {
              "outlinewidth": 0,
              "ticks": ""
             }
            },
            "type": "scatter3d"
           }
          ],
          "scattercarpet": [
           {
            "marker": {
             "colorbar": {
              "outlinewidth": 0,
              "ticks": ""
             }
            },
            "type": "scattercarpet"
           }
          ],
          "scattergeo": [
           {
            "marker": {
             "colorbar": {
              "outlinewidth": 0,
              "ticks": ""
             }
            },
            "type": "scattergeo"
           }
          ],
          "scattergl": [
           {
            "marker": {
             "colorbar": {
              "outlinewidth": 0,
              "ticks": ""
             }
            },
            "type": "scattergl"
           }
          ],
          "scattermapbox": [
           {
            "marker": {
             "colorbar": {
              "outlinewidth": 0,
              "ticks": ""
             }
            },
            "type": "scattermapbox"
           }
          ],
          "scatterpolar": [
           {
            "marker": {
             "colorbar": {
              "outlinewidth": 0,
              "ticks": ""
             }
            },
            "type": "scatterpolar"
           }
          ],
          "scatterpolargl": [
           {
            "marker": {
             "colorbar": {
              "outlinewidth": 0,
              "ticks": ""
             }
            },
            "type": "scatterpolargl"
           }
          ],
          "scatterternary": [
           {
            "marker": {
             "colorbar": {
              "outlinewidth": 0,
              "ticks": ""
             }
            },
            "type": "scatterternary"
           }
          ],
          "surface": [
           {
            "colorbar": {
             "outlinewidth": 0,
             "ticks": ""
            },
            "colorscale": [
             [
              0,
              "#0d0887"
             ],
             [
              0.1111111111111111,
              "#46039f"
             ],
             [
              0.2222222222222222,
              "#7201a8"
             ],
             [
              0.3333333333333333,
              "#9c179e"
             ],
             [
              0.4444444444444444,
              "#bd3786"
             ],
             [
              0.5555555555555556,
              "#d8576b"
             ],
             [
              0.6666666666666666,
              "#ed7953"
             ],
             [
              0.7777777777777778,
              "#fb9f3a"
             ],
             [
              0.8888888888888888,
              "#fdca26"
             ],
             [
              1,
              "#f0f921"
             ]
            ],
            "type": "surface"
           }
          ],
          "table": [
           {
            "cells": {
             "fill": {
              "color": "#EBF0F8"
             },
             "line": {
              "color": "white"
             }
            },
            "header": {
             "fill": {
              "color": "#C8D4E3"
             },
             "line": {
              "color": "white"
             }
            },
            "type": "table"
           }
          ]
         },
         "layout": {
          "annotationdefaults": {
           "arrowcolor": "#2a3f5f",
           "arrowhead": 0,
           "arrowwidth": 1
          },
          "autotypenumbers": "strict",
          "coloraxis": {
           "colorbar": {
            "outlinewidth": 0,
            "ticks": ""
           }
          },
          "colorscale": {
           "diverging": [
            [
             0,
             "#8e0152"
            ],
            [
             0.1,
             "#c51b7d"
            ],
            [
             0.2,
             "#de77ae"
            ],
            [
             0.3,
             "#f1b6da"
            ],
            [
             0.4,
             "#fde0ef"
            ],
            [
             0.5,
             "#f7f7f7"
            ],
            [
             0.6,
             "#e6f5d0"
            ],
            [
             0.7,
             "#b8e186"
            ],
            [
             0.8,
             "#7fbc41"
            ],
            [
             0.9,
             "#4d9221"
            ],
            [
             1,
             "#276419"
            ]
           ],
           "sequential": [
            [
             0,
             "#0d0887"
            ],
            [
             0.1111111111111111,
             "#46039f"
            ],
            [
             0.2222222222222222,
             "#7201a8"
            ],
            [
             0.3333333333333333,
             "#9c179e"
            ],
            [
             0.4444444444444444,
             "#bd3786"
            ],
            [
             0.5555555555555556,
             "#d8576b"
            ],
            [
             0.6666666666666666,
             "#ed7953"
            ],
            [
             0.7777777777777778,
             "#fb9f3a"
            ],
            [
             0.8888888888888888,
             "#fdca26"
            ],
            [
             1,
             "#f0f921"
            ]
           ],
           "sequentialminus": [
            [
             0,
             "#0d0887"
            ],
            [
             0.1111111111111111,
             "#46039f"
            ],
            [
             0.2222222222222222,
             "#7201a8"
            ],
            [
             0.3333333333333333,
             "#9c179e"
            ],
            [
             0.4444444444444444,
             "#bd3786"
            ],
            [
             0.5555555555555556,
             "#d8576b"
            ],
            [
             0.6666666666666666,
             "#ed7953"
            ],
            [
             0.7777777777777778,
             "#fb9f3a"
            ],
            [
             0.8888888888888888,
             "#fdca26"
            ],
            [
             1,
             "#f0f921"
            ]
           ]
          },
          "colorway": [
           "#636efa",
           "#EF553B",
           "#00cc96",
           "#ab63fa",
           "#FFA15A",
           "#19d3f3",
           "#FF6692",
           "#B6E880",
           "#FF97FF",
           "#FECB52"
          ],
          "font": {
           "color": "#2a3f5f"
          },
          "geo": {
           "bgcolor": "white",
           "lakecolor": "white",
           "landcolor": "#E5ECF6",
           "showlakes": true,
           "showland": true,
           "subunitcolor": "white"
          },
          "hoverlabel": {
           "align": "left"
          },
          "hovermode": "closest",
          "mapbox": {
           "style": "light"
          },
          "paper_bgcolor": "white",
          "plot_bgcolor": "#E5ECF6",
          "polar": {
           "angularaxis": {
            "gridcolor": "white",
            "linecolor": "white",
            "ticks": ""
           },
           "bgcolor": "#E5ECF6",
           "radialaxis": {
            "gridcolor": "white",
            "linecolor": "white",
            "ticks": ""
           }
          },
          "scene": {
           "xaxis": {
            "backgroundcolor": "#E5ECF6",
            "gridcolor": "white",
            "gridwidth": 2,
            "linecolor": "white",
            "showbackground": true,
            "ticks": "",
            "zerolinecolor": "white"
           },
           "yaxis": {
            "backgroundcolor": "#E5ECF6",
            "gridcolor": "white",
            "gridwidth": 2,
            "linecolor": "white",
            "showbackground": true,
            "ticks": "",
            "zerolinecolor": "white"
           },
           "zaxis": {
            "backgroundcolor": "#E5ECF6",
            "gridcolor": "white",
            "gridwidth": 2,
            "linecolor": "white",
            "showbackground": true,
            "ticks": "",
            "zerolinecolor": "white"
           }
          },
          "shapedefaults": {
           "line": {
            "color": "#2a3f5f"
           }
          },
          "ternary": {
           "aaxis": {
            "gridcolor": "white",
            "linecolor": "white",
            "ticks": ""
           },
           "baxis": {
            "gridcolor": "white",
            "linecolor": "white",
            "ticks": ""
           },
           "bgcolor": "#E5ECF6",
           "caxis": {
            "gridcolor": "white",
            "linecolor": "white",
            "ticks": ""
           }
          },
          "title": {
           "x": 0.05
          },
          "xaxis": {
           "automargin": true,
           "gridcolor": "white",
           "linecolor": "white",
           "ticks": "",
           "title": {
            "standoff": 15
           },
           "zerolinecolor": "white",
           "zerolinewidth": 2
          },
          "yaxis": {
           "automargin": true,
           "gridcolor": "white",
           "linecolor": "white",
           "ticks": "",
           "title": {
            "standoff": 15
           },
           "zerolinecolor": "white",
           "zerolinewidth": 2
          }
         }
        },
        "xaxis": {
         "rangeslider": {
          "visible": false
         }
        }
       }
      },
      "text/html": [
       "<div>                            <div id=\"3356ea2b-5739-48ab-99c5-6d4841810198\" class=\"plotly-graph-div\" style=\"height:525px; width:100%;\"></div>            <script type=\"text/javascript\">                require([\"plotly\"], function(Plotly) {                    window.PLOTLYENV=window.PLOTLYENV || {};                                    if (document.getElementById(\"3356ea2b-5739-48ab-99c5-6d4841810198\")) {                    Plotly.newPlot(                        \"3356ea2b-5739-48ab-99c5-6d4841810198\",                        [{\"close\":[2875.34,2757.18,2726.45,2809.01,2671.78,2529.45,2576.48,2754.86,2730.4,2810.12,2667.76,2817.6,2273.43,2318.88,2228.41,1929.82,1998.86,2233.34,2357.9,2398.84,2337.79,2372.56,2518.44,2571.34,2518.66,2608.56,2601.99,2601.64,2564.06,2506.47,2434.55,2480.84,2539.32,2574.79,2552.45,2478.45,2589.41,2608.72,2744.91,2705.41,2689.1,2721.79,2589.6,2548.29,2655.88,2518.56,2464.58,2506.37,2717.02,2659.63],\"high\":[2889.62,2758.53,2808.76,2897.45,2693.32,2610.76,2768.08,2777.26,2832.18,2862.42,2838.41,2900.7,2397.17,2387.61,2230.49,2058.77,2231.14,2363.25,2425.22,2423.71,2413.47,2537.16,2635.49,2571.34,2916.14,2616.72,2622.65,2631.59,2595.0,2514.28,2515.27,2559.25,2588.83,2603.98,2552.45,2615.25,2682.26,2757.94,2765.17,2723.74,2772.01,2763.45,2662.85,2662.1,2685.19,2539.92,2534.71,2786.83,2789.04,2997.26],\"low\":[2720.61,2644.85,2692.8,2679.73,2529.34,2450.8,2480.96,2699.19,2653.94,2657.71,2621.85,2269.89,2260.23,2164.77,1932.62,1843.03,1990.41,2183.22,2340.83,2275.14,2296.81,2321.13,2517.59,2492.31,2498.87,2581.69,2538.55,2559.35,2480.47,2394.84,2419.23,2478.43,2510.48,2484.42,2332.99,2376.29,2552.12,2583.19,2706.37,2642.36,2660.4,2589.82,2549.03,2516.33,2484.96,2385.15,2212.96,2412.94,2650.38,2518.56],\"open\":[2763.24,2724.39,2807.02,2679.73,2538.71,2577.77,2757.5,2732.7,2808.1,2668.63,2838.41,2269.89,2323.08,2233.52,1932.62,1991.98,2230.12,2360.59,2402.7,2332.77,2385.89,2525.25,2572.61,2520.27,2608.59,2608.1,2602.87,2561.0,2498.56,2436.4,2492.6,2539.24,2567.56,2553.03,2478.45,2590.57,2607.25,2738.52,2707.34,2691.03,2709.43,2591.26,2549.03,2655.35,2514.01,2469.57,2499.58,2716.88,2680.91,2953.22],\"type\":\"candlestick\",\"x\":[\"2017-07-31T00:00:00\",\"2017-07-30T00:00:00\",\"2017-07-29T00:00:00\",\"2017-07-28T00:00:00\",\"2017-07-27T00:00:00\",\"2017-07-26T00:00:00\",\"2017-07-25T00:00:00\",\"2017-07-24T00:00:00\",\"2017-07-23T00:00:00\",\"2017-07-22T00:00:00\",\"2017-07-21T00:00:00\",\"2017-07-20T00:00:00\",\"2017-07-19T00:00:00\",\"2017-07-18T00:00:00\",\"2017-07-17T00:00:00\",\"2017-07-16T00:00:00\",\"2017-07-15T00:00:00\",\"2017-07-14T00:00:00\",\"2017-07-13T00:00:00\",\"2017-07-12T00:00:00\",\"2017-07-11T00:00:00\",\"2017-07-10T00:00:00\",\"2017-07-09T00:00:00\",\"2017-07-08T00:00:00\",\"2017-07-07T00:00:00\",\"2017-07-06T00:00:00\",\"2017-07-05T00:00:00\",\"2017-07-04T00:00:00\",\"2017-07-03T00:00:00\",\"2017-07-02T00:00:00\",\"2017-07-01T00:00:00\",\"2017-06-30T00:00:00\",\"2017-06-29T00:00:00\",\"2017-06-28T00:00:00\",\"2017-06-27T00:00:00\",\"2017-06-26T00:00:00\",\"2017-06-25T00:00:00\",\"2017-06-24T00:00:00\",\"2017-06-23T00:00:00\",\"2017-06-22T00:00:00\",\"2017-06-21T00:00:00\",\"2017-06-20T00:00:00\",\"2017-06-19T00:00:00\",\"2017-06-18T00:00:00\",\"2017-06-17T00:00:00\",\"2017-06-16T00:00:00\",\"2017-06-15T00:00:00\",\"2017-06-14T00:00:00\",\"2017-06-13T00:00:00\",\"2017-06-12T00:00:00\"]}],                        {\"template\":{\"data\":{\"bar\":[{\"error_x\":{\"color\":\"#2a3f5f\"},\"error_y\":{\"color\":\"#2a3f5f\"},\"marker\":{\"line\":{\"color\":\"#E5ECF6\",\"width\":0.5},\"pattern\":{\"fillmode\":\"overlay\",\"size\":10,\"solidity\":0.2}},\"type\":\"bar\"}],\"barpolar\":[{\"marker\":{\"line\":{\"color\":\"#E5ECF6\",\"width\":0.5},\"pattern\":{\"fillmode\":\"overlay\",\"size\":10,\"solidity\":0.2}},\"type\":\"barpolar\"}],\"carpet\":[{\"aaxis\":{\"endlinecolor\":\"#2a3f5f\",\"gridcolor\":\"white\",\"linecolor\":\"white\",\"minorgridcolor\":\"white\",\"startlinecolor\":\"#2a3f5f\"},\"baxis\":{\"endlinecolor\":\"#2a3f5f\",\"gridcolor\":\"white\",\"linecolor\":\"white\",\"minorgridcolor\":\"white\",\"startlinecolor\":\"#2a3f5f\"},\"type\":\"carpet\"}],\"choropleth\":[{\"colorbar\":{\"outlinewidth\":0,\"ticks\":\"\"},\"type\":\"choropleth\"}],\"contour\":[{\"colorbar\":{\"outlinewidth\":0,\"ticks\":\"\"},\"colorscale\":[[0.0,\"#0d0887\"],[0.1111111111111111,\"#46039f\"],[0.2222222222222222,\"#7201a8\"],[0.3333333333333333,\"#9c179e\"],[0.4444444444444444,\"#bd3786\"],[0.5555555555555556,\"#d8576b\"],[0.6666666666666666,\"#ed7953\"],[0.7777777777777778,\"#fb9f3a\"],[0.8888888888888888,\"#fdca26\"],[1.0,\"#f0f921\"]],\"type\":\"contour\"}],\"contourcarpet\":[{\"colorbar\":{\"outlinewidth\":0,\"ticks\":\"\"},\"type\":\"contourcarpet\"}],\"heatmap\":[{\"colorbar\":{\"outlinewidth\":0,\"ticks\":\"\"},\"colorscale\":[[0.0,\"#0d0887\"],[0.1111111111111111,\"#46039f\"],[0.2222222222222222,\"#7201a8\"],[0.3333333333333333,\"#9c179e\"],[0.4444444444444444,\"#bd3786\"],[0.5555555555555556,\"#d8576b\"],[0.6666666666666666,\"#ed7953\"],[0.7777777777777778,\"#fb9f3a\"],[0.8888888888888888,\"#fdca26\"],[1.0,\"#f0f921\"]],\"type\":\"heatmap\"}],\"heatmapgl\":[{\"colorbar\":{\"outlinewidth\":0,\"ticks\":\"\"},\"colorscale\":[[0.0,\"#0d0887\"],[0.1111111111111111,\"#46039f\"],[0.2222222222222222,\"#7201a8\"],[0.3333333333333333,\"#9c179e\"],[0.4444444444444444,\"#bd3786\"],[0.5555555555555556,\"#d8576b\"],[0.6666666666666666,\"#ed7953\"],[0.7777777777777778,\"#fb9f3a\"],[0.8888888888888888,\"#fdca26\"],[1.0,\"#f0f921\"]],\"type\":\"heatmapgl\"}],\"histogram\":[{\"marker\":{\"pattern\":{\"fillmode\":\"overlay\",\"size\":10,\"solidity\":0.2}},\"type\":\"histogram\"}],\"histogram2d\":[{\"colorbar\":{\"outlinewidth\":0,\"ticks\":\"\"},\"colorscale\":[[0.0,\"#0d0887\"],[0.1111111111111111,\"#46039f\"],[0.2222222222222222,\"#7201a8\"],[0.3333333333333333,\"#9c179e\"],[0.4444444444444444,\"#bd3786\"],[0.5555555555555556,\"#d8576b\"],[0.6666666666666666,\"#ed7953\"],[0.7777777777777778,\"#fb9f3a\"],[0.8888888888888888,\"#fdca26\"],[1.0,\"#f0f921\"]],\"type\":\"histogram2d\"}],\"histogram2dcontour\":[{\"colorbar\":{\"outlinewidth\":0,\"ticks\":\"\"},\"colorscale\":[[0.0,\"#0d0887\"],[0.1111111111111111,\"#46039f\"],[0.2222222222222222,\"#7201a8\"],[0.3333333333333333,\"#9c179e\"],[0.4444444444444444,\"#bd3786\"],[0.5555555555555556,\"#d8576b\"],[0.6666666666666666,\"#ed7953\"],[0.7777777777777778,\"#fb9f3a\"],[0.8888888888888888,\"#fdca26\"],[1.0,\"#f0f921\"]],\"type\":\"histogram2dcontour\"}],\"mesh3d\":[{\"colorbar\":{\"outlinewidth\":0,\"ticks\":\"\"},\"type\":\"mesh3d\"}],\"parcoords\":[{\"line\":{\"colorbar\":{\"outlinewidth\":0,\"ticks\":\"\"}},\"type\":\"parcoords\"}],\"pie\":[{\"automargin\":true,\"type\":\"pie\"}],\"scatter\":[{\"marker\":{\"colorbar\":{\"outlinewidth\":0,\"ticks\":\"\"}},\"type\":\"scatter\"}],\"scatter3d\":[{\"line\":{\"colorbar\":{\"outlinewidth\":0,\"ticks\":\"\"}},\"marker\":{\"colorbar\":{\"outlinewidth\":0,\"ticks\":\"\"}},\"type\":\"scatter3d\"}],\"scattercarpet\":[{\"marker\":{\"colorbar\":{\"outlinewidth\":0,\"ticks\":\"\"}},\"type\":\"scattercarpet\"}],\"scattergeo\":[{\"marker\":{\"colorbar\":{\"outlinewidth\":0,\"ticks\":\"\"}},\"type\":\"scattergeo\"}],\"scattergl\":[{\"marker\":{\"colorbar\":{\"outlinewidth\":0,\"ticks\":\"\"}},\"type\":\"scattergl\"}],\"scattermapbox\":[{\"marker\":{\"colorbar\":{\"outlinewidth\":0,\"ticks\":\"\"}},\"type\":\"scattermapbox\"}],\"scatterpolar\":[{\"marker\":{\"colorbar\":{\"outlinewidth\":0,\"ticks\":\"\"}},\"type\":\"scatterpolar\"}],\"scatterpolargl\":[{\"marker\":{\"colorbar\":{\"outlinewidth\":0,\"ticks\":\"\"}},\"type\":\"scatterpolargl\"}],\"scatterternary\":[{\"marker\":{\"colorbar\":{\"outlinewidth\":0,\"ticks\":\"\"}},\"type\":\"scatterternary\"}],\"surface\":[{\"colorbar\":{\"outlinewidth\":0,\"ticks\":\"\"},\"colorscale\":[[0.0,\"#0d0887\"],[0.1111111111111111,\"#46039f\"],[0.2222222222222222,\"#7201a8\"],[0.3333333333333333,\"#9c179e\"],[0.4444444444444444,\"#bd3786\"],[0.5555555555555556,\"#d8576b\"],[0.6666666666666666,\"#ed7953\"],[0.7777777777777778,\"#fb9f3a\"],[0.8888888888888888,\"#fdca26\"],[1.0,\"#f0f921\"]],\"type\":\"surface\"}],\"table\":[{\"cells\":{\"fill\":{\"color\":\"#EBF0F8\"},\"line\":{\"color\":\"white\"}},\"header\":{\"fill\":{\"color\":\"#C8D4E3\"},\"line\":{\"color\":\"white\"}},\"type\":\"table\"}]},\"layout\":{\"annotationdefaults\":{\"arrowcolor\":\"#2a3f5f\",\"arrowhead\":0,\"arrowwidth\":1},\"autotypenumbers\":\"strict\",\"coloraxis\":{\"colorbar\":{\"outlinewidth\":0,\"ticks\":\"\"}},\"colorscale\":{\"diverging\":[[0,\"#8e0152\"],[0.1,\"#c51b7d\"],[0.2,\"#de77ae\"],[0.3,\"#f1b6da\"],[0.4,\"#fde0ef\"],[0.5,\"#f7f7f7\"],[0.6,\"#e6f5d0\"],[0.7,\"#b8e186\"],[0.8,\"#7fbc41\"],[0.9,\"#4d9221\"],[1,\"#276419\"]],\"sequential\":[[0.0,\"#0d0887\"],[0.1111111111111111,\"#46039f\"],[0.2222222222222222,\"#7201a8\"],[0.3333333333333333,\"#9c179e\"],[0.4444444444444444,\"#bd3786\"],[0.5555555555555556,\"#d8576b\"],[0.6666666666666666,\"#ed7953\"],[0.7777777777777778,\"#fb9f3a\"],[0.8888888888888888,\"#fdca26\"],[1.0,\"#f0f921\"]],\"sequentialminus\":[[0.0,\"#0d0887\"],[0.1111111111111111,\"#46039f\"],[0.2222222222222222,\"#7201a8\"],[0.3333333333333333,\"#9c179e\"],[0.4444444444444444,\"#bd3786\"],[0.5555555555555556,\"#d8576b\"],[0.6666666666666666,\"#ed7953\"],[0.7777777777777778,\"#fb9f3a\"],[0.8888888888888888,\"#fdca26\"],[1.0,\"#f0f921\"]]},\"colorway\":[\"#636efa\",\"#EF553B\",\"#00cc96\",\"#ab63fa\",\"#FFA15A\",\"#19d3f3\",\"#FF6692\",\"#B6E880\",\"#FF97FF\",\"#FECB52\"],\"font\":{\"color\":\"#2a3f5f\"},\"geo\":{\"bgcolor\":\"white\",\"lakecolor\":\"white\",\"landcolor\":\"#E5ECF6\",\"showlakes\":true,\"showland\":true,\"subunitcolor\":\"white\"},\"hoverlabel\":{\"align\":\"left\"},\"hovermode\":\"closest\",\"mapbox\":{\"style\":\"light\"},\"paper_bgcolor\":\"white\",\"plot_bgcolor\":\"#E5ECF6\",\"polar\":{\"angularaxis\":{\"gridcolor\":\"white\",\"linecolor\":\"white\",\"ticks\":\"\"},\"bgcolor\":\"#E5ECF6\",\"radialaxis\":{\"gridcolor\":\"white\",\"linecolor\":\"white\",\"ticks\":\"\"}},\"scene\":{\"xaxis\":{\"backgroundcolor\":\"#E5ECF6\",\"gridcolor\":\"white\",\"gridwidth\":2,\"linecolor\":\"white\",\"showbackground\":true,\"ticks\":\"\",\"zerolinecolor\":\"white\"},\"yaxis\":{\"backgroundcolor\":\"#E5ECF6\",\"gridcolor\":\"white\",\"gridwidth\":2,\"linecolor\":\"white\",\"showbackground\":true,\"ticks\":\"\",\"zerolinecolor\":\"white\"},\"zaxis\":{\"backgroundcolor\":\"#E5ECF6\",\"gridcolor\":\"white\",\"gridwidth\":2,\"linecolor\":\"white\",\"showbackground\":true,\"ticks\":\"\",\"zerolinecolor\":\"white\"}},\"shapedefaults\":{\"line\":{\"color\":\"#2a3f5f\"}},\"ternary\":{\"aaxis\":{\"gridcolor\":\"white\",\"linecolor\":\"white\",\"ticks\":\"\"},\"baxis\":{\"gridcolor\":\"white\",\"linecolor\":\"white\",\"ticks\":\"\"},\"bgcolor\":\"#E5ECF6\",\"caxis\":{\"gridcolor\":\"white\",\"linecolor\":\"white\",\"ticks\":\"\"}},\"title\":{\"x\":0.05},\"xaxis\":{\"automargin\":true,\"gridcolor\":\"white\",\"linecolor\":\"white\",\"ticks\":\"\",\"title\":{\"standoff\":15},\"zerolinecolor\":\"white\",\"zerolinewidth\":2},\"yaxis\":{\"automargin\":true,\"gridcolor\":\"white\",\"linecolor\":\"white\",\"ticks\":\"\",\"title\":{\"standoff\":15},\"zerolinecolor\":\"white\",\"zerolinewidth\":2}}},\"xaxis\":{\"rangeslider\":{\"visible\":false}}},                        {\"responsive\": true}                    ).then(function(){\n",
       "                            \n",
       "var gd = document.getElementById('3356ea2b-5739-48ab-99c5-6d4841810198');\n",
       "var x = new MutationObserver(function (mutations, observer) {{\n",
       "        var display = window.getComputedStyle(gd).display;\n",
       "        if (!display || display === 'none') {{\n",
       "            console.log([gd, 'removed!']);\n",
       "            Plotly.purge(gd);\n",
       "            observer.disconnect();\n",
       "        }}\n",
       "}});\n",
       "\n",
       "// Listen for the removal of the full notebook cells\n",
       "var notebookContainer = gd.closest('#notebook-container');\n",
       "if (notebookContainer) {{\n",
       "    x.observe(notebookContainer, {childList: true});\n",
       "}}\n",
       "\n",
       "// Listen for the clearing of the current output cell\n",
       "var outputEl = gd.closest('.output');\n",
       "if (outputEl) {{\n",
       "    x.observe(outputEl, {childList: true});\n",
       "}}\n",
       "\n",
       "                        })                };                });            </script>        </div>"
      ]
     },
     "metadata": {},
     "output_type": "display_data"
    }
   ],
   "source": [
    "fig = go.Figure(data=candle_data)\n",
    "fig.update_layout(xaxis_rangeslider_visible = False)"
   ]
  },
  {
   "cell_type": "markdown",
   "id": "d7c01ef9",
   "metadata": {},
   "source": [
    "## Analysing Close Price in Depth"
   ]
  },
  {
   "cell_type": "code",
   "execution_count": 16,
   "id": "f479ff30",
   "metadata": {},
   "outputs": [],
   "source": [
    "df.set_index('Date', inplace=True)"
   ]
  },
  {
   "cell_type": "code",
   "execution_count": 17,
   "id": "186fcdcd",
   "metadata": {},
   "outputs": [
    {
     "data": {
      "image/png": "[encoded data removed]",
      "text/plain": [
       "<Figure size 1440x432 with 2 Axes>"
      ]
     },
     "metadata": {
      "needs_background": "light"
     },
     "output_type": "display_data"
    }
   ],
   "source": [
    "plt.figure(figsize=(20,6))\n",
    "plt.subplot(1,2,1)\n",
    "df['Close'].plot()\n",
    "plt.title('No scaling')\n",
    "\n",
    "\n",
    "#This logarithmic transformation is useful when you want to visualize data with a wide range of values.\n",
    "#also to highlight differences in smaller values.\n",
    "\n",
    "plt.subplot(1,2,2)\n",
    "np.log1p(df['Close']).plot()\n",
    "plt.title('Log scaling')\n",
    "plt.yscale('log')"
   ]
  },
  {
   "cell_type": "code",
   "execution_count": 18,
   "id": "b9e54e6b",
   "metadata": {},
   "outputs": [
    {
     "data": {
      "text/plain": [
       "Index(['Open', 'High', 'Low', 'Close', 'Volume', 'Market Cap'], dtype='object')"
      ]
     },
     "execution_count": 18,
     "metadata": {},
     "output_type": "execute_result"
    }
   ],
   "source": [
    "df.columns"
   ]
  },
  {
   "cell_type": "markdown",
   "id": "05b64384",
   "metadata": {},
   "source": [
    "## Let´s perform Analysis on closing Price on Yearly, Quarterly & monthly basis"
   ]
  },
  {
   "cell_type": "code",
   "execution_count": 19,
   "id": "4742757c",
   "metadata": {},
   "outputs": [
    {
     "data": {
      "text/html": [
       "<div>\n",
       "<style scoped>\n",
       "    .dataframe tbody tr th:only-of-type {\n",
       "        vertical-align: middle;\n",
       "    }\n",
       "\n",
       "    .dataframe tbody tr th {\n",
       "        vertical-align: top;\n",
       "    }\n",
       "\n",
       "    .dataframe thead th {\n",
       "        text-align: right;\n",
       "    }\n",
       "</style>\n",
       "<table border=\"1\" class=\"dataframe\">\n",
       "  <thead>\n",
       "    <tr style=\"text-align: right;\">\n",
       "      <th></th>\n",
       "      <th>Open</th>\n",
       "      <th>High</th>\n",
       "      <th>Low</th>\n",
       "      <th>Close</th>\n",
       "      <th>Volume</th>\n",
       "      <th>Market Cap</th>\n",
       "    </tr>\n",
       "    <tr>\n",
       "      <th>Date</th>\n",
       "      <th></th>\n",
       "      <th></th>\n",
       "      <th></th>\n",
       "      <th></th>\n",
       "      <th></th>\n",
       "      <th></th>\n",
       "    </tr>\n",
       "  </thead>\n",
       "  <tbody>\n",
       "    <tr>\n",
       "      <th>2017-07-31</th>\n",
       "      <td>2763.24</td>\n",
       "      <td>2889.62</td>\n",
       "      <td>2720.61</td>\n",
       "      <td>2875.34</td>\n",
       "      <td>860,575,000</td>\n",
       "      <td>45,535,800,000</td>\n",
       "    </tr>\n",
       "    <tr>\n",
       "      <th>2017-07-30</th>\n",
       "      <td>2724.39</td>\n",
       "      <td>2758.53</td>\n",
       "      <td>2644.85</td>\n",
       "      <td>2757.18</td>\n",
       "      <td>705,943,000</td>\n",
       "      <td>44,890,700,000</td>\n",
       "    </tr>\n",
       "    <tr>\n",
       "      <th>2017-07-29</th>\n",
       "      <td>2807.02</td>\n",
       "      <td>2808.76</td>\n",
       "      <td>2692.80</td>\n",
       "      <td>2726.45</td>\n",
       "      <td>803,746,000</td>\n",
       "      <td>46,246,700,000</td>\n",
       "    </tr>\n",
       "    <tr>\n",
       "      <th>2017-07-28</th>\n",
       "      <td>2679.73</td>\n",
       "      <td>2897.45</td>\n",
       "      <td>2679.73</td>\n",
       "      <td>2809.01</td>\n",
       "      <td>1,380,100,000</td>\n",
       "      <td>44,144,400,000</td>\n",
       "    </tr>\n",
       "    <tr>\n",
       "      <th>2017-07-27</th>\n",
       "      <td>2538.71</td>\n",
       "      <td>2693.32</td>\n",
       "      <td>2529.34</td>\n",
       "      <td>2671.78</td>\n",
       "      <td>789,104,000</td>\n",
       "      <td>41,816,500,000</td>\n",
       "    </tr>\n",
       "  </tbody>\n",
       "</table>\n",
       "</div>"
      ],
      "text/plain": [
       "               Open     High      Low    Close         Volume      Market Cap\n",
       "Date                                                                         \n",
       "2017-07-31  2763.24  2889.62  2720.61  2875.34    860,575,000  45,535,800,000\n",
       "2017-07-30  2724.39  2758.53  2644.85  2757.18    705,943,000  44,890,700,000\n",
       "2017-07-29  2807.02  2808.76  2692.80  2726.45    803,746,000  46,246,700,000\n",
       "2017-07-28  2679.73  2897.45  2679.73  2809.01  1,380,100,000  44,144,400,000\n",
       "2017-07-27  2538.71  2693.32  2529.34  2671.78    789,104,000  41,816,500,000"
      ]
     },
     "execution_count": 19,
     "metadata": {},
     "output_type": "execute_result"
    }
   ],
   "source": [
    "#Date has to be our row indexers like for all time series data analysis.\n",
    "df.head()"
   ]
  },
  {
   "cell_type": "code",
   "execution_count": 20,
   "id": "2b2cadec",
   "metadata": {},
   "outputs": [
    {
     "data": {
      "text/plain": [
       "Date\n",
       "2013-12-31     257.474476\n",
       "2014-12-31     527.236658\n",
       "2015-12-31     272.453260\n",
       "2016-12-31     568.492131\n",
       "2017-12-31    1628.622123\n",
       "Freq: A-DEC, Name: Close, dtype: float64"
      ]
     },
     "execution_count": 20,
     "metadata": {},
     "output_type": "execute_result"
    }
   ],
   "source": [
    "#This is useful when you want to summarize the data in longer time intervals, such as years\n",
    "#And calculate summary statistics, in this case, the annual average of the closing price.\n",
    "df['Close'].resample('Y').mean()"
   ]
  },
  {
   "cell_type": "code",
   "execution_count": 21,
   "id": "8a28f970",
   "metadata": {},
   "outputs": [
    {
     "data": {
      "text/plain": [
       "<AxesSubplot:xlabel='Date'>"
      ]
     },
     "execution_count": 21,
     "metadata": {},
     "output_type": "execute_result"
    },
    {
     "data": {
      "image/png": "[encoded data removed]",
      "text/plain": [
       "<Figure size 432x288 with 1 Axes>"
      ]
     },
     "metadata": {
      "needs_background": "light"
     },
     "output_type": "display_data"
    }
   ],
   "source": [
    "df['Close'].resample('Y').mean().plot()"
   ]
  },
  {
   "cell_type": "code",
   "execution_count": 22,
   "id": "22222fc1",
   "metadata": {},
   "outputs": [
    {
     "data": {
      "text/plain": [
       "<AxesSubplot:xlabel='Date'>"
      ]
     },
     "execution_count": 22,
     "metadata": {},
     "output_type": "execute_result"
    },
    {
     "data": {
      "image/png": "[encoded data removed]",
      "text/plain": [
       "<Figure size 432x288 with 1 Axes>"
      ]
     },
     "metadata": {
      "needs_background": "light"
     },
     "output_type": "display_data"
    }
   ],
   "source": [
    "df['Close'].resample('M').mean().plot()"
   ]
  },
  {
   "cell_type": "code",
   "execution_count": 23,
   "id": "45e0815b",
   "metadata": {},
   "outputs": [
    {
     "data": {
      "text/plain": [
       "<AxesSubplot:xlabel='Date'>"
      ]
     },
     "execution_count": 23,
     "metadata": {},
     "output_type": "execute_result"
    },
    {
     "data": {
      "image/png": "[encoded data removed]",
      "text/plain": [
       "<Figure size 432x288 with 1 Axes>"
      ]
     },
     "metadata": {
      "needs_background": "light"
     },
     "output_type": "display_data"
    }
   ],
   "source": [
    "df['Close'].resample('Q').mean().plot()"
   ]
  },
  {
   "cell_type": "markdown",
   "id": "19c8d125",
   "metadata": {},
   "source": [
    "## ANALYSING DAILY CHANGE IN CLOSING PRICE OF STOCKS"
   ]
  },
  {
   "cell_type": "code",
   "execution_count": 24,
   "id": "f5c4d92f",
   "metadata": {},
   "outputs": [
    {
     "data": {
      "text/plain": [
       "Date\n",
       "2017-07-31          NaN\n",
       "2017-07-30    -4.109427\n",
       "2017-07-29    -1.114545\n",
       "2017-07-28     3.028113\n",
       "2017-07-27    -4.885351\n",
       "                ...    \n",
       "2013-05-02     7.631714\n",
       "2013-05-01    11.196654\n",
       "2013-04-30    18.813574\n",
       "2013-04-29     3.985612\n",
       "2013-04-28    -7.146811\n",
       "Name: Close_price_pct_change, Length: 1556, dtype: float64"
      ]
     },
     "execution_count": 24,
     "metadata": {},
     "output_type": "execute_result"
    }
   ],
   "source": [
    "#it studies the current values with the next one. If one is negative is because is minor than the next one\n",
    "df['Close_price_pct_change'] = df['Close'].pct_change()*100\n",
    "df['Close_price_pct_change']"
   ]
  },
  {
   "cell_type": "code",
   "execution_count": 25,
   "id": "cbff9702",
   "metadata": {},
   "outputs": [
    {
     "data": {
      "application/vnd.plotly.v1+json": {
       "config": {
        "plotlyServerURL": "https://plot.ly"
       },
       "data": [
        {
         "hovertemplate": "Date=%{x}<br>Close_price_pct_change=%{y}<extra></extra>",
         "legendgroup": "",
         "line": {
          "color": "#636efa",
          "dash": "solid"
         },
         "mode": "lines",
         "name": "",
         "showlegend": false,
         "type": "scattergl",
         "x": [
          "2017-07-31T00:00:00",
          "2017-07-30T00:00:00",
          "2017-07-29T00:00:00",
          "2017-07-28T00:00:00",
          "2017-07-27T00:00:00",
          "2017-07-26T00:00:00",
          "2017-07-25T00:00:00",
          "2017-07-24T00:00:00",
          "2017-07-23T00:00:00",
          "2017-07-22T00:00:00",
          "2017-07-21T00:00:00",
          "2017-07-20T00:00:00",
          "2017-07-19T00:00:00",
          "2017-07-18T00:00:00",
          "2017-07-17T00:00:00",
          "2017-07-16T00:00:00",
          "2017-07-15T00:00:00",
          "2017-07-14T00:00:00",
          "2017-07-13T00:00:00",
          "2017-07-12T00:00:00",
          "2017-07-11T00:00:00",
          "2017-07-10T00:00:00",
          "2017-07-09T00:00:00",
          "2017-07-08T00:00:00",
          "2017-07-07T00:00:00",
          "2017-07-06T00:00:00",
          "2017-07-05T00:00:00",
          "2017-07-04T00:00:00",
          "2017-07-03T00:00:00",
          "2017-07-02T00:00:00",
          "2017-07-01T00:00:00",
          "2017-06-30T00:00:00",
          "2017-06-29T00:00:00",
          "2017-06-28T00:00:00",
          "2017-06-27T00:00:00",
          "2017-06-26T00:00:00",
          "2017-06-25T00:00:00",
          "2017-06-24T00:00:00",
          "2017-06-23T00:00:00",
          "2017-06-22T00:00:00",
          "2017-06-21T00:00:00",
          "2017-06-20T00:00:00",
          "2017-06-19T00:00:00",
          "2017-06-18T00:00:00",
          "2017-06-17T00:00:00",
          "2017-06-16T00:00:00",
          "2017-06-15T00:00:00",
          "2017-06-14T00:00:00",
          "2017-06-13T00:00:00",
          "2017-06-12T00:00:00",
          "2017-06-11T00:00:00",
          "2017-06-10T00:00:00",
          "2017-06-09T00:00:00",
          "2017-06-08T00:00:00",
          "2017-06-07T00:00:00",
          "2017-06-06T00:00:00",
          "2017-06-05T00:00:00",
          "2017-06-04T00:00:00",
          "2017-06-03T00:00:00",
          "2017-06-02T00:00:00",
          "2017-06-01T00:00:00",
          "2017-05-31T00:00:00",
          "2017-05-30T00:00:00",
          "2017-05-29T00:00:00",
          "2017-05-28T00:00:00",
          "2017-05-27T00:00:00",
          "2017-05-26T00:00:00",
          "2017-05-25T00:00:00",
          "2017-05-24T00:00:00",
          "2017-05-23T00:00:00",
          "2017-05-22T00:00:00",
          "2017-05-21T00:00:00",
          "2017-05-20T00:00:00",
          "2017-05-19T00:00:00",
          "2017-05-18T00:00:00",
          "2017-05-17T00:00:00",
          "2017-05-16T00:00:00",
          "2017-05-15T00:00:00",
          "2017-05-14T00:00:00",
          "2017-05-13T00:00:00",
          "2017-05-12T00:00:00",
          "2017-05-11T00:00:00",
          "2017-05-10T00:00:00",
          "2017-05-09T00:00:00",
          "2017-05-08T00:00:00",
          "2017-05-07T00:00:00",
          "2017-05-06T00:00:00",
          "2017-05-05T00:00:00",
          "2017-05-04T00:00:00",
          "2017-05-03T00:00:00",
          "2017-05-02T00:00:00",
          "2017-05-01T00:00:00",
          "2017-04-30T00:00:00",
          "2017-04-29T00:00:00",
          "2017-04-28T00:00:00",
          "2017-04-27T00:00:00",
          "2017-04-26T00:00:00",
          "2017-04-25T00:00:00",
          "2017-04-24T00:00:00",
          "2017-04-23T00:00:00",
          "2017-04-22T00:00:00",
          "2017-04-21T00:00:00",
          "2017-04-20T00:00:00",
          "2017-04-19T00:00:00",
          "2017-04-18T00:00:00",
          "2017-04-17T00:00:00",
          "2017-04-16T00:00:00",
          "2017-04-15T00:00:00",
          "2017-04-14T00:00:00",
          "2017-04-13T00:00:00",
          "2017-04-12T00:00:00",
          "2017-04-11T00:00:00",
          "2017-04-10T00:00:00",
          "2017-04-09T00:00:00",
          "2017-04-08T00:00:00",
          "2017-04-07T00:00:00",
          "2017-04-06T00:00:00",
          "2017-04-05T00:00:00",
          "2017-04-04T00:00:00",
          "2017-04-03T00:00:00",
          "2017-04-02T00:00:00",
          "2017-04-01T00:00:00",
          "2017-03-31T00:00:00",
          "2017-03-30T00:00:00",
          "2017-03-29T00:00:00",
          "2017-03-28T00:00:00",
          "2017-03-27T00:00:00",
          "2017-03-26T00:00:00",
          "2017-03-25T00:00:00",
          "2017-03-24T00:00:00",
          "2017-03-23T00:00:00",
          "2017-03-22T00:00:00",
          "2017-03-21T00:00:00",
          "2017-03-20T00:00:00",
          "2017-03-19T00:00:00",
          "2017-03-18T00:00:00",
          "2017-03-17T00:00:00",
          "2017-03-16T00:00:00",
          "2017-03-15T00:00:00",
          "2017-03-14T00:00:00",
          "2017-03-13T00:00:00",
          "2017-03-12T00:00:00",
          "2017-03-11T00:00:00",
          "2017-03-10T00:00:00",
          "2017-03-09T00:00:00",
          "2017-03-08T00:00:00",
          "2017-03-07T00:00:00",
          "2017-03-06T00:00:00",
          "2017-03-05T00:00:00",
          "2017-03-04T00:00:00",
          "2017-03-03T00:00:00",
          "2017-03-02T00:00:00",
          "2017-03-01T00:00:00",
          "2017-02-28T00:00:00",
          "2017-02-27T00:00:00",
          "2017-02-26T00:00:00",
          "2017-02-25T00:00:00",
          "2017-02-24T00:00:00",
          "2017-02-23T00:00:00",
          "2017-02-22T00:00:00",
          "2017-02-21T00:00:00",
          "2017-02-20T00:00:00",
          "2017-02-19T00:00:00",
          "2017-02-18T00:00:00",
          "2017-02-17T00:00:00",
          "2017-02-16T00:00:00",
          "2017-02-15T00:00:00",
          "2017-02-14T00:00:00",
          "2017-02-13T00:00:00",
          "2017-02-12T00:00:00",
          "2017-02-11T00:00:00",
          "2017-02-10T00:00:00",
          "2017-02-09T00:00:00",
          "2017-02-08T00:00:00",
          "2017-02-07T00:00:00",
          "2017-02-06T00:00:00",
          "2017-02-05T00:00:00",
          "2017-02-04T00:00:00",
          "2017-02-03T00:00:00",
          "2017-02-02T00:00:00",
          "2017-02-01T00:00:00",
          "2017-01-31T00:00:00",
          "2017-01-30T00:00:00",
          "2017-01-29T00:00:00",
          "2017-01-28T00:00:00",
          "2017-01-27T00:00:00",
          "2017-01-26T00:00:00",
          "2017-01-25T00:00:00",
          "2017-01-24T00:00:00",
          "2017-01-23T00:00:00",
          "2017-01-22T00:00:00",
          "2017-01-21T00:00:00",
          "2017-01-20T00:00:00",
          "2017-01-19T00:00:00",
          "2017-01-18T00:00:00",
          "2017-01-17T00:00:00",
          "2017-01-16T00:00:00",
          "2017-01-15T00:00:00",
          "2017-01-14T00:00:00",
          "2017-01-13T00:00:00",
          "2017-01-12T00:00:00",
          "2017-01-11T00:00:00",
          "2017-01-10T00:00:00",
          "2017-01-09T00:00:00",
          "2017-01-08T00:00:00",
          "2017-01-07T00:00:00",
          "2017-01-06T00:00:00",
          "2017-01-05T00:00:00",
          "2017-01-04T00:00:00",
          "2017-01-03T00:00:00",
          "2017-01-02T00:00:00",
          "2017-01-01T00:00:00",
          "2016-12-31T00:00:00",
          "2016-12-30T00:00:00",
          "2016-12-29T00:00:00",
          "2016-12-28T00:00:00",
          "2016-12-27T00:00:00",
          "2016-12-26T00:00:00",
          "2016-12-25T00:00:00",
          "2016-12-24T00:00:00",
          "2016-12-23T00:00:00",
          "2016-12-22T00:00:00",
          "2016-12-21T00:00:00",
          "2016-12-20T00:00:00",
          "2016-12-19T00:00:00",
          "2016-12-18T00:00:00",
          "2016-12-17T00:00:00",
          "2016-12-16T00:00:00",
          "2016-12-15T00:00:00",
          "2016-12-14T00:00:00",
          "2016-12-13T00:00:00",
          "2016-12-12T00:00:00",
          "2016-12-11T00:00:00",
          "2016-12-10T00:00:00",
          "2016-12-09T00:00:00",
          "2016-12-08T00:00:00",
          "2016-12-07T00:00:00",
          "2016-12-06T00:00:00",
          "2016-12-05T00:00:00",
          "2016-12-04T00:00:00",
          "2016-12-03T00:00:00",
          "2016-12-02T00:00:00",
          "2016-12-01T00:00:00",
          "2016-11-30T00:00:00",
          "2016-11-29T00:00:00",
          "2016-11-28T00:00:00",
          "2016-11-27T00:00:00",
          "2016-11-26T00:00:00",
          "2016-11-25T00:00:00",
          "2016-11-24T00:00:00",
          "2016-11-23T00:00:00",
          "2016-11-22T00:00:00",
          "2016-11-21T00:00:00",
          "2016-11-20T00:00:00",
          "2016-11-19T00:00:00",
          "2016-11-18T00:00:00",
          "2016-11-17T00:00:00",
          "2016-11-16T00:00:00",
          "2016-11-15T00:00:00",
          "2016-11-14T00:00:00",
          "2016-11-13T00:00:00",
          "2016-11-12T00:00:00",
          "2016-11-11T00:00:00",
          "2016-11-10T00:00:00",
          "2016-11-09T00:00:00",
          "2016-11-08T00:00:00",
          "2016-11-07T00:00:00",
          "2016-11-06T00:00:00",
          "2016-11-05T00:00:00",
          "2016-11-04T00:00:00",
          "2016-11-03T00:00:00",
          "2016-11-02T00:00:00",
          "2016-11-01T00:00:00",
          "2016-10-31T00:00:00",
          "2016-10-30T00:00:00",
          "2016-10-29T00:00:00",
          "2016-10-28T00:00:00",
          "2016-10-27T00:00:00",
          "2016-10-26T00:00:00",
          "2016-10-25T00:00:00",
          "2016-10-24T00:00:00",
          "2016-10-23T00:00:00",
          "2016-10-22T00:00:00",
          "2016-10-21T00:00:00",
          "2016-10-20T00:00:00",
          "2016-10-19T00:00:00",
          "2016-10-18T00:00:00",
          "2016-10-17T00:00:00",
          "2016-10-16T00:00:00",
          "2016-10-15T00:00:00",
          "2016-10-14T00:00:00",
          "2016-10-13T00:00:00",
          "2016-10-12T00:00:00",
          "2016-10-11T00:00:00",
          "2016-10-10T00:00:00",
          "2016-10-09T00:00:00",
          "2016-10-08T00:00:00",
          "2016-10-07T00:00:00",
          "2016-10-06T00:00:00",
          "2016-10-05T00:00:00",
          "2016-10-04T00:00:00",
          "2016-10-03T00:00:00",
          "2016-10-02T00:00:00",
          "2016-10-01T00:00:00",
          "2016-09-30T00:00:00",
          "2016-09-29T00:00:00",
          "2016-09-28T00:00:00",
          "2016-09-27T00:00:00",
          "2016-09-26T00:00:00",
          "2016-09-25T00:00:00",
          "2016-09-24T00:00:00",
          "2016-09-23T00:00:00",
          "2016-09-22T00:00:00",
          "2016-09-21T00:00:00",
          "2016-09-20T00:00:00",
          "2016-09-19T00:00:00",
          "2016-09-18T00:00:00",
          "2016-09-17T00:00:00",
          "2016-09-16T00:00:00",
          "2016-09-15T00:00:00",
          "2016-09-14T00:00:00",
          "2016-09-13T00:00:00",
          "2016-09-12T00:00:00",
          "2016-09-11T00:00:00",
          "2016-09-10T00:00:00",
          "2016-09-09T00:00:00",
          "2016-09-08T00:00:00",
          "2016-09-07T00:00:00",
          "2016-09-06T00:00:00",
          "2016-09-05T00:00:00",
          "2016-09-04T00:00:00",
          "2016-09-03T00:00:00",
          "2016-09-02T00:00:00",
          "2016-09-01T00:00:00",
          "2016-08-31T00:00:00",
          "2016-08-30T00:00:00",
          "2016-08-29T00:00:00",
          "2016-08-28T00:00:00",
          "2016-08-27T00:00:00",
          "2016-08-26T00:00:00",
          "2016-08-25T00:00:00",
          "2016-08-24T00:00:00",
          "2016-08-23T00:00:00",
          "2016-08-22T00:00:00",
          "2016-08-21T00:00:00",
          "2016-08-20T00:00:00",
          "2016-08-19T00:00:00",
          "2016-08-18T00:00:00",
          "2016-08-17T00:00:00",
          "2016-08-16T00:00:00",
          "2016-08-15T00:00:00",
          "2016-08-14T00:00:00",
          "2016-08-13T00:00:00",
          "2016-08-12T00:00:00",
          "2016-08-11T00:00:00",
          "2016-08-10T00:00:00",
          "2016-08-09T00:00:00",
          "2016-08-08T00:00:00",
          "2016-08-07T00:00:00",
          "2016-08-06T00:00:00",
          "2016-08-05T00:00:00",
          "2016-08-04T00:00:00",
          "2016-08-03T00:00:00",
          "2016-08-02T00:00:00",
          "2016-08-01T00:00:00",
          "2016-07-31T00:00:00",
          "2016-07-30T00:00:00",
          "2016-07-29T00:00:00",
          "2016-07-28T00:00:00",
          "2016-07-27T00:00:00",
          "2016-07-26T00:00:00",
          "2016-07-25T00:00:00",
          "2016-07-24T00:00:00",
          "2016-07-23T00:00:00",
          "2016-07-22T00:00:00",
          "2016-07-21T00:00:00",
          "2016-07-20T00:00:00",
          "2016-07-19T00:00:00",
          "2016-07-18T00:00:00",
          "2016-07-17T00:00:00",
          "2016-07-16T00:00:00",
          "2016-07-15T00:00:00",
          "2016-07-14T00:00:00",
          "2016-07-13T00:00:00",
          "2016-07-12T00:00:00",
          "2016-07-11T00:00:00",
          "2016-07-10T00:00:00",
          "2016-07-09T00:00:00",
          "2016-07-08T00:00:00",
          "2016-07-07T00:00:00",
          "2016-07-06T00:00:00",
          "2016-07-05T00:00:00",
          "2016-07-04T00:00:00",
          "2016-07-03T00:00:00",
          "2016-07-02T00:00:00",
          "2016-07-01T00:00:00",
          "2016-06-30T00:00:00",
          "2016-06-29T00:00:00",
          "2016-06-28T00:00:00",
          "2016-06-27T00:00:00",
          "2016-06-26T00:00:00",
          "2016-06-25T00:00:00",
          "2016-06-24T00:00:00",
          "2016-06-23T00:00:00",
          "2016-06-22T00:00:00",
          "2016-06-21T00:00:00",
          "2016-06-20T00:00:00",
          "2016-06-19T00:00:00",
          "2016-06-18T00:00:00",
          "2016-06-17T00:00:00",
          "2016-06-16T00:00:00",
          "2016-06-15T00:00:00",
          "2016-06-14T00:00:00",
          "2016-06-13T00:00:00",
          "2016-06-12T00:00:00",
          "2016-06-11T00:00:00",
          "2016-06-10T00:00:00",
          "2016-06-09T00:00:00",
          "2016-06-08T00:00:00",
          "2016-06-07T00:00:00",
          "2016-06-06T00:00:00",
          "2016-06-05T00:00:00",
          "2016-06-04T00:00:00",
          "2016-06-03T00:00:00",
          "2016-06-02T00:00:00",
          "2016-06-01T00:00:00",
          "2016-05-31T00:00:00",
          "2016-05-30T00:00:00",
          "2016-05-29T00:00:00",
          "2016-05-28T00:00:00",
          "2016-05-27T00:00:00",
          "2016-05-26T00:00:00",
          "2016-05-25T00:00:00",
          "2016-05-24T00:00:00",
          "2016-05-23T00:00:00",
          "2016-05-22T00:00:00",
          "2016-05-21T00:00:00",
          "2016-05-20T00:00:00",
          "2016-05-19T00:00:00",
          "2016-05-18T00:00:00",
          "2016-05-17T00:00:00",
          "2016-05-16T00:00:00",
          "2016-05-15T00:00:00",
          "2016-05-14T00:00:00",
          "2016-05-13T00:00:00",
          "2016-05-12T00:00:00",
          "2016-05-11T00:00:00",
          "2016-05-10T00:00:00",
          "2016-05-09T00:00:00",
          "2016-05-08T00:00:00",
          "2016-05-07T00:00:00",
          "2016-05-06T00:00:00",
          "2016-05-05T00:00:00",
          "2016-05-04T00:00:00",
          "2016-05-03T00:00:00",
          "2016-05-02T00:00:00",
          "2016-05-01T00:00:00",
          "2016-04-30T00:00:00",
          "2016-04-29T00:00:00",
          "2016-04-28T00:00:00",
          "2016-04-27T00:00:00",
          "2016-04-26T00:00:00",
          "2016-04-25T00:00:00",
          "2016-04-24T00:00:00",
          "2016-04-23T00:00:00",
          "2016-04-22T00:00:00",
          "2016-04-21T00:00:00",
          "2016-04-20T00:00:00",
          "2016-04-19T00:00:00",
          "2016-04-18T00:00:00",
          "2016-04-17T00:00:00",
          "2016-04-16T00:00:00",
          "2016-04-15T00:00:00",
          "2016-04-14T00:00:00",
          "2016-04-13T00:00:00",
          "2016-04-12T00:00:00",
          "2016-04-11T00:00:00",
          "2016-04-10T00:00:00",
          "2016-04-09T00:00:00",
          "2016-04-08T00:00:00",
          "2016-04-07T00:00:00",
          "2016-04-06T00:00:00",
          "2016-04-05T00:00:00",
          "2016-04-04T00:00:00",
          "2016-04-03T00:00:00",
          "2016-04-02T00:00:00",
          "2016-04-01T00:00:00",
          "2016-03-31T00:00:00",
          "2016-03-30T00:00:00",
          "2016-03-29T00:00:00",
          "2016-03-28T00:00:00",
          "2016-03-27T00:00:00",
          "2016-03-26T00:00:00",
          "2016-03-25T00:00:00",
          "2016-03-24T00:00:00",
          "2016-03-23T00:00:00",
          "2016-03-22T00:00:00",
          "2016-03-21T00:00:00",
          "2016-03-20T00:00:00",
          "2016-03-19T00:00:00",
          "2016-03-18T00:00:00",
          "2016-03-17T00:00:00",
          "2016-03-16T00:00:00",
          "2016-03-15T00:00:00",
          "2016-03-14T00:00:00",
          "2016-03-13T00:00:00",
          "2016-03-12T00:00:00",
          "2016-03-11T00:00:00",
          "2016-03-10T00:00:00",
          "2016-03-09T00:00:00",
          "2016-03-08T00:00:00",
          "2016-03-07T00:00:00",
          "2016-03-06T00:00:00",
          "2016-03-05T00:00:00",
          "2016-03-04T00:00:00",
          "2016-03-03T00:00:00",
          "2016-03-02T00:00:00",
          "2016-03-01T00:00:00",
          "2016-02-29T00:00:00",
          "2016-02-28T00:00:00",
          "2016-02-27T00:00:00",
          "2016-02-26T00:00:00",
          "2016-02-25T00:00:00",
          "2016-02-24T00:00:00",
          "2016-02-23T00:00:00",
          "2016-02-22T00:00:00",
          "2016-02-21T00:00:00",
          "2016-02-20T00:00:00",
          "2016-02-19T00:00:00",
          "2016-02-18T00:00:00",
          "2016-02-17T00:00:00",
          "2016-02-16T00:00:00",
          "2016-02-15T00:00:00",
          "2016-02-14T00:00:00",
          "2016-02-13T00:00:00",
          "2016-02-12T00:00:00",
          "2016-02-11T00:00:00",
          "2016-02-10T00:00:00",
          "2016-02-09T00:00:00",
          "2016-02-08T00:00:00",
          "2016-02-07T00:00:00",
          "2016-02-06T00:00:00",
          "2016-02-05T00:00:00",
          "2016-02-04T00:00:00",
          "2016-02-03T00:00:00",
          "2016-02-02T00:00:00",
          "2016-02-01T00:00:00",
          "2016-01-31T00:00:00",
          "2016-01-30T00:00:00",
          "2016-01-29T00:00:00",
          "2016-01-28T00:00:00",
          "2016-01-27T00:00:00",
          "2016-01-26T00:00:00",
          "2016-01-25T00:00:00",
          "2016-01-24T00:00:00",
          "2016-01-23T00:00:00",
          "2016-01-22T00:00:00",
          "2016-01-21T00:00:00",
          "2016-01-20T00:00:00",
          "2016-01-19T00:00:00",
          "2016-01-18T00:00:00",
          "2016-01-17T00:00:00",
          "2016-01-16T00:00:00",
          "2016-01-15T00:00:00",
          "2016-01-14T00:00:00",
          "2016-01-13T00:00:00",
          "2016-01-12T00:00:00",
          "2016-01-11T00:00:00",
          "2016-01-10T00:00:00",
          "2016-01-09T00:00:00",
          "2016-01-08T00:00:00",
          "2016-01-07T00:00:00",
          "2016-01-06T00:00:00",
          "2016-01-05T00:00:00",
          "2016-01-04T00:00:00",
          "2016-01-03T00:00:00",
          "2016-01-02T00:00:00",
          "2016-01-01T00:00:00",
          "2015-12-31T00:00:00",
          "2015-12-30T00:00:00",
          "2015-12-29T00:00:00",
          "2015-12-28T00:00:00",
          "2015-12-27T00:00:00",
          "2015-12-26T00:00:00",
          "2015-12-25T00:00:00",
          "2015-12-24T00:00:00",
          "2015-12-23T00:00:00",
          "2015-12-22T00:00:00",
          "2015-12-21T00:00:00",
          "2015-12-20T00:00:00",
          "2015-12-19T00:00:00",
          "2015-12-18T00:00:00",
          "2015-12-17T00:00:00",
          "2015-12-16T00:00:00",
          "2015-12-15T00:00:00",
          "2015-12-14T00:00:00",
          "2015-12-13T00:00:00",
          "2015-12-12T00:00:00",
          "2015-12-11T00:00:00",
          "2015-12-10T00:00:00",
          "2015-12-09T00:00:00",
          "2015-12-08T00:00:00",
          "2015-12-07T00:00:00",
          "2015-12-06T00:00:00",
          "2015-12-05T00:00:00",
          "2015-12-04T00:00:00",
          "2015-12-03T00:00:00",
          "2015-12-02T00:00:00",
          "2015-12-01T00:00:00",
          "2015-11-30T00:00:00",
          "2015-11-29T00:00:00",
          "2015-11-28T00:00:00",
          "2015-11-27T00:00:00",
          "2015-11-26T00:00:00",
          "2015-11-25T00:00:00",
          "2015-11-24T00:00:00",
          "2015-11-23T00:00:00",
          "2015-11-22T00:00:00",
          "2015-11-21T00:00:00",
          "2015-11-20T00:00:00",
          "2015-11-19T00:00:00",
          "2015-11-18T00:00:00",
          "2015-11-17T00:00:00",
          "2015-11-16T00:00:00",
          "2015-11-15T00:00:00",
          "2015-11-14T00:00:00",
          "2015-11-13T00:00:00",
          "2015-11-12T00:00:00",
          "2015-11-11T00:00:00",
          "2015-11-10T00:00:00",
          "2015-11-09T00:00:00",
          "2015-11-08T00:00:00",
          "2015-11-07T00:00:00",
          "2015-11-06T00:00:00",
          "2015-11-05T00:00:00",
          "2015-11-04T00:00:00",
          "2015-11-03T00:00:00",
          "2015-11-02T00:00:00",
          "2015-11-01T00:00:00",
          "2015-10-31T00:00:00",
          "2015-10-30T00:00:00",
          "2015-10-29T00:00:00",
          "2015-10-28T00:00:00",
          "2015-10-27T00:00:00",
          "2015-10-26T00:00:00",
          "2015-10-25T00:00:00",
          "2015-10-24T00:00:00",
          "2015-10-23T00:00:00",
          "2015-10-22T00:00:00",
          "2015-10-21T00:00:00",
          "2015-10-20T00:00:00",
          "2015-10-19T00:00:00",
          "2015-10-18T00:00:00",
          "2015-10-17T00:00:00",
          "2015-10-16T00:00:00",
          "2015-10-15T00:00:00",
          "2015-10-14T00:00:00",
          "2015-10-13T00:00:00",
          "2015-10-12T00:00:00",
          "2015-10-11T00:00:00",
          "2015-10-10T00:00:00",
          "2015-10-09T00:00:00",
          "2015-10-08T00:00:00",
          "2015-10-07T00:00:00",
          "2015-10-06T00:00:00",
          "2015-10-05T00:00:00",
          "2015-10-04T00:00:00",
          "2015-10-03T00:00:00",
          "2015-10-02T00:00:00",
          "2015-10-01T00:00:00",
          "2015-09-30T00:00:00",
          "2015-09-29T00:00:00",
          "2015-09-28T00:00:00",
          "2015-09-27T00:00:00",
          "2015-09-26T00:00:00",
          "2015-09-25T00:00:00",
          "2015-09-24T00:00:00",
          "2015-09-23T00:00:00",
          "2015-09-22T00:00:00",
          "2015-09-21T00:00:00",
          "2015-09-20T00:00:00",
          "2015-09-19T00:00:00",
          "2015-09-18T00:00:00",
          "2015-09-17T00:00:00",
          "2015-09-16T00:00:00",
          "2015-09-15T00:00:00",
          "2015-09-14T00:00:00",
          "2015-09-13T00:00:00",
          "2015-09-12T00:00:00",
          "2015-09-11T00:00:00",
          "2015-09-10T00:00:00",
          "2015-09-09T00:00:00",
          "2015-09-08T00:00:00",
          "2015-09-07T00:00:00",
          "2015-09-06T00:00:00",
          "2015-09-05T00:00:00",
          "2015-09-04T00:00:00",
          "2015-09-03T00:00:00",
          "2015-09-02T00:00:00",
          "2015-09-01T00:00:00",
          "2015-08-31T00:00:00",
          "2015-08-30T00:00:00",
          "2015-08-29T00:00:00",
          "2015-08-28T00:00:00",
          "2015-08-27T00:00:00",
          "2015-08-26T00:00:00",
          "2015-08-25T00:00:00",
          "2015-08-24T00:00:00",
          "2015-08-23T00:00:00",
          "2015-08-22T00:00:00",
          "2015-08-21T00:00:00",
          "2015-08-20T00:00:00",
          "2015-08-19T00:00:00",
          "2015-08-18T00:00:00",
          "2015-08-17T00:00:00",
          "2015-08-16T00:00:00",
          "2015-08-15T00:00:00",
          "2015-08-14T00:00:00",
          "2015-08-13T00:00:00",
          "2015-08-12T00:00:00",
          "2015-08-11T00:00:00",
          "2015-08-10T00:00:00",
          "2015-08-09T00:00:00",
          "2015-08-08T00:00:00",
          "2015-08-07T00:00:00",
          "2015-08-06T00:00:00",
          "2015-08-05T00:00:00",
          "2015-08-04T00:00:00",
          "2015-08-03T00:00:00",
          "2015-08-02T00:00:00",
          "2015-08-01T00:00:00",
          "2015-07-31T00:00:00",
          "2015-07-30T00:00:00",
          "2015-07-29T00:00:00",
          "2015-07-28T00:00:00",
          "2015-07-27T00:00:00",
          "2015-07-26T00:00:00",
          "2015-07-25T00:00:00",
          "2015-07-24T00:00:00",
          "2015-07-23T00:00:00",
          "2015-07-22T00:00:00",
          "2015-07-21T00:00:00",
          "2015-07-20T00:00:00",
          "2015-07-19T00:00:00",
          "2015-07-18T00:00:00",
          "2015-07-17T00:00:00",
          "2015-07-16T00:00:00",
          "2015-07-15T00:00:00",
          "2015-07-14T00:00:00",
          "2015-07-13T00:00:00",
          "2015-07-12T00:00:00",
          "2015-07-11T00:00:00",
          "2015-07-10T00:00:00",
          "2015-07-09T00:00:00",
          "2015-07-08T00:00:00",
          "2015-07-07T00:00:00",
          "2015-07-06T00:00:00",
          "2015-07-05T00:00:00",
          "2015-07-04T00:00:00",
          "2015-07-03T00:00:00",
          "2015-07-02T00:00:00",
          "2015-07-01T00:00:00",
          "2015-06-30T00:00:00",
          "2015-06-29T00:00:00",
          "2015-06-28T00:00:00",
          "2015-06-27T00:00:00",
          "2015-06-26T00:00:00",
          "2015-06-25T00:00:00",
          "2015-06-24T00:00:00",
          "2015-06-23T00:00:00",
          "2015-06-22T00:00:00",
          "2015-06-21T00:00:00",
          "2015-06-20T00:00:00",
          "2015-06-19T00:00:00",
          "2015-06-18T00:00:00",
          "2015-06-17T00:00:00",
          "2015-06-16T00:00:00",
          "2015-06-15T00:00:00",
          "2015-06-14T00:00:00",
          "2015-06-13T00:00:00",
          "2015-06-12T00:00:00",
          "2015-06-11T00:00:00",
          "2015-06-10T00:00:00",
          "2015-06-09T00:00:00",
          "2015-06-08T00:00:00",
          "2015-06-07T00:00:00",
          "2015-06-06T00:00:00",
          "2015-06-05T00:00:00",
          "2015-06-04T00:00:00",
          "2015-06-03T00:00:00",
          "2015-06-02T00:00:00",
          "2015-06-01T00:00:00",
          "2015-05-31T00:00:00",
          "2015-05-30T00:00:00",
          "2015-05-29T00:00:00",
          "2015-05-28T00:00:00",
          "2015-05-27T00:00:00",
          "2015-05-26T00:00:00",
          "2015-05-25T00:00:00",
          "2015-05-24T00:00:00",
          "2015-05-23T00:00:00",
          "2015-05-22T00:00:00",
          "2015-05-21T00:00:00",
          "2015-05-20T00:00:00",
          "2015-05-19T00:00:00",
          "2015-05-18T00:00:00",
          "2015-05-17T00:00:00",
          "2015-05-16T00:00:00",
          "2015-05-15T00:00:00",
          "2015-05-14T00:00:00",
          "2015-05-13T00:00:00",
          "2015-05-12T00:00:00",
          "2015-05-11T00:00:00",
          "2015-05-10T00:00:00",
          "2015-05-09T00:00:00",
          "2015-05-08T00:00:00",
          "2015-05-07T00:00:00",
          "2015-05-06T00:00:00",
          "2015-05-05T00:00:00",
          "2015-05-04T00:00:00",
          "2015-05-03T00:00:00",
          "2015-05-02T00:00:00",
          "2015-05-01T00:00:00",
          "2015-04-30T00:00:00",
          "2015-04-29T00:00:00",
          "2015-04-28T00:00:00",
          "2015-04-27T00:00:00",
          "2015-04-26T00:00:00",
          "2015-04-25T00:00:00",
          "2015-04-24T00:00:00",
          "2015-04-23T00:00:00",
          "2015-04-22T00:00:00",
          "2015-04-21T00:00:00",
          "2015-04-20T00:00:00",
          "2015-04-19T00:00:00",
          "2015-04-18T00:00:00",
          "2015-04-17T00:00:00",
          "2015-04-16T00:00:00",
          "2015-04-15T00:00:00",
          "2015-04-14T00:00:00",
          "2015-04-13T00:00:00",
          "2015-04-12T00:00:00",
          "2015-04-11T00:00:00",
          "2015-04-10T00:00:00",
          "2015-04-09T00:00:00",
          "2015-04-08T00:00:00",
          "2015-04-07T00:00:00",
          "2015-04-06T00:00:00",
          "2015-04-05T00:00:00",
          "2015-04-04T00:00:00",
          "2015-04-03T00:00:00",
          "2015-04-02T00:00:00",
          "2015-04-01T00:00:00",
          "2015-03-31T00:00:00",
          "2015-03-30T00:00:00",
          "2015-03-29T00:00:00",
          "2015-03-28T00:00:00",
          "2015-03-27T00:00:00",
          "2015-03-26T00:00:00",
          "2015-03-25T00:00:00",
          "2015-03-24T00:00:00",
          "2015-03-23T00:00:00",
          "2015-03-22T00:00:00",
          "2015-03-21T00:00:00",
          "2015-03-20T00:00:00",
          "2015-03-19T00:00:00",
          "2015-03-18T00:00:00",
          "2015-03-17T00:00:00",
          "2015-03-16T00:00:00",
          "2015-03-15T00:00:00",
          "2015-03-14T00:00:00",
          "2015-03-13T00:00:00",
          "2015-03-12T00:00:00",
          "2015-03-11T00:00:00",
          "2015-03-10T00:00:00",
          "2015-03-09T00:00:00",
          "2015-03-08T00:00:00",
          "2015-03-07T00:00:00",
          "2015-03-06T00:00:00",
          "2015-03-05T00:00:00",
          "2015-03-04T00:00:00",
          "2015-03-03T00:00:00",
          "2015-03-02T00:00:00",
          "2015-03-01T00:00:00",
          "2015-02-28T00:00:00",
          "2015-02-27T00:00:00",
          "2015-02-26T00:00:00",
          "2015-02-25T00:00:00",
          "2015-02-24T00:00:00",
          "2015-02-23T00:00:00",
          "2015-02-22T00:00:00",
          "2015-02-21T00:00:00",
          "2015-02-20T00:00:00",
          "2015-02-19T00:00:00",
          "2015-02-18T00:00:00",
          "2015-02-17T00:00:00",
          "2015-02-16T00:00:00",
          "2015-02-15T00:00:00",
          "2015-02-14T00:00:00",
          "2015-02-13T00:00:00",
          "2015-02-12T00:00:00",
          "2015-02-11T00:00:00",
          "2015-02-10T00:00:00",
          "2015-02-09T00:00:00",
          "2015-02-08T00:00:00",
          "2015-02-07T00:00:00",
          "2015-02-06T00:00:00",
          "2015-02-05T00:00:00",
          "2015-02-04T00:00:00",
          "2015-02-03T00:00:00",
          "2015-02-02T00:00:00",
          "2015-02-01T00:00:00",
          "2015-01-31T00:00:00",
          "2015-01-30T00:00:00",
          "2015-01-29T00:00:00",
          "2015-01-28T00:00:00",
          "2015-01-27T00:00:00",
          "2015-01-26T00:00:00",
          "2015-01-25T00:00:00",
          "2015-01-24T00:00:00",
          "2015-01-23T00:00:00",
          "2015-01-22T00:00:00",
          "2015-01-21T00:00:00",
          "2015-01-20T00:00:00",
          "2015-01-19T00:00:00",
          "2015-01-18T00:00:00",
          "2015-01-17T00:00:00",
          "2015-01-16T00:00:00",
          "2015-01-15T00:00:00",
          "2015-01-14T00:00:00",
          "2015-01-13T00:00:00",
          "2015-01-12T00:00:00",
          "2015-01-11T00:00:00",
          "2015-01-10T00:00:00",
          "2015-01-09T00:00:00",
          "2015-01-08T00:00:00",
          "2015-01-07T00:00:00",
          "2015-01-06T00:00:00",
          "2015-01-05T00:00:00",
          "2015-01-04T00:00:00",
          "2015-01-03T00:00:00",
          "2015-01-02T00:00:00",
          "2015-01-01T00:00:00",
          "2014-12-31T00:00:00",
          "2014-12-30T00:00:00",
          "2014-12-29T00:00:00",
          "2014-12-28T00:00:00",
          "2014-12-27T00:00:00",
          "2014-12-26T00:00:00",
          "2014-12-25T00:00:00",
          "2014-12-24T00:00:00",
          "2014-12-23T00:00:00",
          "2014-12-22T00:00:00",
          "2014-12-21T00:00:00",
          "2014-12-20T00:00:00",
          "2014-12-19T00:00:00",
          "2014-12-18T00:00:00",
          "2014-12-17T00:00:00",
          "2014-12-16T00:00:00",
          "2014-12-15T00:00:00",
          "2014-12-14T00:00:00",
          "2014-12-13T00:00:00",
          "2014-12-12T00:00:00",
          "2014-12-11T00:00:00",
          "2014-12-10T00:00:00",
          "2014-12-09T00:00:00",
          "2014-12-08T00:00:00",
          "2014-12-07T00:00:00",
          "2014-12-06T00:00:00",
          "2014-12-05T00:00:00",
          "2014-12-04T00:00:00",
          "2014-12-03T00:00:00",
          "2014-12-02T00:00:00",
          "2014-12-01T00:00:00",
          "2014-11-30T00:00:00",
          "2014-11-29T00:00:00",
          "2014-11-28T00:00:00",
          "2014-11-27T00:00:00",
          "2014-11-26T00:00:00",
          "2014-11-25T00:00:00",
          "2014-11-24T00:00:00",
          "2014-11-23T00:00:00",
          "2014-11-22T00:00:00",
          "2014-11-21T00:00:00",
          "2014-11-20T00:00:00",
          "2014-11-19T00:00:00",
          "2014-11-18T00:00:00",
          "2014-11-17T00:00:00",
          "2014-11-16T00:00:00",
          "2014-11-15T00:00:00",
          "2014-11-14T00:00:00",
          "2014-11-13T00:00:00",
          "2014-11-12T00:00:00",
          "2014-11-11T00:00:00",
          "2014-11-10T00:00:00",
          "2014-11-09T00:00:00",
          "2014-11-08T00:00:00",
          "2014-11-07T00:00:00",
          "2014-11-06T00:00:00",
          "2014-11-05T00:00:00",
          "2014-11-04T00:00:00",
          "2014-11-03T00:00:00",
          "2014-11-02T00:00:00",
          "2014-11-01T00:00:00",
          "2014-10-31T00:00:00",
          "2014-10-30T00:00:00",
          "2014-10-29T00:00:00",
          "2014-10-28T00:00:00",
          "2014-10-27T00:00:00",
          "2014-10-26T00:00:00",
          "2014-10-25T00:00:00",
          "2014-10-24T00:00:00",
          "2014-10-23T00:00:00",
          "2014-10-22T00:00:00",
          "2014-10-21T00:00:00",
          "2014-10-20T00:00:00",
          "2014-10-19T00:00:00",
          "2014-10-18T00:00:00",
          "2014-10-17T00:00:00",
          "2014-10-16T00:00:00",
          "2014-10-15T00:00:00",
          "2014-10-14T00:00:00",
          "2014-10-13T00:00:00",
          "2014-10-12T00:00:00",
          "2014-10-11T00:00:00",
          "2014-10-10T00:00:00",
          "2014-10-09T00:00:00",
          "2014-10-08T00:00:00",
          "2014-10-07T00:00:00",
          "2014-10-06T00:00:00",
          "2014-10-05T00:00:00",
          "2014-10-04T00:00:00",
          "2014-10-03T00:00:00",
          "2014-10-02T00:00:00",
          "2014-10-01T00:00:00",
          "2014-09-30T00:00:00",
          "2014-09-29T00:00:00",
          "2014-09-28T00:00:00",
          "2014-09-27T00:00:00",
          "2014-09-26T00:00:00",
          "2014-09-25T00:00:00",
          "2014-09-24T00:00:00",
          "2014-09-23T00:00:00",
          "2014-09-22T00:00:00",
          "2014-09-21T00:00:00",
          "2014-09-20T00:00:00",
          "2014-09-19T00:00:00",
          "2014-09-18T00:00:00",
          "2014-09-17T00:00:00",
          "2014-09-16T00:00:00",
          "2014-09-15T00:00:00",
          "2014-09-14T00:00:00",
          "2014-09-13T00:00:00",
          "2014-09-12T00:00:00",
          "2014-09-11T00:00:00",
          "2014-09-10T00:00:00",
          "2014-09-09T00:00:00",
          "2014-09-08T00:00:00",
          "2014-09-07T00:00:00",
          "2014-09-06T00:00:00",
          "2014-09-05T00:00:00",
          "2014-09-04T00:00:00",
          "2014-09-03T00:00:00",
          "2014-09-02T00:00:00",
          "2014-09-01T00:00:00",
          "2014-08-31T00:00:00",
          "2014-08-30T00:00:00",
          "2014-08-29T00:00:00",
          "2014-08-28T00:00:00",
          "2014-08-27T00:00:00",
          "2014-08-26T00:00:00",
          "2014-08-25T00:00:00",
          "2014-08-24T00:00:00",
          "2014-08-23T00:00:00",
          "2014-08-22T00:00:00",
          "2014-08-21T00:00:00",
          "2014-08-20T00:00:00",
          "2014-08-19T00:00:00",
          "2014-08-18T00:00:00",
          "2014-08-17T00:00:00",
          "2014-08-16T00:00:00",
          "2014-08-15T00:00:00",
          "2014-08-14T00:00:00",
          "2014-08-13T00:00:00",
          "2014-08-12T00:00:00",
          "2014-08-11T00:00:00",
          "2014-08-10T00:00:00",
          "2014-08-09T00:00:00",
          "2014-08-08T00:00:00",
          "2014-08-07T00:00:00",
          "2014-08-06T00:00:00",
          "2014-08-05T00:00:00",
          "2014-08-04T00:00:00",
          "2014-08-03T00:00:00",
          "2014-08-02T00:00:00",
          "2014-08-01T00:00:00",
          "2014-07-31T00:00:00",
          "2014-07-30T00:00:00",
          "2014-07-29T00:00:00",
          "2014-07-28T00:00:00",
          "2014-07-27T00:00:00",
          "2014-07-26T00:00:00",
          "2014-07-25T00:00:00",
          "2014-07-24T00:00:00",
          "2014-07-23T00:00:00",
          "2014-07-22T00:00:00",
          "2014-07-21T00:00:00",
          "2014-07-20T00:00:00",
          "2014-07-19T00:00:00",
          "2014-07-18T00:00:00",
          "2014-07-17T00:00:00",
          "2014-07-16T00:00:00",
          "2014-07-15T00:00:00",
          "2014-07-14T00:00:00",
          "2014-07-13T00:00:00",
          "2014-07-12T00:00:00",
          "2014-07-11T00:00:00",
          "2014-07-10T00:00:00",
          "2014-07-09T00:00:00",
          "2014-07-08T00:00:00",
          "2014-07-07T00:00:00",
          "2014-07-06T00:00:00",
          "2014-07-05T00:00:00",
          "2014-07-04T00:00:00",
          "2014-07-03T00:00:00",
          "2014-07-02T00:00:00",
          "2014-07-01T00:00:00",
          "2014-06-30T00:00:00",
          "2014-06-29T00:00:00",
          "2014-06-28T00:00:00",
          "2014-06-27T00:00:00",
          "2014-06-26T00:00:00",
          "2014-06-25T00:00:00",
          "2014-06-24T00:00:00",
          "2014-06-23T00:00:00",
          "2014-06-22T00:00:00",
          "2014-06-21T00:00:00",
          "2014-06-20T00:00:00",
          "2014-06-19T00:00:00",
          "2014-06-18T00:00:00",
          "2014-06-17T00:00:00",
          "2014-06-16T00:00:00",
          "2014-06-15T00:00:00",
          "2014-06-14T00:00:00",
          "2014-06-13T00:00:00",
          "2014-06-12T00:00:00",
          "2014-06-11T00:00:00",
          "2014-06-10T00:00:00",
          "2014-06-09T00:00:00",
          "2014-06-08T00:00:00",
          "2014-06-07T00:00:00",
          "2014-06-06T00:00:00",
          "2014-06-05T00:00:00",
          "2014-06-04T00:00:00",
          "2014-06-03T00:00:00",
          "2014-06-02T00:00:00",
          "2014-06-01T00:00:00",
          "2014-05-31T00:00:00",
          "2014-05-30T00:00:00",
          "2014-05-29T00:00:00",
          "2014-05-28T00:00:00",
          "2014-05-27T00:00:00",
          "2014-05-26T00:00:00",
          "2014-05-25T00:00:00",
          "2014-05-24T00:00:00",
          "2014-05-23T00:00:00",
          "2014-05-22T00:00:00",
          "2014-05-21T00:00:00",
          "2014-05-20T00:00:00",
          "2014-05-19T00:00:00",
          "2014-05-18T00:00:00",
          "2014-05-17T00:00:00",
          "2014-05-16T00:00:00",
          "2014-05-15T00:00:00",
          "2014-05-14T00:00:00",
          "2014-05-13T00:00:00",
          "2014-05-12T00:00:00",
          "2014-05-11T00:00:00",
          "2014-05-10T00:00:00",
          "2014-05-09T00:00:00",
          "2014-05-08T00:00:00",
          "2014-05-07T00:00:00",
          "2014-05-06T00:00:00",
          "2014-05-05T00:00:00",
          "2014-05-04T00:00:00",
          "2014-05-03T00:00:00",
          "2014-05-02T00:00:00",
          "2014-05-01T00:00:00",
          "2014-04-30T00:00:00",
          "2014-04-29T00:00:00",
          "2014-04-28T00:00:00",
          "2014-04-27T00:00:00",
          "2014-04-26T00:00:00",
          "2014-04-25T00:00:00",
          "2014-04-24T00:00:00",
          "2014-04-23T00:00:00",
          "2014-04-22T00:00:00",
          "2014-04-21T00:00:00",
          "2014-04-20T00:00:00",
          "2014-04-19T00:00:00",
          "2014-04-18T00:00:00",
          "2014-04-17T00:00:00",
          "2014-04-16T00:00:00",
          "2014-04-15T00:00:00",
          "2014-04-14T00:00:00",
          "2014-04-13T00:00:00",
          "2014-04-12T00:00:00",
          "2014-04-11T00:00:00",
          "2014-04-10T00:00:00",
          "2014-04-09T00:00:00",
          "2014-04-08T00:00:00",
          "2014-04-07T00:00:00",
          "2014-04-06T00:00:00",
          "2014-04-05T00:00:00",
          "2014-04-04T00:00:00",
          "2014-04-03T00:00:00",
          "2014-04-02T00:00:00",
          "2014-04-01T00:00:00",
          "2014-03-31T00:00:00",
          "2014-03-30T00:00:00",
          "2014-03-29T00:00:00",
          "2014-03-28T00:00:00",
          "2014-03-27T00:00:00",
          "2014-03-26T00:00:00",
          "2014-03-25T00:00:00",
          "2014-03-24T00:00:00",
          "2014-03-23T00:00:00",
          "2014-03-22T00:00:00",
          "2014-03-21T00:00:00",
          "2014-03-20T00:00:00",
          "2014-03-19T00:00:00",
          "2014-03-18T00:00:00",
          "2014-03-17T00:00:00",
          "2014-03-16T00:00:00",
          "2014-03-15T00:00:00",
          "2014-03-14T00:00:00",
          "2014-03-13T00:00:00",
          "2014-03-12T00:00:00",
          "2014-03-11T00:00:00",
          "2014-03-10T00:00:00",
          "2014-03-09T00:00:00",
          "2014-03-08T00:00:00",
          "2014-03-07T00:00:00",
          "2014-03-06T00:00:00",
          "2014-03-05T00:00:00",
          "2014-03-04T00:00:00",
          "2014-03-03T00:00:00",
          "2014-03-02T00:00:00",
          "2014-03-01T00:00:00",
          "2014-02-28T00:00:00",
          "2014-02-27T00:00:00",
          "2014-02-26T00:00:00",
          "2014-02-25T00:00:00",
          "2014-02-24T00:00:00",
          "2014-02-23T00:00:00",
          "2014-02-22T00:00:00",
          "2014-02-21T00:00:00",
          "2014-02-20T00:00:00",
          "2014-02-19T00:00:00",
          "2014-02-18T00:00:00",
          "2014-02-17T00:00:00",
          "2014-02-16T00:00:00",
          "2014-02-15T00:00:00",
          "2014-02-14T00:00:00",
          "2014-02-13T00:00:00",
          "2014-02-12T00:00:00",
          "2014-02-11T00:00:00",
          "2014-02-10T00:00:00",
          "2014-02-09T00:00:00",
          "2014-02-08T00:00:00",
          "2014-02-07T00:00:00",
          "2014-02-06T00:00:00",
          "2014-02-05T00:00:00",
          "2014-02-04T00:00:00",
          "2014-02-03T00:00:00",
          "2014-02-02T00:00:00",
          "2014-02-01T00:00:00",
          "2014-01-31T00:00:00",
          "2014-01-30T00:00:00",
          "2014-01-29T00:00:00",
          "2014-01-28T00:00:00",
          "2014-01-27T00:00:00",
          "2014-01-26T00:00:00",
          "2014-01-25T00:00:00",
          "2014-01-24T00:00:00",
          "2014-01-23T00:00:00",
          "2014-01-22T00:00:00",
          "2014-01-21T00:00:00",
          "2014-01-20T00:00:00",
          "2014-01-19T00:00:00",
          "2014-01-18T00:00:00",
          "2014-01-17T00:00:00",
          "2014-01-16T00:00:00",
          "2014-01-15T00:00:00",
          "2014-01-14T00:00:00",
          "2014-01-13T00:00:00",
          "2014-01-12T00:00:00",
          "2014-01-11T00:00:00",
          "2014-01-10T00:00:00",
          "2014-01-09T00:00:00",
          "2014-01-08T00:00:00",
          "2014-01-07T00:00:00",
          "2014-01-06T00:00:00",
          "2014-01-05T00:00:00",
          "2014-01-04T00:00:00",
          "2014-01-03T00:00:00",
          "2014-01-02T00:00:00",
          "2014-01-01T00:00:00",
          "2013-12-31T00:00:00",
          "2013-12-30T00:00:00",
          "2013-12-29T00:00:00",
          "2013-12-28T00:00:00",
          "2013-12-27T00:00:00",
          "2013-12-26T00:00:00",
          "2013-12-25T00:00:00",
          "2013-12-24T00:00:00",
          "2013-12-23T00:00:00",
          "2013-12-22T00:00:00",
          "2013-12-21T00:00:00",
          "2013-12-20T00:00:00",
          "2013-12-19T00:00:00",
          "2013-12-18T00:00:00",
          "2013-12-17T00:00:00",
          "2013-12-16T00:00:00",
          "2013-12-15T00:00:00",
          "2013-12-14T00:00:00",
          "2013-12-13T00:00:00",
          "2013-12-12T00:00:00",
          "2013-12-11T00:00:00",
          "2013-12-10T00:00:00",
          "2013-12-09T00:00:00",
          "2013-12-08T00:00:00",
          "2013-12-07T00:00:00",
          "2013-12-06T00:00:00",
          "2013-12-05T00:00:00",
          "2013-12-04T00:00:00",
          "2013-12-03T00:00:00",
          "2013-12-02T00:00:00",
          "2013-12-01T00:00:00",
          "2013-11-30T00:00:00",
          "2013-11-29T00:00:00",
          "2013-11-28T00:00:00",
          "2013-11-27T00:00:00",
          "2013-11-26T00:00:00",
          "2013-11-25T00:00:00",
          "2013-11-24T00:00:00",
          "2013-11-23T00:00:00",
          "2013-11-22T00:00:00",
          "2013-11-21T00:00:00",
          "2013-11-20T00:00:00",
          "2013-11-19T00:00:00",
          "2013-11-18T00:00:00",
          "2013-11-17T00:00:00",
          "2013-11-16T00:00:00",
          "2013-11-15T00:00:00",
          "2013-11-14T00:00:00",
          "2013-11-13T00:00:00",
          "2013-11-12T00:00:00",
          "2013-11-11T00:00:00",
          "2013-11-10T00:00:00",
          "2013-11-09T00:00:00",
          "2013-11-08T00:00:00",
          "2013-11-07T00:00:00",
          "2013-11-06T00:00:00",
          "2013-11-05T00:00:00",
          "2013-11-04T00:00:00",
          "2013-11-03T00:00:00",
          "2013-11-02T00:00:00",
          "2013-11-01T00:00:00",
          "2013-10-31T00:00:00",
          "2013-10-30T00:00:00",
          "2013-10-29T00:00:00",
          "2013-10-28T00:00:00",
          "2013-10-27T00:00:00",
          "2013-10-26T00:00:00",
          "2013-10-25T00:00:00",
          "2013-10-24T00:00:00",
          "2013-10-23T00:00:00",
          "2013-10-22T00:00:00",
          "2013-10-21T00:00:00",
          "2013-10-20T00:00:00",
          "2013-10-19T00:00:00",
          "2013-10-18T00:00:00",
          "2013-10-17T00:00:00",
          "2013-10-16T00:00:00",
          "2013-10-15T00:00:00",
          "2013-10-14T00:00:00",
          "2013-10-13T00:00:00",
          "2013-10-12T00:00:00",
          "2013-10-11T00:00:00",
          "2013-10-10T00:00:00",
          "2013-10-09T00:00:00",
          "2013-10-08T00:00:00",
          "2013-10-07T00:00:00",
          "2013-10-06T00:00:00",
          "2013-10-05T00:00:00",
          "2013-10-04T00:00:00",
          "2013-10-03T00:00:00",
          "2013-10-02T00:00:00",
          "2013-10-01T00:00:00",
          "2013-09-30T00:00:00",
          "2013-09-29T00:00:00",
          "2013-09-28T00:00:00",
          "2013-09-27T00:00:00",
          "2013-09-26T00:00:00",
          "2013-09-25T00:00:00",
          "2013-09-24T00:00:00",
          "2013-09-23T00:00:00",
          "2013-09-22T00:00:00",
          "2013-09-21T00:00:00",
          "2013-09-20T00:00:00",
          "2013-09-19T00:00:00",
          "2013-09-18T00:00:00",
          "2013-09-17T00:00:00",
          "2013-09-16T00:00:00",
          "2013-09-15T00:00:00",
          "2013-09-14T00:00:00",
          "2013-09-13T00:00:00",
          "2013-09-12T00:00:00",
          "2013-09-11T00:00:00",
          "2013-09-10T00:00:00",
          "2013-09-09T00:00:00",
          "2013-09-08T00:00:00",
          "2013-09-07T00:00:00",
          "2013-09-06T00:00:00",
          "2013-09-05T00:00:00",
          "2013-09-04T00:00:00",
          "2013-09-03T00:00:00",
          "2013-09-02T00:00:00",
          "2013-09-01T00:00:00",
          "2013-08-31T00:00:00",
          "2013-08-30T00:00:00",
          "2013-08-29T00:00:00",
          "2013-08-28T00:00:00",
          "2013-08-27T00:00:00",
          "2013-08-26T00:00:00",
          "2013-08-25T00:00:00",
          "2013-08-24T00:00:00",
          "2013-08-23T00:00:00",
          "2013-08-22T00:00:00",
          "2013-08-21T00:00:00",
          "2013-08-20T00:00:00",
          "2013-08-19T00:00:00",
          "2013-08-18T00:00:00",
          "2013-08-17T00:00:00",
          "2013-08-16T00:00:00",
          "2013-08-15T00:00:00",
          "2013-08-14T00:00:00",
          "2013-08-13T00:00:00",
          "2013-08-12T00:00:00",
          "2013-08-11T00:00:00",
          "2013-08-10T00:00:00",
          "2013-08-09T00:00:00",
          "2013-08-08T00:00:00",
          "2013-08-07T00:00:00",
          "2013-08-06T00:00:00",
          "2013-08-05T00:00:00",
          "2013-08-04T00:00:00",
          "2013-08-03T00:00:00",
          "2013-08-02T00:00:00",
          "2013-08-01T00:00:00",
          "2013-07-31T00:00:00",
          "2013-07-30T00:00:00",
          "2013-07-29T00:00:00",
          "2013-07-28T00:00:00",
          "2013-07-27T00:00:00",
          "2013-07-26T00:00:00",
          "2013-07-25T00:00:00",
          "2013-07-24T00:00:00",
          "2013-07-23T00:00:00",
          "2013-07-22T00:00:00",
          "2013-07-21T00:00:00",
          "2013-07-20T00:00:00",
          "2013-07-19T00:00:00",
          "2013-07-18T00:00:00",
          "2013-07-17T00:00:00",
          "2013-07-16T00:00:00",
          "2013-07-15T00:00:00",
          "2013-07-14T00:00:00",
          "2013-07-13T00:00:00",
          "2013-07-12T00:00:00",
          "2013-07-11T00:00:00",
          "2013-07-10T00:00:00",
          "2013-07-09T00:00:00",
          "2013-07-08T00:00:00",
          "2013-07-07T00:00:00",
          "2013-07-06T00:00:00",
          "2013-07-05T00:00:00",
          "2013-07-04T00:00:00",
          "2013-07-03T00:00:00",
          "2013-07-02T00:00:00",
          "2013-07-01T00:00:00",
          "2013-06-30T00:00:00",
          "2013-06-29T00:00:00",
          "2013-06-28T00:00:00",
          "2013-06-27T00:00:00",
          "2013-06-26T00:00:00",
          "2013-06-25T00:00:00",
          "2013-06-24T00:00:00",
          "2013-06-23T00:00:00",
          "2013-06-22T00:00:00",
          "2013-06-21T00:00:00",
          "2013-06-20T00:00:00",
          "2013-06-19T00:00:00",
          "2013-06-18T00:00:00",
          "2013-06-17T00:00:00",
          "2013-06-16T00:00:00",
          "2013-06-15T00:00:00",
          "2013-06-14T00:00:00",
          "2013-06-13T00:00:00",
          "2013-06-12T00:00:00",
          "2013-06-11T00:00:00",
          "2013-06-10T00:00:00",
          "2013-06-09T00:00:00",
          "2013-06-08T00:00:00",
          "2013-06-07T00:00:00",
          "2013-06-06T00:00:00",
          "2013-06-05T00:00:00",
          "2013-06-04T00:00:00",
          "2013-06-03T00:00:00",
          "2013-06-02T00:00:00",
          "2013-06-01T00:00:00",
          "2013-05-31T00:00:00",
          "2013-05-30T00:00:00",
          "2013-05-29T00:00:00",
          "2013-05-28T00:00:00",
          "2013-05-27T00:00:00",
          "2013-05-26T00:00:00",
          "2013-05-25T00:00:00",
          "2013-05-24T00:00:00",
          "2013-05-23T00:00:00",
          "2013-05-22T00:00:00",
          "2013-05-21T00:00:00",
          "2013-05-20T00:00:00",
          "2013-05-19T00:00:00",
          "2013-05-18T00:00:00",
          "2013-05-17T00:00:00",
          "2013-05-16T00:00:00",
          "2013-05-15T00:00:00",
          "2013-05-14T00:00:00",
          "2013-05-13T00:00:00",
          "2013-05-12T00:00:00",
          "2013-05-11T00:00:00",
          "2013-05-10T00:00:00",
          "2013-05-09T00:00:00",
          "2013-05-08T00:00:00",
          "2013-05-07T00:00:00",
          "2013-05-06T00:00:00",
          "2013-05-05T00:00:00",
          "2013-05-04T00:00:00",
          "2013-05-03T00:00:00",
          "2013-05-02T00:00:00",
          "2013-05-01T00:00:00",
          "2013-04-30T00:00:00",
          "2013-04-29T00:00:00",
          "2013-04-28T00:00:00"
         ],
         "xaxis": "x",
         "y": [
          null,
          -4.109427059060855,
          -1.114544570902154,
          3.0281134809000854,
          -4.885351066745935,
          -5.327160170373324,
          1.8592974757358327,
          6.923399366577665,
          -0.8878854097848943,
          2.9197187225314947,
          -5.065975830213643,
          5.616697154166772,
          -19.313245315161844,
          1.999181852971077,
          -3.9014524253087823,
          -13.399239816730313,
          3.5775357287208154,
          11.730686491300046,
          5.577296784188701,
          1.7362907672081151,
          -2.5449800737022965,
          1.4873021101125428,
          6.148632700542889,
          2.1005066628547953,
          -2.048737234282527,
          3.5693583095773196,
          -0.25186309688104425,
          -0.013451243087014841,
          -1.4444734859550112,
          -2.246047284384922,
          -2.869374059932883,
          1.901378078084237,
          2.3572660872930085,
          1.3968306475749426,
          -0.8676435748158129,
          -2.8991753021606725,
          4.4769916681797195,
          0.7457297222147163,
          5.220567941365872,
          -1.4390271447879854,
          -0.602866109018596,
          1.2156483581867494,
          -4.856730313506919,
          -1.5952270620945286,
          4.222046941282209,
          -5.170414325948469,
          -2.1432882281938848,
          1.6956235950953191,
          8.404585117121588,
          -2.1122406165578367,
          11.222613671826531,
          -0.35157583727447594,
          -4.203262871856461,
          -0.6441651527546166,
          -2.6183160941253614,
          4.796205200281101,
          -6.160589550153672,
          -6.513300158924529,
          0.1409342267129965,
          -1.0654580873436958,
          -3.2416467420787187,
          -5.044686612289661,
          -4.852148127413725,
          3.683801661250219,
          -4.4249670820753595,
          -5.423972539196598,
          8.021600200110846,
          4.65669581642012,
          6.01567041796458,
          -5.042477615360685,
          -6.335921945165102,
          -6.082635501978473,
          2.132569077013513,
          -4.653840065620008,
          -4.983624371764495,
          -2.624096576920032,
          -5.689770484315604,
          0.22946755455619527,
          4.054232842277239,
          -0.22112764040222999,
          -4.469474932268092,
          7.2107131257829415,
          -3.32365017283629,
          -1.7777106310117419,
          -1.823557560842215,
          -7.3484782545623295,
          -1.1216814574969813,
          -1.4789713706612528,
          -1.1430775659776904,
          -3.094292013240818,
          -2.5011912032159134,
          -2.1489241612863252,
          -5.185002813730999,
          -1.936359791971165,
          -0.40172795981207043,
          0.09495017015070939,
          -2.781298141500921,
          -1.2169419552252703,
          -1.2121786817754332,
          -3.43478782546095,
          2.0294729168910175,
          -0.7842755193998685,
          0.5752628779509772,
          -1.528785758453477,
          0.11402225912797714,
          -1.4657456238084565,
          -0.9188297275338986,
          -0.8808561719106711,
          -0.42472623068263715,
          0.14903129657228842,
          2.6589012041598137,
          0.38654748119331117,
          -1.4838051136505048,
          0.06233521181333579,
          -1.0034768114355774,
          0.08078574769336822,
          0.4911207409295626,
          -4.895660702810578,
          0.7530361492914084,
          0.9318332230310977,
          -3.6404647625042474,
          -1.9661213787346865,
          -0.8061082832022226,
          -4.232172347194874,
          1.3191352552049285,
          0.6904045308999462,
          -0.1317862770376821,
          -7.558067261443712,
          0.6258210668956155,
          -3.6246633360060843,
          10.780570014506342,
          1.015800267670608,
          6.805574089254041,
          -5.917682545915359,
          -1.6590307617882272,
          -6.069024056176087,
          12.98083834794932,
          7.960153786026547,
          5.20285230802906,
          -0.7690399404614134,
          -0.6516129032257956,
          -0.8555750373400839,
          -3.729388069233175,
          -5.027087249007078,
          6.426857224729554,
          -3.2385632188743685,
          6.394782608695659,
          4.028474753583855,
          -0.44860664817768514,
          -0.9446619104741316,
          1.580687567223027,
          -1.8807990650907103,
          -2.278958601450032,
          -3.4789366053169735,
          0,
          -1.2517267388153952,
          -1.8331616889804447,
          2.608756469436302,
          -0.5930066116829114,
          -4.223806911684036,
          -0.1915091638029831,
          -3.166860934277771,
          -2.9732032074668124,
          0.6250775382442564,
          -0.7786271125358013,
          -1.7940948757897535,
          -1.942692517324618,
          -0.2908246317544827,
          -1.384699616743812,
          0.8620689655172376,
          0.5274324946456188,
          -1.5710090099059326,
          0.5775435686326214,
          6.907821959411886,
          -0.16179555438494697,
          -2.185895321995557,
          -1.0412753455666501,
          1.514591079876193,
          -1.2455652507431192,
          -1.758406074317187,
          -2.2514330895433865,
          -1.882671735657515,
          -5.154575432811215,
          -0.09561268171841553,
          0.22729744426319698,
          -0.19965494417257812,
          -0.23484642565914093,
          -1.7491472226157767,
          -0.9816536149255595,
          3.1724338796222495,
          0.3973898220431815,
          -0.31146246769117036,
          -2.903047331821784,
          0.45138151793795434,
          -1.3847642563982854,
          2.4046378380817135,
          -8.415754345000781,
          -1.1701321660072428,
          -0.41250912630810266,
          0.6805879693552175,
          -2.324085536056697,
          -3.3634432116099067,
          16.704381814441472,
          -0.534329279041057,
          0.927084833246572,
          -0.2864354697102778,
          -0.7032875114187931,
          12.323209931279088,
          13.948370798713228,
          -9.603110683882822,
          -2.1162247087676223,
          -2.2921458282358698,
          -3.4647861929422152,
          -0.2594060638761442,
          1.2754358953019018,
          0.2485875706214724,
          -4.377407984260994,
          -2.74217745392199,
          -1.2593514835667396,
          0.2945836773862398,
          2.5767116886584507,
          -6.230070066595806,
          -3.5001272352927604,
          -4.003452078438896,
          -1.0201278593547025,
          -0.2750059921030501,
          0.03794922393838274,
          -0.7485806051869659,
          -0.8688894268132574,
          0.4356822475549027,
          -0.11772534165942483,
          -0.06021318028081035,
          -1.328051891448423,
          0.639185168825418,
          -0.24010843606789845,
          -0.2562144955291834,
          -0.34768620023092334,
          -0.5090284196685446,
          -0.7223050953913734,
          1.9994727823909209,
          -0.35148022277643465,
          0.8805031446540879,
          -2.7212895596061437,
          -1.4641172350912335,
          -1.3531092008743584,
          0.028548123980409734,
          -0.5137195743466383,
          0.4576315178339785,
          0.8526204139356564,
          -0.18337490730129247,
          0.5808534493239259,
          0.9078821901986389,
          -1.610434551141282,
          -1.1119377747717318,
          2.8165738752171654,
          -0.003991378622170139,
          -1.4116739179605875,
          0.43455963723717517,
          -4.377855415210973,
          -0.9274612855175501,
          -0.42410144393066895,
          0.4301810463940292,
          1.6112332458690926,
          -0.12283468963303346,
          1.0817156513353687,
          -1.8554619989768595,
          -0.9466788758188405,
          1.1932359592109476,
          -1.1384079154486249,
          -0.025589263882164204,
          -2.0675729480689298,
          7.569333526934807,
          -1.4902204284383824,
          -3.949081242549213,
          0.12696691727178688,
          1.798079389051943,
          -3.475254730713251,
          -0.19430145726093695,
          -1.4542865859859644,
          -3.0532212885153953,
          -0.5824297814747803,
          0.5063020068526658,
          0.03348197300134803,
          -3.7213406563312845,
          -0.3113000331842697,
          -0.05389468344799697,
          1.1799784305018157,
          0.1928020565552746,
          0.3817331309938998,
          -0.464442123965525,
          0.2708838957175219,
          -0.560604640994411,
          -0.09422258515364712,
          0.7670664424149987,
          -3.444241658477243,
          -0.36187983650786126,
          0.38265099310903494,
          -0.3214291482935172,
          -0.6643764583873502,
          -0.08319467554076532,
          -0.37713669980897757,
          0.3162897410684984,
          -0.20257134922320175,
          0.5058193782841558,
          -0.6905762402684146,
          -0.6642175353429258,
          -0.15849692086711276,
          0.23812279860433438,
          0.3084943167758203,
          -1.1857772514966003,
          0.2995855732902841,
          0.03484725287490331,
          -1.0848649724636839,
          0.14254569847391707,
          1.868877166541072,
          0.15123867764792465,
          0.10505063769019607,
          -0.6378408513289746,
          0.16337172843987613,
          0.02965550191935673,
          0.5814049246479325,
          -0.23580271173117007,
          -0.1641389271879734,
          -0.24990135472839903,
          2.7673391350210963,
          -0.10424852849192368,
          0.5555020389814702,
          -1.8808276919146882,
          -0.6671656849025154,
          -0.6306926151628423,
          0.3363062365024039,
          -1.7120417987940062,
          -3.789639089951702,
          -0.5629495777878191,
          0.5539052944260048,
          0.3527551392774608,
          -0.5870129870129803,
          -0.034836529584936216,
          -0.6900036591103054,
          1.7019036757610184,
          -0.32605882860347046,
          0.418859041816666,
          0.5567237753800525,
          0.572496186215532,
          -0.9271410311035511,
          0.06708984878982527,
          -1.0434932095581995,
          -0.22757674200439837,
          -0.19153085387937363,
          0.7361920379610032,
          -1.7664172901080688,
          0.5694238770185489,
          2.6504461233719523,
          0.3364128485800588,
          0.2655047995098414,
          0.5058392178164173,
          -0.7262286775882587,
          0.5529091527730623,
          0.2774722950681152,
          -0.828426327422449,
          -2.1674776276838337,
          0.5651780745687285,
          -2.0629787822718626,
          -3.3353344162723286,
          10.74031453778288,
          3.036600854404803,
          4.86168918486265,
          0.29616059842760833,
          -0.2983302637787566,
          -0.10381203914323622,
          -0.39275617024528975,
          0.35594832612231286,
          1.097691484482488,
          -0.8649891120251718,
          -0.753554213191765,
          2.2117364974946874,
          0.10075036465615472,
          1.0785963225574013,
          0.03715483161430555,
          0.9433822109313539,
          -2.750713802136995,
          0.37531970277100424,
          -0.7794949114210303,
          -0.5485655239484633,
          1.5401775482451363,
          -2.541569483108874,
          0.2624834017848965,
          0.2463964518911066,
          2.390315841219115,
          -3.8948568685110763,
          5.740289746471849,
          -0.9891780963489083,
          1.9429491672009913,
          -3.656788462101046,
          6.838125891962488,
          -3.893704703708978,
          -0.43767558775690274,
          -4.967772596310938,
          1.1111284752066686,
          1.2782071097372505,
          -3.9525691699604737,
          5.680283458061242,
          0.02706278566273479,
          -6.210732000601227,
          -4.464886695086379,
          11.831510434140768,
          10.587264681617036,
          3.6013184487880157,
          -0.9885045431930584,
          -0.9679594832260108,
          2.3233766407178447,
          -9.374796100794702,
          -1.2829927858654888,
          2.74520100355915,
          -4.486214827223945,
          -9.817473765569718,
          -4.822573467605029,
          -0.4918004398496989,
          1.2199154238379473,
          -0.8665153703321549,
          1.550468262226845,
          -1.8034634696177831,
          -0.39131795888552867,
          -0.618092294798589,
          -5.484987438289501,
          -0.19517816978643632,
          -1.0299485956939525,
          0.46481868307646224,
          -1.4292136515191234,
          0.7240180149364228,
          -10.674666062938643,
          -4.241118573902758,
          -0.8337377034716931,
          -0.8051601423487598,
          -0.410332301896954,
          -1.0874704491725784,
          0.8809068560502675,
          -0.11507479861909697,
          -0.8968103370380454,
          3.6265414510724625,
          -0.1847696977695712,
          0.08374101987749238,
          0.7508367095296675,
          -0.41523701291604764,
          0,
          -0.19751135690302402,
          -0.4485784022692729,
          -0.4064232544783941,
          2.1269045665240016,
          -0.41912786657400947,
          -0.0021807872642054527,
          0.2311684912984724,
          -2.528285465622282,
          -0.2812625563641258,
          0.8013968481375366,
          -1.2502775927159648,
          1.6214271257336765,
          -0.7878197751615468,
          1.5123126338329795,
          -1.3381674357284212,
          -0.9621166566446182,
          4.812341181497226,
          -0.999806904245959,
          -0.6219794985154903,
          -1.8056524773203186,
          -1.0082615261614913,
          0.827836855566022,
          -1.7889326480208356,
          -1.332155236865351,
          -1.588941700535007,
          -0.2776546349658182,
          0.741693963500234,
          -0.19973523468890253,
          -1.2636429219706313,
          -0.12963137550673354,
          0.3445590352346928,
          -0.6373621204637914,
          -0.21776178754023823,
          -0.5100104374229031,
          0.2241243651796676,
          0.5709527774473644,
          0.15612063867533887,
          0.14643017406295034,
          -0.6108058392094828,
          -0.1281321184510298,
          -0.007127583749100275,
          -0.6914249055527844,
          -0.2942865345965995,
          -0.4583303337892697,
          0.4098163058676052,
          1.8510515701527064,
          0.5963746081135257,
          -2.0667354016308925,
          -0.18184428386849305,
          -0.1893667002253241,
          0.39626311871083786,
          0.011960577935110628,
          -1.143294505967607,
          0.10645762260772518,
          -0.8000000000000007,
          -0.2168404638924093,
          2.7029666707361732,
          -0.8582568589225459,
          -0.04316443250761415,
          -0.09356332317731475,
          -0.5715109019306497,
          -0.5892865768246103,
          2.446431174384145,
          -1.081363086627618,
          -0.5441948553208786,
          -0.21453020296002823,
          0.08454718940984485,
          -1.595385209499911,
          -1.7512447573029832,
          2.5888109444042184,
          2.606219886114758,
          0.5549626467449276,
          2.625061911837534,
          0.592939878654164,
          -0.959561343385873,
          -0.2260668973471769,
          -0.08554517710164244,
          -1.7609626287168667,
          0.09657511659677542,
          -0.9907047887986797,
          4.042876836050757,
          0.23986293546545134,
          -0.37374658158614293,
          -3.7446243938146218,
          0.37548420827491213,
          -1.4323933991524096,
          -2.1209646425826234,
          -1.7914550050308065,
          1.7591643969114612,
          -3.774279890970711,
          -1.9394681774103084,
          -1.199708530682353,
          0.526801000921906,
          -1.4725533866107754,
          -0.6861154695104066,
          0.8488418797697239,
          -0.026551962190013434,
          2.6638691171783746,
          0.7864441857456939,
          -5.04119715598449,
          1.2163805919718884,
          -0.3712111096274451,
          -1.1499490698547166,
          2.57070802939503,
          0.32253800396564447,
          0.21609086357288199,
          3.8602119435168003,
          -0.713978276831162,
          -0.10710187428278894,
          2.8693232583667294,
          -3.841477033029761,
          -1.29035588015175,
          7.260320531255715,
          2.430166236045439,
          -9.537634152725893,
          1.8466394844140588,
          -1.2578453909135479,
          1.370651320952132,
          -5.989059193889668,
          18.109955260340914,
          0.4787246403755496,
          0.767860859911651,
          2.9240974087080263,
          -0.09812010793212034,
          -0.08482332194914566,
          1.2555572931793213,
          1.0634777044767452,
          -6.31808754502784,
          0.6641653655239832,
          0.26159829613852104,
          -0.7111685792791311,
          0.7976558684681834,
          0.2053340716131391,
          -0.8657011949439353,
          -0.9173885779315771,
          1.4907880549435149,
          -2.4712457850247227,
          0.12787723785165905,
          -1.312615297289632,
          9.197881467634872,
          -0.14484801931305968,
          -2.7670937822809383,
          -1.3178119349005368,
          0.4741507662001432,
          0.923308407805945,
          4.4342542185276335,
          0.28119051739055045,
          -1.6263319097536866,
          -0.25214874583405766,
          2.283867847800747,
          -4.543110117768412,
          -2.3481471475527926,
          0.2881844380403509,
          3.89425287356322,
          -8.067442580873562,
          0.5006257822277815,
          -0.47897308171280795,
          -4.817595533737606,
          -1.709055974111351,
          0.04372652914244046,
          -6.625530273814107,
          -0.5864860399801719,
          -0.5151641046946431,
          0.9187338177566229,
          4.091147341995627,
          -1.598113007526758,
          -3.746397694524506,
          0.1846773742235186,
          -1.497039436934422,
          -6.938301009413639,
          -2.486213095274359,
          0.937353538509611,
          0.4612289119331425,
          0.736426942749735,
          -1.5018505490472012,
          1.282529035463642,
          2.587766365169397,
          0.14943662392779,
          -1.2951744307499458,
          -3.198790627362047,
          3.9791360839553924,
          1.1534649004235398,
          0.4157386785448969,
          -8.005323081472715,
          8.274398868458288,
          12.897096371949402,
          -1.811918161258086,
          3.5112622867397025,
          -3.1075346719105723,
          3.1724837770715997,
          6.525171476640357,
          -1.9778404120905813,
          -10.467998611868524,
          -9.900606329078876,
          -3.46003748886089,
          4.405258299646686,
          -4.31389286911984,
          -2.943987765245659,
          -3.5552491628914606,
          -2.889819258654147,
          -0.5678233438485836,
          -0.715595036661032,
          -1.8285105627551812,
          -0.8969258589511808,
          -2.8282607108970126,
          1.198032072708144,
          -2.234097825280179,
          -0.6832675372001273,
          3.4398410029047533,
          -2.8709725096068506,
          -3.2525582987788737,
          -0.9161686064800167,
          -0.984166038334866,
          -1.6832992665624547,
          0.7093065916595309,
          -0.8540781218376869,
          -0.41234588062382116,
          -0.6682244906325518,
          0.2765167148163439,
          1.2717619459192475,
          -2.30838006990165,
          -0.8819369331891203,
          0.19726349366238072,
          -0.6031918904201405,
          0.10957056765983353,
          -0.6272363712902629,
          0.2668813013640525,
          1.0351092145844731,
          -2.66789328426863,
          0.6788107922323539,
          0.3413843133907912,
          -0.25941992004762104,
          -1.8121349081141047,
          0.147646343581731,
          -1.5306564911976461,
          1.8142586639658287,
          0.12110202845898588,
          0.6393364724178063,
          -1.3563978194617299,
          -0.31330229319872505,
          0.5281766991138914,
          0.14763352149369524,
          -0.056364897676031145,
          2.047633508307656,
          2.0745653190494595,
          -0.6788555245512584,
          -0.12998993626299749,
          2.28408279800143,
          -1.5434505972661272,
          -0.004169272461951312,
          -2.009673115410271,
          -2.00833971576887,
          -1.3547546678245759,
          0.9243771458755212,
          -0.5059316120027857,
          0.8504295984569588,
          -0.5650699817438931,
          0.4458821472285379,
          0.7050221951431901,
          -2.8651685393258353,
          0.4715931841437815,
          -1.8686622680777587,
          -5.013311673660937,
          8.394299287410911,
          0.9729587588201749,
          0.9462216242024368,
          1.1953390377090756,
          -3.683875079668575,
          -6.881948120698778,
          22.21906386204282,
          0.20544228234746775,
          1.1759699818189029,
          1.5790479831772064,
          -0.6022282445046767,
          0.8709481975159195,
          1.5053682708912053,
          -2.1894300824734536,
          0.2306499792036787,
          -1.5391579900407404,
          7.118773946360157,
          -0.35767937620716506,
          1.184578936032743,
          1.1849013764722693,
          -1.398920131828063,
          0.4907015609998844,
          -0.3573829659247685,
          1.0830965909090828,
          1.0785174776041018,
          0.6499374391769619,
          1.6713284298491171,
          -0.2751078354787273,
          -0.316735917171862,
          -1.3632170555878287,
          -0.14547973675095305,
          -4.242403219092539,
          0.4238362615468283,
          -0.5014068249044268,
          1.1420077584019195,
          -1.9248691662484774,
          0.47147399583347127,
          1.6624226991633462,
          -0.49379182023117085,
          2.78327160271854,
          0.5702690410383848,
          1.5967438948027768,
          6.4441020373223745,
          -5.709782224080806,
          -2.807723799126649,
          -5.496858436589546,
          0.5794302269435114,
          -1.69134753868313,
          1.0593140753540453,
          1.070512582239913,
          -4.052811592070915,
          -1.7440300509793394,
          -0.36279940703751734,
          1.2568027876747268,
          1.7206712551233405,
          -2.284563044056709,
          -3.1315646152649257,
          0.7951487892052578,
          -2.9483246344475855,
          -0.3243154480889965,
          -0.943163097199351,
          1.5758180533034016,
          1.1011051985263975,
          -1.234867808413298,
          0.5206198245470306,
          -0.244688226418166,
          1.7987817341891033,
          0.10842938034616445,
          0.6498716302952623,
          -5.611797528895979,
          -1.3850181572502285,
          -0.488139076817673,
          -1.0413080895008697,
          -0.11740151317505276,
          -0.3961516694963252,
          0.10926573426572883,
          -0.24448810303426827,
          -2.4552496826994674,
          1.2293610911701336,
          -0.29695948940697825,
          -0.2800622360524585,
          0.6909771754636251,
          -0.03099127816885705,
          -1.2710363153232929,
          3.2566276409635275,
          1.368434771275906,
          1.611382531927652,
          0.13074652045550472,
          -0.05475759235078481,
          -0.06743088334456582,
          -0.004217273954110201,
          1.6195014971953858,
          -0.8632496368541132,
          0.6195838740737702,
          -2.0844601622633574,
          -0.560890626327859,
          -0.8845397829245427,
          0.5087303298124679,
          1.574228970960423,
          -0.27449324324324564,
          0.6140165149269405,
          -0.28198653198652224,
          -0.23213607394589886,
          2.0010153143243947,
          0.4354858778151005,
          -0.7680872150644169,
          0.6367041198501955,
          0.8394326593061274,
          -2.677765931272047,
          -3.181224455399656,
          2.7591609365479997,
          1.228189056411999,
          0.5606225420466959,
          -2.2591113330005075,
          -1.2131273145192134,
          1.7537056187521438,
          -4.378572940927383,
          0.017714007351310457,
          1.5231348239982179,
          -4.300231148327438,
          3.1718543499065666,
          2.15557224259022,
          2.244130237384878,
          -0.9642222786094945,
          0.4654539243317046,
          -4.522463552514133,
          -0.903708320349017,
          0.3414195867026182,
          -0.21489971346705383,
          2.5529432878679037,
          -2.0737629610184993,
          -2.086404860831892,
          2.4776419054572063,
          5.147157041720463,
          0.16938386618674528,
          -0.20291693088142493,
          3.223620112678449,
          0.5499015101772864,
          3.330340380377117,
          0.9123943439450111,
          2.000078280950346,
          -2.647735993860334,
          0.2443831296807364,
          -0.519031141868509,
          -2.2648221343873454,
          -1.233469486795813,
          1.355335353369913,
          -1.9472387185391682,
          4.157224671418569,
          -2.282436708860769,
          0.6072136987410381,
          -0.9375125739347401,
          -0.2477660438667706,
          8.611914165886226,
          0.4573742220889132,
          -2.9631288251977916,
          0.665333435889548,
          -0.3132760267430701,
          -1.7744222588433667,
          11.392898946547003,
          1.782837127845882,
          -1.4453353522144607,
          -1.5747756555745673,
          1.227472683411368,
          3.157636503820016,
          0.6896551724137945,
          -1.5588096362777581,
          -0.7369070468878469,
          -5.269155070612197,
          0.6961909969017466,
          -1.2814015782233956,
          1.2687004986799533,
          -1.1188355420378104,
          3.152806766999894,
          -2.140575079872198,
          -5.611782203359095,
          -2.2828593389700225,
          -0.16911822543851374,
          -6.854981680652406,
          0.43987649621453073,
          0.5348043963448124,
          0.06282985674792574,
          -1.2181338691447885,
          3.6231884057970953,
          -0.3067108330266244,
          -1.4357207318073661,
          -1.6439154319960014,
          3.0804383700757443,
          -4.01050859981118,
          0.4190899760520006,
          9.581807341793724,
          -8.50691745686305,
          -5.806396805844627,
          -1.1589105339105288,
          0.2965463752908404,
          0.1228165938864656,
          1.4992503748125774,
          1.9426167136654682,
          -2.406147091108668,
          -2.3215008773113777,
          4.486205149463407,
          0.18514436852545835,
          4.822457869494423,
          -4.726524786970576,
          -4.189981054764946,
          4.124896532695677,
          3.126794152718282,
          0.17129887370990193,
          12.641614296096805,
          3.7915591316229014,
          -7.221998756719206,
          -2.3135740186031817,
          -6.039943514222312,
          0.22758502232909095,
          -2.7890835868214725,
          -6.870868223887172,
          1.6799962140930491,
          -2.103695429582053,
          -5.267661880764485,
          4.436414734517724,
          0.8361364728495913,
          -15.125810141059858,
          26.816395283548577,
          18.569025059771537,
          -0.7991038088125402,
          3.440487841602047,
          5.680494905385736,
          -2.431045762886952,
          3.878595376742533,
          -2.768906706529861,
          -4.095181522764591,
          -3.7454002258899055,
          6.393126159203599,
          12.078411840045543,
          -0.24759546709836044,
          1.8902147971360472,
          -2.9513726225053882,
          0.6210980240715758,
          1.4616048869414922,
          -0.4350018913125697,
          3.818147280440698,
          -2.717126128323988,
          1.103413686091348,
          3.732986078814382,
          -0.8010281854320511,
          -3.3294163728946335,
          2.8425383368657187,
          -3.673172505758271,
          -2.026176692675563,
          2.691072575465636,
          2.27656513853276,
          5.592246071057305,
          1.8184450557405363,
          -1.2086568267781428,
          1.4854050319534906,
          -0.5758211834118176,
          -1.1811360588856235,
          1.688945347460824,
          2.7511214581795507,
          3.644552513055732,
          -0.08264462809917106,
          0.5496411323674621,
          -1.9238423776038238,
          1.4637445887445866,
          1.6799552011946384,
          -0.5402428470273501,
          -0.3164139749505579,
          -0.677159105938363,
          0.25566592985164505,
          -1.8010359941559195,
          -0.35166499851219113,
          1.8948339984254936,
          0.4129479152790605,
          -2.4754576810825157,
          -3.9856353891775664,
          -0.5865351921115258,
          1.9923044035912607,
          6.349206349206349,
          -1.4084507042253502,
          3.254264392324102,
          0.12131849978058717,
          -3.029287408476844,
          5.766623241964219,
          5.761399627972463,
          0.6702476588867246,
          -13.190575125129856,
          -0.20941554026489007,
          -0.9974926414477392,
          -4.891813026482406,
          -0.8885930128223696,
          2.0063080427545232,
          -2.805691545707012,
          -2.6510353765943018,
          -0.8895881872371336,
          -0.5067928560525181,
          -0.042959280738896766,
          3.8587874136607914,
          2.0660912745329885,
          -2.8148620080507447,
          6.5645579427277445,
          -1.294670320451874,
          0.4844329867701669,
          -2.094727939103469,
          3.190600973306079,
          0.019533975163943396,
          6.902516600636122,
          0.866478755611233,
          -0.9392465328089461,
          1.7500326498628649,
          0.48517520215634047,
          -1.9619865113427393,
          -0.3126954346466482,
          3.19165621079045,
          1.545203536236306,
          -2.6093247187367385,
          -3.0378320227453237,
          -4.292695812970548,
          -0.20425062103229807,
          0.959730058634789,
          -3.3120565432978033,
          -4.745849152830505,
          -1.8174246705731867,
          -2.8992971400872536,
          2.608342953417986,
          9.316751299905723,
          4.328113265277733,
          2.2795744794305017,
          0.8654397580939444,
          -2.9642838682999884,
          0.45542919540841886,
          5.922901532424829,
          1.2289747697236786,
          1.7654476670870167,
          2.825764754476756,
          2.9749527410207977,
          -7.719314348654183,
          -0.82804923535994,
          2.527455995185801,
          -3.4482758620689613,
          7.507598784194536,
          7.749034021298651,
          1.90890604158922,
          1.997596875938723,
          0.5301133853629736,
          0.23227102471279348,
          -0.26096033402922547,
          0.4186289900575568,
          -0.08129233976028605,
          -0.8553070761014747,
          -0.1388713546269349,
          1.6182048040455088,
          0.5287384921622396,
          -0.3073242167357604,
          1.3075681714735055,
          -2.464975697422711,
          -0.0335015389769433,
          -0.5341097124185734,
          0.6064690026954089,
          5.544624916275964,
          0.8468021814576066,
          -0.13962086053646017,
          0.6577263149603052,
          0.08216766115622942,
          -1.7729733956252325,
          1.1522388059701516,
          -2.010663204076424,
          3.2063766137289784,
          0.6225196482763984,
          -1.0169360451627862,
          -5.220907066682301,
          -4.902627511591973,
          6.574784380011267,
          5.675071167141121,
          -4.367820515287379,
          1.8027806281563752,
          8.041978773445058,
          4.2037098013390395,
          1.1814479320272575,
          2.548710030015422,
          -0.2859269786485208,
          0.5446493713626488,
          -0.6260758041108483,
          -0.7166267597262577,
          0.1351235782091953,
          0.5705110685979564,
          -0.3583681510920922,
          0.45340651473573246,
          0.9485347767804075,
          -1.4590197001277394,
          -3.2324645196506574,
          3.074265366919926,
          0.1641783387204443,
          1.3932284997182798,
          0.3300496758440463,
          0.8861885500411448,
          0.10647324028014715,
          2.9381948714539696,
          0.3454900631245872,
          0.10618614753439282,
          0.27161247810223443,
          0.7389004648180819,
          0.042958743695398205,
          -0.9049270014949484,
          -1.0094849861175925,
          0.776588845655013,
          -0.36519249022667344,
          1.1593360459859037,
          1.150837988826825,
          -0.2698395164980938,
          -2.411392405063295,
          1.2565665737077625,
          0.04963891691087685,
          -0.11683364809065289,
          1.8779342723004522,
          -0.6841666535600144,
          -0.12193963196401869,
          2.2943125782872498,
          0.8866017732035436,
          -1.5471361848574339,
          -0.1576130210202753,
          -5.795561112847758,
          -1.023692593575798,
          0.11901768502222687,
          -2.6989920637578324,
          -2.5467185187734387,
          2.828689479817781,
          1.995329349543229,
          1.3956698878750062,
          -1.2087601906121792,
          -0.14117884334190478,
          0.6597660523437021,
          1.6536525824736303,
          0.47700506612275984,
          -3.056346789771791,
          0.1266485418531138,
          -2.6275845785408425,
          3.9490092836358626,
          -2.20107971207677,
          7.8490501746315555,
          3.1799943129758867,
          -0.610885707724107,
          1.0752356891983617,
          -0.17831560337732144,
          -0.1939020107791123,
          0.8505430625669108,
          -2.6772441828716964,
          4.052305917925225,
          -1.0470184688665563,
          -4.600224031969969,
          -1.0393031115624507,
          -1.3388276038994174,
          -7.662555051760855,
          1.5628850012320061,
          -1.0085606349426346,
          2.1322036271969713,
          -2.027698741901196,
          -8.12645427666685,
          -0.9368930190044478,
          0.8381069547499065,
          -6.2545274314689925,
          -1.2302499135774747,
          -8.140492464794535,
          0.01792998341476615,
          0.5915833818849858,
          -0.18712408108709777,
          -0.1807793599071572,
          -0.733370598099492,
          -0.7432934657747192,
          0.17927247146389824,
          -0.5821591990214259,
          3.5407505297454955,
          -1.0936777941597198,
          -2.066924754149413,
          -0.3066996842129188,
          -2.246934961943392,
          1.0537113017530908,
          0.6736181600073721,
          0.31164069660862825,
          2.654422514619892,
          1.8647914904980079,
          -2.2107654666200682,
          -0.09605933339290607,
          -1.5473714809597139,
          -0.8857798269322537,
          5.089484176997638,
          0.621456607064963,
          8.45378697583703,
          -1.8303161091795528,
          -0.6879706900061011,
          1.6088703066076349,
          0.48409544748573285,
          0.6804905955798191,
          -4.3703644628758305,
          3.4025519139354587,
          6.337204613275271,
          -2.2374333984337857,
          -11.016505362788266,
          -9.74955862159158,
          1.705066898517127,
          -0.04036854103344201,
          -13.248604347309655,
          21.23610274385235,
          2.3400266528132097,
          -0.8099935995056096,
          2.465399848693872,
          0.3061889250814298,
          -3.113160572405893,
          -0.6278908676513151,
          -1.704443245187992,
          9.43404858855288,
          -4.469250386721857,
          0.7155361050328102,
          6.713450800617027,
          0.9161797341042721,
          -4.9286823894930105,
          23.255665902724743,
          0.5319973141882928,
          -0.08734073160706624,
          -3.794929809225067,
          0.6716909865127185,
          1.141512105337683,
          3.0236749549423347,
          3.587139290385033,
          0.8099821279247132,
          1.2263552526714738,
          1.4043093336761014,
          0.7938394257736459,
          -1.1507262780607541,
          1.485368956743005,
          -0.9465007678565729,
          0.3179876601803411,
          -0.9966725016164468,
          1.4606795265933004,
          -3.0629866867621147,
          1.8948902745161478,
          5.516967336883094,
          0.24854638026090559,
          0.19083109194450998,
          0.14697501424758563,
          -16.168982868096325,
          1.0396755926329604,
          -2.8906843938402815,
          5.372683246549892,
          0.6772984086943046,
          -7.547752664366991,
          1.4126338846503605,
          10.891052862791039,
          -0.06602621240634488,
          -5.1633576690561895,
          -3.13849797965724,
          12.02754702053439,
          0.573006115275354,
          -0.05266517714651586,
          -1.53927219889185,
          5.560871186935423,
          1.7006698211761817,
          -8.572637048898024,
          7.679598175930202,
          3.137850610691695,
          1.3181189282473138,
          0.2745840858699333,
          -1.3149802313662362,
          5.709876543209869,
          9.706625491297016,
          3.8845883180858465,
          1.9768200908967914,
          -0.49881636794048,
          0.1869317699039863,
          0.873547621066928,
          -0.31948881789138905,
          -1.3121746674378265,
          0.8510066786320492,
          -1.6331719128329314,
          -5.060860789405675,
          14.764256731355086,
          -3.577399240918122,
          -6.623633743747137,
          3.1327236001856607,
          2.864824096151053,
          2.166534608971249,
          0.7280851014573431,
          0.08733624454149158,
          -3.554698263984568,
          -3.019047619047621,
          2.5765982519886155,
          3.0240656749997097,
          -3.2094319897781443,
          0.9516723270968752,
          2.6176890156918597,
          5.87683325224162,
          -4.975108047486188,
          -2.4894067796610186,
          -0.4888647474198815,
          -4.8319726599582395,
          18.864089775561087,
          -2.07282149188599,
          -7.929043522971946,
          -4.745727216669959,
          -1.994576900527656,
          -3.8622116427173836,
          -2.254342753435312,
          0.28116337979602335,
          -1.465356486318492,
          -2.311254278236352,
          0.9947377821744041,
          3.660875834954491,
          -10.468778708102578,
          -2.437665821374646,
          1.1764175606238103,
          -8.350039351954974,
          -1.8665543277487928,
          3.2460456361655288,
          10.656943644853833,
          -24.460951500086704,
          30.499330399846937,
          3.496452237143033,
          24.101590719152366,
          -0.4017714468337652,
          2.2897089158835593,
          -2.1645118644827432,
          0.5977601172617586,
          12.525043256534008,
          -9.642795722855602,
          -10.895778053941497,
          -12.268335280887577,
          18.793234321068987,
          26.000361685454187,
          10.14821406359141,
          -6.331818932043065,
          -3.241273138702383,
          -8.384691324892401,
          18.159753099335664,
          0.22489220226131756,
          -8.83592321351272,
          -2.906148553708998,
          -7.371551758553241,
          -13.898286822540673,
          -3.110960944050256,
          3.044236357765584,
          -3.3065102404051028,
          -6.353054028829219,
          -18.216297772794587,
          -1.0527562919960154,
          20.346897931954633,
          -30.05429529819773,
          -10.544390481802846,
          -5.058834219254016,
          0.5383419069266759,
          -3.053307948595907,
          -11.547242064953245,
          -4.964893292259864,
          -4.619787408013076,
          3.8240156757087806,
          -0.294889563858336,
          -12.333264322261982,
          -11.440234809891713,
          -6.57523809523809,
          -6.581308106344808,
          -6.132693147097335,
          -4.10602185538248,
          -0.019396760740952868,
          -1.057328547870795,
          -1.9754901960784332,
          2.210331549732447,
          -2.857282645921999,
          -1.0627046084109915,
          -9.733251883526783,
          5.2842318971351165,
          6.181370185869617,
          7.763708823084303,
          -9.296882314390043,
          -5.960982658959524,
          -4.171011470281538,
          -1.2542236985281674,
          -9.546456327572194,
          -6.225955373172609,
          -2.529914529914523,
          1.887057172921791,
          -3.249793445331861,
          -1.700825505266168,
          -2.128429740099902,
          -3.173311635475995,
          -0.23682200152788102,
          0.07657554177196157,
          -3.588644884841996,
          0.7460317460317389,
          1.6228139278399167,
          -0.34883720930232176,
          0.35783741734731755,
          -4.170219362840088,
          -7.684219040685914,
          15.81529834399371,
          0.6203661673475525,
          3.2631578947368345,
          -1.8639871850881007,
          -0.741949844190537,
          -4.036477799372107,
          -0.1246300046736204,
          -0.7565122445796324,
          -1.0216110019646396,
          2.516871774513696,
          -1.3088599752168473,
          -0.30605038060111944,
          2.054471032745586,
          1.4037794060933306,
          0.1445196622803735,
          0.04557192769254481,
          -1.0249013058001744,
          -0.8821047787067604,
          4.457514316669231,
          -1.3705734182841822,
          1.5924284533914257,
          -6.90573012939002,
          0.9530617107457839,
          -4.287624891825981,
          2.046687489725474,
          -4.027386226339102,
          6.109945446915654,
          0.24519496954835684,
          7.913839356162233,
          -0.6726621335088168,
          1.8329039381671075,
          -2.161341622090507,
          -1.3742149981529228,
          -8.315229605213881,
          0.1879238499877367,
          3.1642472679823896,
          -5.09090909090909,
          1.707479593536565,
          -1.6870035214151202,
          -1.291128696376509,
          2.2362869198312207,
          1.7746595130003984,
          -1.703163017031628,
          -1.8151815181518205,
          -4.621848739495793,
          0,
          -3.9735682819383333,
          0.9175153683824266,
          2.336576052368411,
          -3.1627576403695845,
          -2.1651376146789025,
          -1.5378844711177786,
          -1.904761904761909,
          -0.1941747572815511,
          0.1945525291828787,
          3.6407766990291357,
          0,
          -0.49648711943793833,
          -1.0167576727546535,
          -1.0842685942552777,
          0.48076923076922906,
          -0.4784688995215336,
          2.009615384615393,
          1.7909322273541362,
          -6.287619224002217,
          -1.4229249011857736,
          -5.653568564554934,
          2.0186995325116808,
          0.9164757342220442,
          -2.4664602683178494,
          1.1109935456565356,
          -4.1335286730849745,
          -0.9278463049885333,
          -1.5094755398854187,
          3.10996755789239,
          -1.7250732342410813,
          8.74365202031353,
          -1.0659898477157315,
          0.974858902001019,
          -3.770325203252045,
          3.632907381983319,
          -4.626515846326296,
          -4.9257399294796445,
          -2.4949426837491573,
          -11.606731212540344,
          -0.22167166514539538,
          -2.5614218504965924,
          -5.740343347639487,
          -2.6323278315310117,
          17.682303083442918,
          -3.725319756612444,
          16.251773507029533,
          -2.3077776544990547,
          9.72174900624645,
          -1.6768450470965757,
          -0.3579324139383,
          7.173798203909132,
          2.5236593059936974,
          -0.048076923076922906,
          -1.1640211640211673,
          4.730387385633628,
          0.6505576208178487,
          1.1080332409972415,
          0.5936073059360725,
          -1.7249205628688258,
          -0.7852193995381063,
          -5.307262569832405,
          -2.1533923303834746,
          0.48236358154958303,
          -0.010001000100001711,
          4.02080416083217,
          3.9903846153846123,
          0.6934812760055475,
          -2.3415977961432577,
          -5.970850963798768,
          8.299999999999997,
          2.9547553093259404,
          5.829596412556048,
          3.0932203389830493,
          -0.1890669954788371,
          0.6588700378850287,
          0.057273768613974596,
          5.732275737999837,
          -0.23201856148492572,
          -0.15503875968991832,
          2.717391304347827,
          -2.4943310657596474,
          0.5813953488372103,
          2.8747591522158,
          -1.1237638597542676,
          0.9243824821942637,
          -4.8798798798798675,
          -2.2178374112075794,
          -0.8152393252078505,
          -0.7161458333333259,
          -0.00819672131148197,
          1.2378063775719372,
          -0.3886639676113357,
          -3.462851568850589,
          -3.82283597170765,
          -2.381369287340218,
          5.811659192825114,
          -2.5258518392948015,
          0.20869565217391806,
          1.7007983339118349,
          -3.8651877133105805,
          0.7987929351202627,
          -1.822664436030641,
          0.7174887892376747,
          3.2146037399821914,
          -2.9419377102924638,
          -13.111111111111107,
          7.631713554987196,
          11.196654310426757,
          18.813573809727323,
          3.9856115107913537,
          -7.146810571468098
         ],
         "yaxis": "y"
        }
       ],
       "layout": {
        "legend": {
         "tracegroupgap": 0
        },
        "template": {
         "data": {
          "bar": [
           {
            "error_x": {
             "color": "#2a3f5f"
            },
            "error_y": {
             "color": "#2a3f5f"
            },
            "marker": {
             "line": {
              "color": "#E5ECF6",
              "width": 0.5
             },
             "pattern": {
              "fillmode": "overlay",
              "size": 10,
              "solidity": 0.2
             }
            },
            "type": "bar"
           }
          ],
          "barpolar": [
           {
            "marker": {
             "line": {
              "color": "#E5ECF6",
              "width": 0.5
             },
             "pattern": {
              "fillmode": "overlay",
              "size": 10,
              "solidity": 0.2
             }
            },
            "type": "barpolar"
           }
          ],
          "carpet": [
           {
            "aaxis": {
             "endlinecolor": "#2a3f5f",
             "gridcolor": "white",
             "linecolor": "white",
             "minorgridcolor": "white",
             "startlinecolor": "#2a3f5f"
            },
            "baxis": {
             "endlinecolor": "#2a3f5f",
             "gridcolor": "white",
             "linecolor": "white",
             "minorgridcolor": "white",
             "startlinecolor": "#2a3f5f"
            },
            "type": "carpet"
           }
          ],
          "choropleth": [
           {
            "colorbar": {
             "outlinewidth": 0,
             "ticks": ""
            },
            "type": "choropleth"
           }
          ],
          "contour": [
           {
            "colorbar": {
             "outlinewidth": 0,
             "ticks": ""
            },
            "colorscale": [
             [
              0,
              "#0d0887"
             ],
             [
              0.1111111111111111,
              "#46039f"
             ],
             [
              0.2222222222222222,
              "#7201a8"
             ],
             [
              0.3333333333333333,
              "#9c179e"
             ],
             [
              0.4444444444444444,
              "#bd3786"
             ],
             [
              0.5555555555555556,
              "#d8576b"
             ],
             [
              0.6666666666666666,
              "#ed7953"
             ],
             [
              0.7777777777777778,
              "#fb9f3a"
             ],
             [
              0.8888888888888888,
              "#fdca26"
             ],
             [
              1,
              "#f0f921"
             ]
            ],
            "type": "contour"
           }
          ],
          "contourcarpet": [
           {
            "colorbar": {
             "outlinewidth": 0,
             "ticks": ""
            },
            "type": "contourcarpet"
           }
          ],
          "heatmap": [
           {
            "colorbar": {
             "outlinewidth": 0,
             "ticks": ""
            },
            "colorscale": [
             [
              0,
              "#0d0887"
             ],
             [
              0.1111111111111111,
              "#46039f"
             ],
             [
              0.2222222222222222,
              "#7201a8"
             ],
             [
              0.3333333333333333,
              "#9c179e"
             ],
             [
              0.4444444444444444,
              "#bd3786"
             ],
             [
              0.5555555555555556,
              "#d8576b"
             ],
             [
              0.6666666666666666,
              "#ed7953"
             ],
             [
              0.7777777777777778,
              "#fb9f3a"
             ],
             [
              0.8888888888888888,
              "#fdca26"
             ],
             [
              1,
              "#f0f921"
             ]
            ],
            "type": "heatmap"
           }
          ],
          "heatmapgl": [
           {
            "colorbar": {
             "outlinewidth": 0,
             "ticks": ""
            },
            "colorscale": [
             [
              0,
              "#0d0887"
             ],
             [
              0.1111111111111111,
              "#46039f"
             ],
             [
              0.2222222222222222,
              "#7201a8"
             ],
             [
              0.3333333333333333,
              "#9c179e"
             ],
             [
              0.4444444444444444,
              "#bd3786"
             ],
             [
              0.5555555555555556,
              "#d8576b"
             ],
             [
              0.6666666666666666,
              "#ed7953"
             ],
             [
              0.7777777777777778,
              "#fb9f3a"
             ],
             [
              0.8888888888888888,
              "#fdca26"
             ],
             [
              1,
              "#f0f921"
             ]
            ],
            "type": "heatmapgl"
           }
          ],
          "histogram": [
           {
            "marker": {
             "pattern": {
              "fillmode": "overlay",
              "size": 10,
              "solidity": 0.2
             }
            },
            "type": "histogram"
           }
          ],
          "histogram2d": [
           {
            "colorbar": {
             "outlinewidth": 0,
             "ticks": ""
            },
            "colorscale": [
             [
              0,
              "#0d0887"
             ],
             [
              0.1111111111111111,
              "#46039f"
             ],
             [
              0.2222222222222222,
              "#7201a8"
             ],
             [
              0.3333333333333333,
              "#9c179e"
             ],
             [
              0.4444444444444444,
              "#bd3786"
             ],
             [
              0.5555555555555556,
              "#d8576b"
             ],
             [
              0.6666666666666666,
              "#ed7953"
             ],
             [
              0.7777777777777778,
              "#fb9f3a"
             ],
             [
              0.8888888888888888,
              "#fdca26"
             ],
             [
              1,
              "#f0f921"
             ]
            ],
            "type": "histogram2d"
           }
          ],
          "histogram2dcontour": [
           {
            "colorbar": {
             "outlinewidth": 0,
             "ticks": ""
            },
            "colorscale": [
             [
              0,
              "#0d0887"
             ],
             [
              0.1111111111111111,
              "#46039f"
             ],
             [
              0.2222222222222222,
              "#7201a8"
             ],
             [
              0.3333333333333333,
              "#9c179e"
             ],
             [
              0.4444444444444444,
              "#bd3786"
             ],
             [
              0.5555555555555556,
              "#d8576b"
             ],
             [
              0.6666666666666666,
              "#ed7953"
             ],
             [
              0.7777777777777778,
              "#fb9f3a"
             ],
             [
              0.8888888888888888,
              "#fdca26"
             ],
             [
              1,
              "#f0f921"
             ]
            ],
            "type": "histogram2dcontour"
           }
          ],
          "mesh3d": [
           {
            "colorbar": {
             "outlinewidth": 0,
             "ticks": ""
            },
            "type": "mesh3d"
           }
          ],
          "parcoords": [
           {
            "line": {
             "colorbar": {
              "outlinewidth": 0,
              "ticks": ""
             }
            },
            "type": "parcoords"
           }
          ],
          "pie": [
           {
            "automargin": true,
            "type": "pie"
           }
          ],
          "scatter": [
           {
            "marker": {
             "colorbar": {
              "outlinewidth": 0,
              "ticks": ""
             }
            },
            "type": "scatter"
           }
          ],
          "scatter3d": [
           {
            "line": {
             "colorbar": {
              "outlinewidth": 0,
              "ticks": ""
             }
            },
            "marker": {
             "colorbar": {
              "outlinewidth": 0,
              "ticks": ""
             }
            },
            "type": "scatter3d"
           }
          ],
          "scattercarpet": [
           {
            "marker": {
             "colorbar": {
              "outlinewidth": 0,
              "ticks": ""
             }
            },
            "type": "scattercarpet"
           }
          ],
          "scattergeo": [
           {
            "marker": {
             "colorbar": {
              "outlinewidth": 0,
              "ticks": ""
             }
            },
            "type": "scattergeo"
           }
          ],
          "scattergl": [
           {
            "marker": {
             "colorbar": {
              "outlinewidth": 0,
              "ticks": ""
             }
            },
            "type": "scattergl"
           }
          ],
          "scattermapbox": [
           {
            "marker": {
             "colorbar": {
              "outlinewidth": 0,
              "ticks": ""
             }
            },
            "type": "scattermapbox"
           }
          ],
          "scatterpolar": [
           {
            "marker": {
             "colorbar": {
              "outlinewidth": 0,
              "ticks": ""
             }
            },
            "type": "scatterpolar"
           }
          ],
          "scatterpolargl": [
           {
            "marker": {
             "colorbar": {
              "outlinewidth": 0,
              "ticks": ""
             }
            },
            "type": "scatterpolargl"
           }
          ],
          "scatterternary": [
           {
            "marker": {
             "colorbar": {
              "outlinewidth": 0,
              "ticks": ""
             }
            },
            "type": "scatterternary"
           }
          ],
          "surface": [
           {
            "colorbar": {
             "outlinewidth": 0,
             "ticks": ""
            },
            "colorscale": [
             [
              0,
              "#0d0887"
             ],
             [
              0.1111111111111111,
              "#46039f"
             ],
             [
              0.2222222222222222,
              "#7201a8"
             ],
             [
              0.3333333333333333,
              "#9c179e"
             ],
             [
              0.4444444444444444,
              "#bd3786"
             ],
             [
              0.5555555555555556,
              "#d8576b"
             ],
             [
              0.6666666666666666,
              "#ed7953"
             ],
             [
              0.7777777777777778,
              "#fb9f3a"
             ],
             [
              0.8888888888888888,
              "#fdca26"
             ],
             [
              1,
              "#f0f921"
             ]
            ],
            "type": "surface"
           }
          ],
          "table": [
           {
            "cells": {
             "fill": {
              "color": "#EBF0F8"
             },
             "line": {
              "color": "white"
             }
            },
            "header": {
             "fill": {
              "color": "#C8D4E3"
             },
             "line": {
              "color": "white"
             }
            },
            "type": "table"
           }
          ]
         },
         "layout": {
          "annotationdefaults": {
           "arrowcolor": "#2a3f5f",
           "arrowhead": 0,
           "arrowwidth": 1
          },
          "autotypenumbers": "strict",
          "coloraxis": {
           "colorbar": {
            "outlinewidth": 0,
            "ticks": ""
           }
          },
          "colorscale": {
           "diverging": [
            [
             0,
             "#8e0152"
            ],
            [
             0.1,
             "#c51b7d"
            ],
            [
             0.2,
             "#de77ae"
            ],
            [
             0.3,
             "#f1b6da"
            ],
            [
             0.4,
             "#fde0ef"
            ],
            [
             0.5,
             "#f7f7f7"
            ],
            [
             0.6,
             "#e6f5d0"
            ],
            [
             0.7,
             "#b8e186"
            ],
            [
             0.8,
             "#7fbc41"
            ],
            [
             0.9,
             "#4d9221"
            ],
            [
             1,
             "#276419"
            ]
           ],
           "sequential": [
            [
             0,
             "#0d0887"
            ],
            [
             0.1111111111111111,
             "#46039f"
            ],
            [
             0.2222222222222222,
             "#7201a8"
            ],
            [
             0.3333333333333333,
             "#9c179e"
            ],
            [
             0.4444444444444444,
             "#bd3786"
            ],
            [
             0.5555555555555556,
             "#d8576b"
            ],
            [
             0.6666666666666666,
             "#ed7953"
            ],
            [
             0.7777777777777778,
             "#fb9f3a"
            ],
            [
             0.8888888888888888,
             "#fdca26"
            ],
            [
             1,
             "#f0f921"
            ]
           ],
           "sequentialminus": [
            [
             0,
             "#0d0887"
            ],
            [
             0.1111111111111111,
             "#46039f"
            ],
            [
             0.2222222222222222,
             "#7201a8"
            ],
            [
             0.3333333333333333,
             "#9c179e"
            ],
            [
             0.4444444444444444,
             "#bd3786"
            ],
            [
             0.5555555555555556,
             "#d8576b"
            ],
            [
             0.6666666666666666,
             "#ed7953"
            ],
            [
             0.7777777777777778,
             "#fb9f3a"
            ],
            [
             0.8888888888888888,
             "#fdca26"
            ],
            [
             1,
             "#f0f921"
            ]
           ]
          },
          "colorway": [
           "#636efa",
           "#EF553B",
           "#00cc96",
           "#ab63fa",
           "#FFA15A",
           "#19d3f3",
           "#FF6692",
           "#B6E880",
           "#FF97FF",
           "#FECB52"
          ],
          "font": {
           "color": "#2a3f5f"
          },
          "geo": {
           "bgcolor": "white",
           "lakecolor": "white",
           "landcolor": "#E5ECF6",
           "showlakes": true,
           "showland": true,
           "subunitcolor": "white"
          },
          "hoverlabel": {
           "align": "left"
          },
          "hovermode": "closest",
          "mapbox": {
           "style": "light"
          },
          "paper_bgcolor": "white",
          "plot_bgcolor": "#E5ECF6",
          "polar": {
           "angularaxis": {
            "gridcolor": "white",
            "linecolor": "white",
            "ticks": ""
           },
           "bgcolor": "#E5ECF6",
           "radialaxis": {
            "gridcolor": "white",
            "linecolor": "white",
            "ticks": ""
           }
          },
          "scene": {
           "xaxis": {
            "backgroundcolor": "#E5ECF6",
            "gridcolor": "white",
            "gridwidth": 2,
            "linecolor": "white",
            "showbackground": true,
            "ticks": "",
            "zerolinecolor": "white"
           },
           "yaxis": {
            "backgroundcolor": "#E5ECF6",
            "gridcolor": "white",
            "gridwidth": 2,
            "linecolor": "white",
            "showbackground": true,
            "ticks": "",
            "zerolinecolor": "white"
           },
           "zaxis": {
            "backgroundcolor": "#E5ECF6",
            "gridcolor": "white",
            "gridwidth": 2,
            "linecolor": "white",
            "showbackground": true,
            "ticks": "",
            "zerolinecolor": "white"
           }
          },
          "shapedefaults": {
           "line": {
            "color": "#2a3f5f"
           }
          },
          "ternary": {
           "aaxis": {
            "gridcolor": "white",
            "linecolor": "white",
            "ticks": ""
           },
           "baxis": {
            "gridcolor": "white",
            "linecolor": "white",
            "ticks": ""
           },
           "bgcolor": "#E5ECF6",
           "caxis": {
            "gridcolor": "white",
            "linecolor": "white",
            "ticks": ""
           }
          },
          "title": {
           "x": 0.05
          },
          "xaxis": {
           "automargin": true,
           "gridcolor": "white",
           "linecolor": "white",
           "ticks": "",
           "title": {
            "standoff": 15
           },
           "zerolinecolor": "white",
           "zerolinewidth": 2
          },
          "yaxis": {
           "automargin": true,
           "gridcolor": "white",
           "linecolor": "white",
           "ticks": "",
           "title": {
            "standoff": 15
           },
           "zerolinecolor": "white",
           "zerolinewidth": 2
          }
         }
        },
        "title": {
         "text": "Close Price Percentage Change Over Time"
        },
        "xaxis": {
         "anchor": "y",
         "domain": [
          0,
          1
         ],
         "title": {
          "text": "Date"
         }
        },
        "yaxis": {
         "anchor": "x",
         "domain": [
          0,
          1
         ],
         "title": {
          "text": "Percentage Change"
         }
        }
       }
      },
      "text/html": [
       "<div>                            <div id=\"86438429-afee-4736-ad92-9fbac7f69eea\" class=\"plotly-graph-div\" style=\"height:525px; width:100%;\"></div>            <script type=\"text/javascript\">                require([\"plotly\"], function(Plotly) {                    window.PLOTLYENV=window.PLOTLYENV || {};                                    if (document.getElementById(\"86438429-afee-4736-ad92-9fbac7f69eea\")) {                    Plotly.newPlot(                        \"86438429-afee-4736-ad92-9fbac7f69eea\",                        [{\"hovertemplate\":\"Date=%{x}<br>Close_price_pct_change=%{y}<extra></extra>\",\"legendgroup\":\"\",\"line\":{\"color\":\"#636efa\",\"dash\":\"solid\"},\"mode\":\"lines\",\"name\":\"\",\"showlegend\":false,\"type\":\"scattergl\",\"x\":[\"2017-07-31T00:00:00\",\"2017-07-30T00:00:00\",\"2017-07-29T00:00:00\",\"2017-07-28T00:00:00\",\"2017-07-27T00:00:00\",\"2017-07-26T00:00:00\",\"2017-07-25T00:00:00\",\"2017-07-24T00:00:00\",\"2017-07-23T00:00:00\",\"2017-07-22T00:00:00\",\"2017-07-21T00:00:00\",\"2017-07-20T00:00:00\",\"2017-07-19T00:00:00\",\"2017-07-18T00:00:00\",\"2017-07-17T00:00:00\",\"2017-07-16T00:00:00\",\"2017-07-15T00:00:00\",\"2017-07-14T00:00:00\",\"2017-07-13T00:00:00\",\"2017-07-12T00:00:00\",\"2017-07-11T00:00:00\",\"2017-07-10T00:00:00\",\"2017-07-09T00:00:00\",\"2017-07-08T00:00:00\",\"2017-07-07T00:00:00\",\"2017-07-06T00:00:00\",\"2017-07-05T00:00:00\",\"2017-07-04T00:00:00\",\"2017-07-03T00:00:00\",\"2017-07-02T00:00:00\",\"2017-07-01T00:00:00\",\"2017-06-30T00:00:00\",\"2017-06-29T00:00:00\",\"2017-06-28T00:00:00\",\"2017-06-27T00:00:00\",\"2017-06-26T00:00:00\",\"2017-06-25T00:00:00\",\"2017-06-24T00:00:00\",\"2017-06-23T00:00:00\",\"2017-06-22T00:00:00\",\"2017-06-21T00:00:00\",\"2017-06-20T00:00:00\",\"2017-06-19T00:00:00\",\"2017-06-18T00:00:00\",\"2017-06-17T00:00:00\",\"2017-06-16T00:00:00\",\"2017-06-15T00:00:00\",\"2017-06-14T00:00:00\",\"2017-06-13T00:00:00\",\"2017-06-12T00:00:00\",\"2017-06-11T00:00:00\",\"2017-06-10T00:00:00\",\"2017-06-09T00:00:00\",\"2017-06-08T00:00:00\",\"2017-06-07T00:00:00\",\"2017-06-06T00:00:00\",\"2017-06-05T00:00:00\",\"2017-06-04T00:00:00\",\"2017-06-03T00:00:00\",\"2017-06-02T00:00:00\",\"2017-06-01T00:00:00\",\"2017-05-31T00:00:00\",\"2017-05-30T00:00:00\",\"2017-05-29T00:00:00\",\"2017-05-28T00:00:00\",\"2017-05-27T00:00:00\",\"2017-05-26T00:00:00\",\"2017-05-25T00:00:00\",\"2017-05-24T00:00:00\",\"2017-05-23T00:00:00\",\"2017-05-22T00:00:00\",\"2017-05-21T00:00:00\",\"2017-05-20T00:00:00\",\"2017-05-19T00:00:00\",\"2017-05-18T00:00:00\",\"2017-05-17T00:00:00\",\"2017-05-16T00:00:00\",\"2017-05-15T00:00:00\",\"2017-05-14T00:00:00\",\"2017-05-13T00:00:00\",\"2017-05-12T00:00:00\",\"2017-05-11T00:00:00\",\"2017-05-10T00:00:00\",\"2017-05-09T00:00:00\",\"2017-05-08T00:00:00\",\"2017-05-07T00:00:00\",\"2017-05-06T00:00:00\",\"2017-05-05T00:00:00\",\"2017-05-04T00:00:00\",\"2017-05-03T00:00:00\",\"2017-05-02T00:00:00\",\"2017-05-01T00:00:00\",\"2017-04-30T00:00:00\",\"2017-04-29T00:00:00\",\"2017-04-28T00:00:00\",\"2017-04-27T00:00:00\",\"2017-04-26T00:00:00\",\"2017-04-25T00:00:00\",\"2017-04-24T00:00:00\",\"2017-04-23T00:00:00\",\"2017-04-22T00:00:00\",\"2017-04-21T00:00:00\",\"2017-04-20T00:00:00\",\"2017-04-19T00:00:00\",\"2017-04-18T00:00:00\",\"2017-04-17T00:00:00\",\"2017-04-16T00:00:00\",\"2017-04-15T00:00:00\",\"2017-04-14T00:00:00\",\"2017-04-13T00:00:00\",\"2017-04-12T00:00:00\",\"2017-04-11T00:00:00\",\"2017-04-10T00:00:00\",\"2017-04-09T00:00:00\",\"2017-04-08T00:00:00\",\"2017-04-07T00:00:00\",\"2017-04-06T00:00:00\",\"2017-04-05T00:00:00\",\"2017-04-04T00:00:00\",\"2017-04-03T00:00:00\",\"2017-04-02T00:00:00\",\"2017-04-01T00:00:00\",\"2017-03-31T00:00:00\",\"2017-03-30T00:00:00\",\"2017-03-29T00:00:00\",\"2017-03-28T00:00:00\",\"2017-03-27T00:00:00\",\"2017-03-26T00:00:00\",\"2017-03-25T00:00:00\",\"2017-03-24T00:00:00\",\"2017-03-23T00:00:00\",\"2017-03-22T00:00:00\",\"2017-03-21T00:00:00\",\"2017-03-20T00:00:00\",\"2017-03-19T00:00:00\",\"2017-03-18T00:00:00\",\"2017-03-17T00:00:00\",\"2017-03-16T00:00:00\",\"2017-03-15T00:00:00\",\"2017-03-14T00:00:00\",\"2017-03-13T00:00:00\",\"2017-03-12T00:00:00\",\"2017-03-11T00:00:00\",\"2017-03-10T00:00:00\",\"2017-03-09T00:00:00\",\"2017-03-08T00:00:00\",\"2017-03-07T00:00:00\",\"2017-03-06T00:00:00\",\"2017-03-05T00:00:00\",\"2017-03-04T00:00:00\",\"2017-03-03T00:00:00\",\"2017-03-02T00:00:00\",\"2017-03-01T00:00:00\",\"2017-02-28T00:00:00\",\"2017-02-27T00:00:00\",\"2017-02-26T00:00:00\",\"2017-02-25T00:00:00\",\"2017-02-24T00:00:00\",\"2017-02-23T00:00:00\",\"2017-02-22T00:00:00\",\"2017-02-21T00:00:00\",\"2017-02-20T00:00:00\",\"2017-02-19T00:00:00\",\"2017-02-18T00:00:00\",\"2017-02-17T00:00:00\",\"2017-02-16T00:00:00\",\"2017-02-15T00:00:00\",\"2017-02-14T00:00:00\",\"2017-02-13T00:00:00\",\"2017-02-12T00:00:00\",\"2017-02-11T00:00:00\",\"2017-02-10T00:00:00\",\"2017-02-09T00:00:00\",\"2017-02-08T00:00:00\",\"2017-02-07T00:00:00\",\"2017-02-06T00:00:00\",\"2017-02-05T00:00:00\",\"2017-02-04T00:00:00\",\"2017-02-03T00:00:00\",\"2017-02-02T00:00:00\",\"2017-02-01T00:00:00\",\"2017-01-31T00:00:00\",\"2017-01-30T00:00:00\",\"2017-01-29T00:00:00\",\"2017-01-28T00:00:00\",\"2017-01-27T00:00:00\",\"2017-01-26T00:00:00\",\"2017-01-25T00:00:00\",\"2017-01-24T00:00:00\",\"2017-01-23T00:00:00\",\"2017-01-22T00:00:00\",\"2017-01-21T00:00:00\",\"2017-01-20T00:00:00\",\"2017-01-19T00:00:00\",\"2017-01-18T00:00:00\",\"2017-01-17T00:00:00\",\"2017-01-16T00:00:00\",\"2017-01-15T00:00:00\",\"2017-01-14T00:00:00\",\"2017-01-13T00:00:00\",\"2017-01-12T00:00:00\",\"2017-01-11T00:00:00\",\"2017-01-10T00:00:00\",\"2017-01-09T00:00:00\",\"2017-01-08T00:00:00\",\"2017-01-07T00:00:00\",\"2017-01-06T00:00:00\",\"2017-01-05T00:00:00\",\"2017-01-04T00:00:00\",\"2017-01-03T00:00:00\",\"2017-01-02T00:00:00\",\"2017-01-01T00:00:00\",\"2016-12-31T00:00:00\",\"2016-12-30T00:00:00\",\"2016-12-29T00:00:00\",\"2016-12-28T00:00:00\",\"2016-12-27T00:00:00\",\"2016-12-26T00:00:00\",\"2016-12-25T00:00:00\",\"2016-12-24T00:00:00\",\"2016-12-23T00:00:00\",\"2016-12-22T00:00:00\",\"2016-12-21T00:00:00\",\"2016-12-20T00:00:00\",\"2016-12-19T00:00:00\",\"2016-12-18T00:00:00\",\"2016-12-17T00:00:00\",\"2016-12-16T00:00:00\",\"2016-12-15T00:00:00\",\"2016-12-14T00:00:00\",\"2016-12-13T00:00:00\",\"2016-12-12T00:00:00\",\"2016-12-11T00:00:00\",\"2016-12-10T00:00:00\",\"2016-12-09T00:00:00\",\"2016-12-08T00:00:00\",\"2016-12-07T00:00:00\",\"2016-12-06T00:00:00\",\"2016-12-05T00:00:00\",\"2016-12-04T00:00:00\",\"2016-12-03T00:00:00\",\"2016-12-02T00:00:00\",\"2016-12-01T00:00:00\",\"2016-11-30T00:00:00\",\"2016-11-29T00:00:00\",\"2016-11-28T00:00:00\",\"2016-11-27T00:00:00\",\"2016-11-26T00:00:00\",\"2016-11-25T00:00:00\",\"2016-11-24T00:00:00\",\"2016-11-23T00:00:00\",\"2016-11-22T00:00:00\",\"2016-11-21T00:00:00\",\"2016-11-20T00:00:00\",\"2016-11-19T00:00:00\",\"2016-11-18T00:00:00\",\"2016-11-17T00:00:00\",\"2016-11-16T00:00:00\",\"2016-11-15T00:00:00\",\"2016-11-14T00:00:00\",\"2016-11-13T00:00:00\",\"2016-11-12T00:00:00\",\"2016-11-11T00:00:00\",\"2016-11-10T00:00:00\",\"2016-11-09T00:00:00\",\"2016-11-08T00:00:00\",\"2016-11-07T00:00:00\",\"2016-11-06T00:00:00\",\"2016-11-05T00:00:00\",\"2016-11-04T00:00:00\",\"2016-11-03T00:00:00\",\"2016-11-02T00:00:00\",\"2016-11-01T00:00:00\",\"2016-10-31T00:00:00\",\"2016-10-30T00:00:00\",\"2016-10-29T00:00:00\",\"2016-10-28T00:00:00\",\"2016-10-27T00:00:00\",\"2016-10-26T00:00:00\",\"2016-10-25T00:00:00\",\"2016-10-24T00:00:00\",\"2016-10-23T00:00:00\",\"2016-10-22T00:00:00\",\"2016-10-21T00:00:00\",\"2016-10-20T00:00:00\",\"2016-10-19T00:00:00\",\"2016-10-18T00:00:00\",\"2016-10-17T00:00:00\",\"2016-10-16T00:00:00\",\"2016-10-15T00:00:00\",\"2016-10-14T00:00:00\",\"2016-10-13T00:00:00\",\"2016-10-12T00:00:00\",\"2016-10-11T00:00:00\",\"2016-10-10T00:00:00\",\"2016-10-09T00:00:00\",\"2016-10-08T00:00:00\",\"2016-10-07T00:00:00\",\"2016-10-06T00:00:00\",\"2016-10-05T00:00:00\",\"2016-10-04T00:00:00\",\"2016-10-03T00:00:00\",\"2016-10-02T00:00:00\",\"2016-10-01T00:00:00\",\"2016-09-30T00:00:00\",\"2016-09-29T00:00:00\",\"2016-09-28T00:00:00\",\"2016-09-27T00:00:00\",\"2016-09-26T00:00:00\",\"2016-09-25T00:00:00\",\"2016-09-24T00:00:00\",\"2016-09-23T00:00:00\",\"2016-09-22T00:00:00\",\"2016-09-21T00:00:00\",\"2016-09-20T00:00:00\",\"2016-09-19T00:00:00\",\"2016-09-18T00:00:00\",\"2016-09-17T00:00:00\",\"2016-09-16T00:00:00\",\"2016-09-15T00:00:00\",\"2016-09-14T00:00:00\",\"2016-09-13T00:00:00\",\"2016-09-12T00:00:00\",\"2016-09-11T00:00:00\",\"2016-09-10T00:00:00\",\"2016-09-09T00:00:00\",\"2016-09-08T00:00:00\",\"2016-09-07T00:00:00\",\"2016-09-06T00:00:00\",\"2016-09-05T00:00:00\",\"2016-09-04T00:00:00\",\"2016-09-03T00:00:00\",\"2016-09-02T00:00:00\",\"2016-09-01T00:00:00\",\"2016-08-31T00:00:00\",\"2016-08-30T00:00:00\",\"2016-08-29T00:00:00\",\"2016-08-28T00:00:00\",\"2016-08-27T00:00:00\",\"2016-08-26T00:00:00\",\"2016-08-25T00:00:00\",\"2016-08-24T00:00:00\",\"2016-08-23T00:00:00\",\"2016-08-22T00:00:00\",\"2016-08-21T00:00:00\",\"2016-08-20T00:00:00\",\"2016-08-19T00:00:00\",\"2016-08-18T00:00:00\",\"2016-08-17T00:00:00\",\"2016-08-16T00:00:00\",\"2016-08-15T00:00:00\",\"2016-08-14T00:00:00\",\"2016-08-13T00:00:00\",\"2016-08-12T00:00:00\",\"2016-08-11T00:00:00\",\"2016-08-10T00:00:00\",\"2016-08-09T00:00:00\",\"2016-08-08T00:00:00\",\"2016-08-07T00:00:00\",\"2016-08-06T00:00:00\",\"2016-08-05T00:00:00\",\"2016-08-04T00:00:00\",\"2016-08-03T00:00:00\",\"2016-08-02T00:00:00\",\"2016-08-01T00:00:00\",\"2016-07-31T00:00:00\",\"2016-07-30T00:00:00\",\"2016-07-29T00:00:00\",\"2016-07-28T00:00:00\",\"2016-07-27T00:00:00\",\"2016-07-26T00:00:00\",\"2016-07-25T00:00:00\",\"2016-07-24T00:00:00\",\"2016-07-23T00:00:00\",\"2016-07-22T00:00:00\",\"2016-07-21T00:00:00\",\"2016-07-20T00:00:00\",\"2016-07-19T00:00:00\",\"2016-07-18T00:00:00\",\"2016-07-17T00:00:00\",\"2016-07-16T00:00:00\",\"2016-07-15T00:00:00\",\"2016-07-14T00:00:00\",\"2016-07-13T00:00:00\",\"2016-07-12T00:00:00\",\"2016-07-11T00:00:00\",\"2016-07-10T00:00:00\",\"2016-07-09T00:00:00\",\"2016-07-08T00:00:00\",\"2016-07-07T00:00:00\",\"2016-07-06T00:00:00\",\"2016-07-05T00:00:00\",\"2016-07-04T00:00:00\",\"2016-07-03T00:00:00\",\"2016-07-02T00:00:00\",\"2016-07-01T00:00:00\",\"2016-06-30T00:00:00\",\"2016-06-29T00:00:00\",\"2016-06-28T00:00:00\",\"2016-06-27T00:00:00\",\"2016-06-26T00:00:00\",\"2016-06-25T00:00:00\",\"2016-06-24T00:00:00\",\"2016-06-23T00:00:00\",\"2016-06-22T00:00:00\",\"2016-06-21T00:00:00\",\"2016-06-20T00:00:00\",\"2016-06-19T00:00:00\",\"2016-06-18T00:00:00\",\"2016-06-17T00:00:00\",\"2016-06-16T00:00:00\",\"2016-06-15T00:00:00\",\"2016-06-14T00:00:00\",\"2016-06-13T00:00:00\",\"2016-06-12T00:00:00\",\"2016-06-11T00:00:00\",\"2016-06-10T00:00:00\",\"2016-06-09T00:00:00\",\"2016-06-08T00:00:00\",\"2016-06-07T00:00:00\",\"2016-06-06T00:00:00\",\"2016-06-05T00:00:00\",\"2016-06-04T00:00:00\",\"2016-06-03T00:00:00\",\"2016-06-02T00:00:00\",\"2016-06-01T00:00:00\",\"2016-05-31T00:00:00\",\"2016-05-30T00:00:00\",\"2016-05-29T00:00:00\",\"2016-05-28T00:00:00\",\"2016-05-27T00:00:00\",\"2016-05-26T00:00:00\",\"2016-05-25T00:00:00\",\"2016-05-24T00:00:00\",\"2016-05-23T00:00:00\",\"2016-05-22T00:00:00\",\"2016-05-21T00:00:00\",\"2016-05-20T00:00:00\",\"2016-05-19T00:00:00\",\"2016-05-18T00:00:00\",\"2016-05-17T00:00:00\",\"2016-05-16T00:00:00\",\"2016-05-15T00:00:00\",\"2016-05-14T00:00:00\",\"2016-05-13T00:00:00\",\"2016-05-12T00:00:00\",\"2016-05-11T00:00:00\",\"2016-05-10T00:00:00\",\"2016-05-09T00:00:00\",\"2016-05-08T00:00:00\",\"2016-05-07T00:00:00\",\"2016-05-06T00:00:00\",\"2016-05-05T00:00:00\",\"2016-05-04T00:00:00\",\"2016-05-03T00:00:00\",\"2016-05-02T00:00:00\",\"2016-05-01T00:00:00\",\"2016-04-30T00:00:00\",\"2016-04-29T00:00:00\",\"2016-04-28T00:00:00\",\"2016-04-27T00:00:00\",\"2016-04-26T00:00:00\",\"2016-04-25T00:00:00\",\"2016-04-24T00:00:00\",\"2016-04-23T00:00:00\",\"2016-04-22T00:00:00\",\"2016-04-21T00:00:00\",\"2016-04-20T00:00:00\",\"2016-04-19T00:00:00\",\"2016-04-18T00:00:00\",\"2016-04-17T00:00:00\",\"2016-04-16T00:00:00\",\"2016-04-15T00:00:00\",\"2016-04-14T00:00:00\",\"2016-04-13T00:00:00\",\"2016-04-12T00:00:00\",\"2016-04-11T00:00:00\",\"2016-04-10T00:00:00\",\"2016-04-09T00:00:00\",\"2016-04-08T00:00:00\",\"2016-04-07T00:00:00\",\"2016-04-06T00:00:00\",\"2016-04-05T00:00:00\",\"2016-04-04T00:00:00\",\"2016-04-03T00:00:00\",\"2016-04-02T00:00:00\",\"2016-04-01T00:00:00\",\"2016-03-31T00:00:00\",\"2016-03-30T00:00:00\",\"2016-03-29T00:00:00\",\"2016-03-28T00:00:00\",\"2016-03-27T00:00:00\",\"2016-03-26T00:00:00\",\"2016-03-25T00:00:00\",\"2016-03-24T00:00:00\",\"2016-03-23T00:00:00\",\"2016-03-22T00:00:00\",\"2016-03-21T00:00:00\",\"2016-03-20T00:00:00\",\"2016-03-19T00:00:00\",\"2016-03-18T00:00:00\",\"2016-03-17T00:00:00\",\"2016-03-16T00:00:00\",\"2016-03-15T00:00:00\",\"2016-03-14T00:00:00\",\"2016-03-13T00:00:00\",\"2016-03-12T00:00:00\",\"2016-03-11T00:00:00\",\"2016-03-10T00:00:00\",\"2016-03-09T00:00:00\",\"2016-03-08T00:00:00\",\"2016-03-07T00:00:00\",\"2016-03-06T00:00:00\",\"2016-03-05T00:00:00\",\"2016-03-04T00:00:00\",\"2016-03-03T00:00:00\",\"2016-03-02T00:00:00\",\"2016-03-01T00:00:00\",\"2016-02-29T00:00:00\",\"2016-02-28T00:00:00\",\"2016-02-27T00:00:00\",\"2016-02-26T00:00:00\",\"2016-02-25T00:00:00\",\"2016-02-24T00:00:00\",\"2016-02-23T00:00:00\",\"2016-02-22T00:00:00\",\"2016-02-21T00:00:00\",\"2016-02-20T00:00:00\",\"2016-02-19T00:00:00\",\"2016-02-18T00:00:00\",\"2016-02-17T00:00:00\",\"2016-02-16T00:00:00\",\"2016-02-15T00:00:00\",\"2016-02-14T00:00:00\",\"2016-02-13T00:00:00\",\"2016-02-12T00:00:00\",\"2016-02-11T00:00:00\",\"2016-02-10T00:00:00\",\"2016-02-09T00:00:00\",\"2016-02-08T00:00:00\",\"2016-02-07T00:00:00\",\"2016-02-06T00:00:00\",\"2016-02-05T00:00:00\",\"2016-02-04T00:00:00\",\"2016-02-03T00:00:00\",\"2016-02-02T00:00:00\",\"2016-02-01T00:00:00\",\"2016-01-31T00:00:00\",\"2016-01-30T00:00:00\",\"2016-01-29T00:00:00\",\"2016-01-28T00:00:00\",\"2016-01-27T00:00:00\",\"2016-01-26T00:00:00\",\"2016-01-25T00:00:00\",\"2016-01-24T00:00:00\",\"2016-01-23T00:00:00\",\"2016-01-22T00:00:00\",\"2016-01-21T00:00:00\",\"2016-01-20T00:00:00\",\"2016-01-19T00:00:00\",\"2016-01-18T00:00:00\",\"2016-01-17T00:00:00\",\"2016-01-16T00:00:00\",\"2016-01-15T00:00:00\",\"2016-01-14T00:00:00\",\"2016-01-13T00:00:00\",\"2016-01-12T00:00:00\",\"2016-01-11T00:00:00\",\"2016-01-10T00:00:00\",\"2016-01-09T00:00:00\",\"2016-01-08T00:00:00\",\"2016-01-07T00:00:00\",\"2016-01-06T00:00:00\",\"2016-01-05T00:00:00\",\"2016-01-04T00:00:00\",\"2016-01-03T00:00:00\",\"2016-01-02T00:00:00\",\"2016-01-01T00:00:00\",\"2015-12-31T00:00:00\",\"2015-12-30T00:00:00\",\"2015-12-29T00:00:00\",\"2015-12-28T00:00:00\",\"2015-12-27T00:00:00\",\"2015-12-26T00:00:00\",\"2015-12-25T00:00:00\",\"2015-12-24T00:00:00\",\"2015-12-23T00:00:00\",\"2015-12-22T00:00:00\",\"2015-12-21T00:00:00\",\"2015-12-20T00:00:00\",\"2015-12-19T00:00:00\",\"2015-12-18T00:00:00\",\"2015-12-17T00:00:00\",\"2015-12-16T00:00:00\",\"2015-12-15T00:00:00\",\"2015-12-14T00:00:00\",\"2015-12-13T00:00:00\",\"2015-12-12T00:00:00\",\"2015-12-11T00:00:00\",\"2015-12-10T00:00:00\",\"2015-12-09T00:00:00\",\"2015-12-08T00:00:00\",\"2015-12-07T00:00:00\",\"2015-12-06T00:00:00\",\"2015-12-05T00:00:00\",\"2015-12-04T00:00:00\",\"2015-12-03T00:00:00\",\"2015-12-02T00:00:00\",\"2015-12-01T00:00:00\",\"2015-11-30T00:00:00\",\"2015-11-29T00:00:00\",\"2015-11-28T00:00:00\",\"2015-11-27T00:00:00\",\"2015-11-26T00:00:00\",\"2015-11-25T00:00:00\",\"2015-11-24T00:00:00\",\"2015-11-23T00:00:00\",\"2015-11-22T00:00:00\",\"2015-11-21T00:00:00\",\"2015-11-20T00:00:00\",\"2015-11-19T00:00:00\",\"2015-11-18T00:00:00\",\"2015-11-17T00:00:00\",\"2015-11-16T00:00:00\",\"2015-11-15T00:00:00\",\"2015-11-14T00:00:00\",\"2015-11-13T00:00:00\",\"2015-11-12T00:00:00\",\"2015-11-11T00:00:00\",\"2015-11-10T00:00:00\",\"2015-11-09T00:00:00\",\"2015-11-08T00:00:00\",\"2015-11-07T00:00:00\",\"2015-11-06T00:00:00\",\"2015-11-05T00:00:00\",\"2015-11-04T00:00:00\",\"2015-11-03T00:00:00\",\"2015-11-02T00:00:00\",\"2015-11-01T00:00:00\",\"2015-10-31T00:00:00\",\"2015-10-30T00:00:00\",\"2015-10-29T00:00:00\",\"2015-10-28T00:00:00\",\"2015-10-27T00:00:00\",\"2015-10-26T00:00:00\",\"2015-10-25T00:00:00\",\"2015-10-24T00:00:00\",\"2015-10-23T00:00:00\",\"2015-10-22T00:00:00\",\"2015-10-21T00:00:00\",\"2015-10-20T00:00:00\",\"2015-10-19T00:00:00\",\"2015-10-18T00:00:00\",\"2015-10-17T00:00:00\",\"2015-10-16T00:00:00\",\"2015-10-15T00:00:00\",\"2015-10-14T00:00:00\",\"2015-10-13T00:00:00\",\"2015-10-12T00:00:00\",\"2015-10-11T00:00:00\",\"2015-10-10T00:00:00\",\"2015-10-09T00:00:00\",\"2015-10-08T00:00:00\",\"2015-10-07T00:00:00\",\"2015-10-06T00:00:00\",\"2015-10-05T00:00:00\",\"2015-10-04T00:00:00\",\"2015-10-03T00:00:00\",\"2015-10-02T00:00:00\",\"2015-10-01T00:00:00\",\"2015-09-30T00:00:00\",\"2015-09-29T00:00:00\",\"2015-09-28T00:00:00\",\"2015-09-27T00:00:00\",\"2015-09-26T00:00:00\",\"2015-09-25T00:00:00\",\"2015-09-24T00:00:00\",\"2015-09-23T00:00:00\",\"2015-09-22T00:00:00\",\"2015-09-21T00:00:00\",\"2015-09-20T00:00:00\",\"2015-09-19T00:00:00\",\"2015-09-18T00:00:00\",\"2015-09-17T00:00:00\",\"2015-09-16T00:00:00\",\"2015-09-15T00:00:00\",\"2015-09-14T00:00:00\",\"2015-09-13T00:00:00\",\"2015-09-12T00:00:00\",\"2015-09-11T00:00:00\",\"2015-09-10T00:00:00\",\"2015-09-09T00:00:00\",\"2015-09-08T00:00:00\",\"2015-09-07T00:00:00\",\"2015-09-06T00:00:00\",\"2015-09-05T00:00:00\",\"2015-09-04T00:00:00\",\"2015-09-03T00:00:00\",\"2015-09-02T00:00:00\",\"2015-09-01T00:00:00\",\"2015-08-31T00:00:00\",\"2015-08-30T00:00:00\",\"2015-08-29T00:00:00\",\"2015-08-28T00:00:00\",\"2015-08-27T00:00:00\",\"2015-08-26T00:00:00\",\"2015-08-25T00:00:00\",\"2015-08-24T00:00:00\",\"2015-08-23T00:00:00\",\"2015-08-22T00:00:00\",\"2015-08-21T00:00:00\",\"2015-08-20T00:00:00\",\"2015-08-19T00:00:00\",\"2015-08-18T00:00:00\",\"2015-08-17T00:00:00\",\"2015-08-16T00:00:00\",\"2015-08-15T00:00:00\",\"2015-08-14T00:00:00\",\"2015-08-13T00:00:00\",\"2015-08-12T00:00:00\",\"2015-08-11T00:00:00\",\"2015-08-10T00:00:00\",\"2015-08-09T00:00:00\",\"2015-08-08T00:00:00\",\"2015-08-07T00:00:00\",\"2015-08-06T00:00:00\",\"2015-08-05T00:00:00\",\"2015-08-04T00:00:00\",\"2015-08-03T00:00:00\",\"2015-08-02T00:00:00\",\"2015-08-01T00:00:00\",\"2015-07-31T00:00:00\",\"2015-07-30T00:00:00\",\"2015-07-29T00:00:00\",\"2015-07-28T00:00:00\",\"2015-07-27T00:00:00\",\"2015-07-26T00:00:00\",\"2015-07-25T00:00:00\",\"2015-07-24T00:00:00\",\"2015-07-23T00:00:00\",\"2015-07-22T00:00:00\",\"2015-07-21T00:00:00\",\"2015-07-20T00:00:00\",\"2015-07-19T00:00:00\",\"2015-07-18T00:00:00\",\"2015-07-17T00:00:00\",\"2015-07-16T00:00:00\",\"2015-07-15T00:00:00\",\"2015-07-14T00:00:00\",\"2015-07-13T00:00:00\",\"2015-07-12T00:00:00\",\"2015-07-11T00:00:00\",\"2015-07-10T00:00:00\",\"2015-07-09T00:00:00\",\"2015-07-08T00:00:00\",\"2015-07-07T00:00:00\",\"2015-07-06T00:00:00\",\"2015-07-05T00:00:00\",\"2015-07-04T00:00:00\",\"2015-07-03T00:00:00\",\"2015-07-02T00:00:00\",\"2015-07-01T00:00:00\",\"2015-06-30T00:00:00\",\"2015-06-29T00:00:00\",\"2015-06-28T00:00:00\",\"2015-06-27T00:00:00\",\"2015-06-26T00:00:00\",\"2015-06-25T00:00:00\",\"2015-06-24T00:00:00\",\"2015-06-23T00:00:00\",\"2015-06-22T00:00:00\",\"2015-06-21T00:00:00\",\"2015-06-20T00:00:00\",\"2015-06-19T00:00:00\",\"2015-06-18T00:00:00\",\"2015-06-17T00:00:00\",\"2015-06-16T00:00:00\",\"2015-06-15T00:00:00\",\"2015-06-14T00:00:00\",\"2015-06-13T00:00:00\",\"2015-06-12T00:00:00\",\"2015-06-11T00:00:00\",\"2015-06-10T00:00:00\",\"2015-06-09T00:00:00\",\"2015-06-08T00:00:00\",\"2015-06-07T00:00:00\",\"2015-06-06T00:00:00\",\"2015-06-05T00:00:00\",\"2015-06-04T00:00:00\",\"2015-06-03T00:00:00\",\"2015-06-02T00:00:00\",\"2015-06-01T00:00:00\",\"2015-05-31T00:00:00\",\"2015-05-30T00:00:00\",\"2015-05-29T00:00:00\",\"2015-05-28T00:00:00\",\"2015-05-27T00:00:00\",\"2015-05-26T00:00:00\",\"2015-05-25T00:00:00\",\"2015-05-24T00:00:00\",\"2015-05-23T00:00:00\",\"2015-05-22T00:00:00\",\"2015-05-21T00:00:00\",\"2015-05-20T00:00:00\",\"2015-05-19T00:00:00\",\"2015-05-18T00:00:00\",\"2015-05-17T00:00:00\",\"2015-05-16T00:00:00\",\"2015-05-15T00:00:00\",\"2015-05-14T00:00:00\",\"2015-05-13T00:00:00\",\"2015-05-12T00:00:00\",\"2015-05-11T00:00:00\",\"2015-05-10T00:00:00\",\"2015-05-09T00:00:00\",\"2015-05-08T00:00:00\",\"2015-05-07T00:00:00\",\"2015-05-06T00:00:00\",\"2015-05-05T00:00:00\",\"2015-05-04T00:00:00\",\"2015-05-03T00:00:00\",\"2015-05-02T00:00:00\",\"2015-05-01T00:00:00\",\"2015-04-30T00:00:00\",\"2015-04-29T00:00:00\",\"2015-04-28T00:00:00\",\"2015-04-27T00:00:00\",\"2015-04-26T00:00:00\",\"2015-04-25T00:00:00\",\"2015-04-24T00:00:00\",\"2015-04-23T00:00:00\",\"2015-04-22T00:00:00\",\"2015-04-21T00:00:00\",\"2015-04-20T00:00:00\",\"2015-04-19T00:00:00\",\"2015-04-18T00:00:00\",\"2015-04-17T00:00:00\",\"2015-04-16T00:00:00\",\"2015-04-15T00:00:00\",\"2015-04-14T00:00:00\",\"2015-04-13T00:00:00\",\"2015-04-12T00:00:00\",\"2015-04-11T00:00:00\",\"2015-04-10T00:00:00\",\"2015-04-09T00:00:00\",\"2015-04-08T00:00:00\",\"2015-04-07T00:00:00\",\"2015-04-06T00:00:00\",\"2015-04-05T00:00:00\",\"2015-04-04T00:00:00\",\"2015-04-03T00:00:00\",\"2015-04-02T00:00:00\",\"2015-04-01T00:00:00\",\"2015-03-31T00:00:00\",\"2015-03-30T00:00:00\",\"2015-03-29T00:00:00\",\"2015-03-28T00:00:00\",\"2015-03-27T00:00:00\",\"2015-03-26T00:00:00\",\"2015-03-25T00:00:00\",\"2015-03-24T00:00:00\",\"2015-03-23T00:00:00\",\"2015-03-22T00:00:00\",\"2015-03-21T00:00:00\",\"2015-03-20T00:00:00\",\"2015-03-19T00:00:00\",\"2015-03-18T00:00:00\",\"2015-03-17T00:00:00\",\"2015-03-16T00:00:00\",\"2015-03-15T00:00:00\",\"2015-03-14T00:00:00\",\"2015-03-13T00:00:00\",\"2015-03-12T00:00:00\",\"2015-03-11T00:00:00\",\"2015-03-10T00:00:00\",\"2015-03-09T00:00:00\",\"2015-03-08T00:00:00\",\"2015-03-07T00:00:00\",\"2015-03-06T00:00:00\",\"2015-03-05T00:00:00\",\"2015-03-04T00:00:00\",\"2015-03-03T00:00:00\",\"2015-03-02T00:00:00\",\"2015-03-01T00:00:00\",\"2015-02-28T00:00:00\",\"2015-02-27T00:00:00\",\"2015-02-26T00:00:00\",\"2015-02-25T00:00:00\",\"2015-02-24T00:00:00\",\"2015-02-23T00:00:00\",\"2015-02-22T00:00:00\",\"2015-02-21T00:00:00\",\"2015-02-20T00:00:00\",\"2015-02-19T00:00:00\",\"2015-02-18T00:00:00\",\"2015-02-17T00:00:00\",\"2015-02-16T00:00:00\",\"2015-02-15T00:00:00\",\"2015-02-14T00:00:00\",\"2015-02-13T00:00:00\",\"2015-02-12T00:00:00\",\"2015-02-11T00:00:00\",\"2015-02-10T00:00:00\",\"2015-02-09T00:00:00\",\"2015-02-08T00:00:00\",\"2015-02-07T00:00:00\",\"2015-02-06T00:00:00\",\"2015-02-05T00:00:00\",\"2015-02-04T00:00:00\",\"2015-02-03T00:00:00\",\"2015-02-02T00:00:00\",\"2015-02-01T00:00:00\",\"2015-01-31T00:00:00\",\"2015-01-30T00:00:00\",\"2015-01-29T00:00:00\",\"2015-01-28T00:00:00\",\"2015-01-27T00:00:00\",\"2015-01-26T00:00:00\",\"2015-01-25T00:00:00\",\"2015-01-24T00:00:00\",\"2015-01-23T00:00:00\",\"2015-01-22T00:00:00\",\"2015-01-21T00:00:00\",\"2015-01-20T00:00:00\",\"2015-01-19T00:00:00\",\"2015-01-18T00:00:00\",\"2015-01-17T00:00:00\",\"2015-01-16T00:00:00\",\"2015-01-15T00:00:00\",\"2015-01-14T00:00:00\",\"2015-01-13T00:00:00\",\"2015-01-12T00:00:00\",\"2015-01-11T00:00:00\",\"2015-01-10T00:00:00\",\"2015-01-09T00:00:00\",\"2015-01-08T00:00:00\",\"2015-01-07T00:00:00\",\"2015-01-06T00:00:00\",\"2015-01-05T00:00:00\",\"2015-01-04T00:00:00\",\"2015-01-03T00:00:00\",\"2015-01-02T00:00:00\",\"2015-01-01T00:00:00\",\"2014-12-31T00:00:00\",\"2014-12-30T00:00:00\",\"2014-12-29T00:00:00\",\"2014-12-28T00:00:00\",\"2014-12-27T00:00:00\",\"2014-12-26T00:00:00\",\"2014-12-25T00:00:00\",\"2014-12-24T00:00:00\",\"2014-12-23T00:00:00\",\"2014-12-22T00:00:00\",\"2014-12-21T00:00:00\",\"2014-12-20T00:00:00\",\"2014-12-19T00:00:00\",\"2014-12-18T00:00:00\",\"2014-12-17T00:00:00\",\"2014-12-16T00:00:00\",\"2014-12-15T00:00:00\",\"2014-12-14T00:00:00\",\"2014-12-13T00:00:00\",\"2014-12-12T00:00:00\",\"2014-12-11T00:00:00\",\"2014-12-10T00:00:00\",\"2014-12-09T00:00:00\",\"2014-12-08T00:00:00\",\"2014-12-07T00:00:00\",\"2014-12-06T00:00:00\",\"2014-12-05T00:00:00\",\"2014-12-04T00:00:00\",\"2014-12-03T00:00:00\",\"2014-12-02T00:00:00\",\"2014-12-01T00:00:00\",\"2014-11-30T00:00:00\",\"2014-11-29T00:00:00\",\"2014-11-28T00:00:00\",\"2014-11-27T00:00:00\",\"2014-11-26T00:00:00\",\"2014-11-25T00:00:00\",\"2014-11-24T00:00:00\",\"2014-11-23T00:00:00\",\"2014-11-22T00:00:00\",\"2014-11-21T00:00:00\",\"2014-11-20T00:00:00\",\"2014-11-19T00:00:00\",\"2014-11-18T00:00:00\",\"2014-11-17T00:00:00\",\"2014-11-16T00:00:00\",\"2014-11-15T00:00:00\",\"2014-11-14T00:00:00\",\"2014-11-13T00:00:00\",\"2014-11-12T00:00:00\",\"2014-11-11T00:00:00\",\"2014-11-10T00:00:00\",\"2014-11-09T00:00:00\",\"2014-11-08T00:00:00\",\"2014-11-07T00:00:00\",\"2014-11-06T00:00:00\",\"2014-11-05T00:00:00\",\"2014-11-04T00:00:00\",\"2014-11-03T00:00:00\",\"2014-11-02T00:00:00\",\"2014-11-01T00:00:00\",\"2014-10-31T00:00:00\",\"2014-10-30T00:00:00\",\"2014-10-29T00:00:00\",\"2014-10-28T00:00:00\",\"2014-10-27T00:00:00\",\"2014-10-26T00:00:00\",\"2014-10-25T00:00:00\",\"2014-10-24T00:00:00\",\"2014-10-23T00:00:00\",\"2014-10-22T00:00:00\",\"2014-10-21T00:00:00\",\"2014-10-20T00:00:00\",\"2014-10-19T00:00:00\",\"2014-10-18T00:00:00\",\"2014-10-17T00:00:00\",\"2014-10-16T00:00:00\",\"2014-10-15T00:00:00\",\"2014-10-14T00:00:00\",\"2014-10-13T00:00:00\",\"2014-10-12T00:00:00\",\"2014-10-11T00:00:00\",\"2014-10-10T00:00:00\",\"2014-10-09T00:00:00\",\"2014-10-08T00:00:00\",\"2014-10-07T00:00:00\",\"2014-10-06T00:00:00\",\"2014-10-05T00:00:00\",\"2014-10-04T00:00:00\",\"2014-10-03T00:00:00\",\"2014-10-02T00:00:00\",\"2014-10-01T00:00:00\",\"2014-09-30T00:00:00\",\"2014-09-29T00:00:00\",\"2014-09-28T00:00:00\",\"2014-09-27T00:00:00\",\"2014-09-26T00:00:00\",\"2014-09-25T00:00:00\",\"2014-09-24T00:00:00\",\"2014-09-23T00:00:00\",\"2014-09-22T00:00:00\",\"2014-09-21T00:00:00\",\"2014-09-20T00:00:00\",\"2014-09-19T00:00:00\",\"2014-09-18T00:00:00\",\"2014-09-17T00:00:00\",\"2014-09-16T00:00:00\",\"2014-09-15T00:00:00\",\"2014-09-14T00:00:00\",\"2014-09-13T00:00:00\",\"2014-09-12T00:00:00\",\"2014-09-11T00:00:00\",\"2014-09-10T00:00:00\",\"2014-09-09T00:00:00\",\"2014-09-08T00:00:00\",\"2014-09-07T00:00:00\",\"2014-09-06T00:00:00\",\"2014-09-05T00:00:00\",\"2014-09-04T00:00:00\",\"2014-09-03T00:00:00\",\"2014-09-02T00:00:00\",\"2014-09-01T00:00:00\",\"2014-08-31T00:00:00\",\"2014-08-30T00:00:00\",\"2014-08-29T00:00:00\",\"2014-08-28T00:00:00\",\"2014-08-27T00:00:00\",\"2014-08-26T00:00:00\",\"2014-08-25T00:00:00\",\"2014-08-24T00:00:00\",\"2014-08-23T00:00:00\",\"2014-08-22T00:00:00\",\"2014-08-21T00:00:00\",\"2014-08-20T00:00:00\",\"2014-08-19T00:00:00\",\"2014-08-18T00:00:00\",\"2014-08-17T00:00:00\",\"2014-08-16T00:00:00\",\"2014-08-15T00:00:00\",\"2014-08-14T00:00:00\",\"2014-08-13T00:00:00\",\"2014-08-12T00:00:00\",\"2014-08-11T00:00:00\",\"2014-08-10T00:00:00\",\"2014-08-09T00:00:00\",\"2014-08-08T00:00:00\",\"2014-08-07T00:00:00\",\"2014-08-06T00:00:00\",\"2014-08-05T00:00:00\",\"2014-08-04T00:00:00\",\"2014-08-03T00:00:00\",\"2014-08-02T00:00:00\",\"2014-08-01T00:00:00\",\"2014-07-31T00:00:00\",\"2014-07-30T00:00:00\",\"2014-07-29T00:00:00\",\"2014-07-28T00:00:00\",\"2014-07-27T00:00:00\",\"2014-07-26T00:00:00\",\"2014-07-25T00:00:00\",\"2014-07-24T00:00:00\",\"2014-07-23T00:00:00\",\"2014-07-22T00:00:00\",\"2014-07-21T00:00:00\",\"2014-07-20T00:00:00\",\"2014-07-19T00:00:00\",\"2014-07-18T00:00:00\",\"2014-07-17T00:00:00\",\"2014-07-16T00:00:00\",\"2014-07-15T00:00:00\",\"2014-07-14T00:00:00\",\"2014-07-13T00:00:00\",\"2014-07-12T00:00:00\",\"2014-07-11T00:00:00\",\"2014-07-10T00:00:00\",\"2014-07-09T00:00:00\",\"2014-07-08T00:00:00\",\"2014-07-07T00:00:00\",\"2014-07-06T00:00:00\",\"2014-07-05T00:00:00\",\"2014-07-04T00:00:00\",\"2014-07-03T00:00:00\",\"2014-07-02T00:00:00\",\"2014-07-01T00:00:00\",\"2014-06-30T00:00:00\",\"2014-06-29T00:00:00\",\"2014-06-28T00:00:00\",\"2014-06-27T00:00:00\",\"2014-06-26T00:00:00\",\"2014-06-25T00:00:00\",\"2014-06-24T00:00:00\",\"2014-06-23T00:00:00\",\"2014-06-22T00:00:00\",\"2014-06-21T00:00:00\",\"2014-06-20T00:00:00\",\"2014-06-19T00:00:00\",\"2014-06-18T00:00:00\",\"2014-06-17T00:00:00\",\"2014-06-16T00:00:00\",\"2014-06-15T00:00:00\",\"2014-06-14T00:00:00\",\"2014-06-13T00:00:00\",\"2014-06-12T00:00:00\",\"2014-06-11T00:00:00\",\"2014-06-10T00:00:00\",\"2014-06-09T00:00:00\",\"2014-06-08T00:00:00\",\"2014-06-07T00:00:00\",\"2014-06-06T00:00:00\",\"2014-06-05T00:00:00\",\"2014-06-04T00:00:00\",\"2014-06-03T00:00:00\",\"2014-06-02T00:00:00\",\"2014-06-01T00:00:00\",\"2014-05-31T00:00:00\",\"2014-05-30T00:00:00\",\"2014-05-29T00:00:00\",\"2014-05-28T00:00:00\",\"2014-05-27T00:00:00\",\"2014-05-26T00:00:00\",\"2014-05-25T00:00:00\",\"2014-05-24T00:00:00\",\"2014-05-23T00:00:00\",\"2014-05-22T00:00:00\",\"2014-05-21T00:00:00\",\"2014-05-20T00:00:00\",\"2014-05-19T00:00:00\",\"2014-05-18T00:00:00\",\"2014-05-17T00:00:00\",\"2014-05-16T00:00:00\",\"2014-05-15T00:00:00\",\"2014-05-14T00:00:00\",\"2014-05-13T00:00:00\",\"2014-05-12T00:00:00\",\"2014-05-11T00:00:00\",\"2014-05-10T00:00:00\",\"2014-05-09T00:00:00\",\"2014-05-08T00:00:00\",\"2014-05-07T00:00:00\",\"2014-05-06T00:00:00\",\"2014-05-05T00:00:00\",\"2014-05-04T00:00:00\",\"2014-05-03T00:00:00\",\"2014-05-02T00:00:00\",\"2014-05-01T00:00:00\",\"2014-04-30T00:00:00\",\"2014-04-29T00:00:00\",\"2014-04-28T00:00:00\",\"2014-04-27T00:00:00\",\"2014-04-26T00:00:00\",\"2014-04-25T00:00:00\",\"2014-04-24T00:00:00\",\"2014-04-23T00:00:00\",\"2014-04-22T00:00:00\",\"2014-04-21T00:00:00\",\"2014-04-20T00:00:00\",\"2014-04-19T00:00:00\",\"2014-04-18T00:00:00\",\"2014-04-17T00:00:00\",\"2014-04-16T00:00:00\",\"2014-04-15T00:00:00\",\"2014-04-14T00:00:00\",\"2014-04-13T00:00:00\",\"2014-04-12T00:00:00\",\"2014-04-11T00:00:00\",\"2014-04-10T00:00:00\",\"2014-04-09T00:00:00\",\"2014-04-08T00:00:00\",\"2014-04-07T00:00:00\",\"2014-04-06T00:00:00\",\"2014-04-05T00:00:00\",\"2014-04-04T00:00:00\",\"2014-04-03T00:00:00\",\"2014-04-02T00:00:00\",\"2014-04-01T00:00:00\",\"2014-03-31T00:00:00\",\"2014-03-30T00:00:00\",\"2014-03-29T00:00:00\",\"2014-03-28T00:00:00\",\"2014-03-27T00:00:00\",\"2014-03-26T00:00:00\",\"2014-03-25T00:00:00\",\"2014-03-24T00:00:00\",\"2014-03-23T00:00:00\",\"2014-03-22T00:00:00\",\"2014-03-21T00:00:00\",\"2014-03-20T00:00:00\",\"2014-03-19T00:00:00\",\"2014-03-18T00:00:00\",\"2014-03-17T00:00:00\",\"2014-03-16T00:00:00\",\"2014-03-15T00:00:00\",\"2014-03-14T00:00:00\",\"2014-03-13T00:00:00\",\"2014-03-12T00:00:00\",\"2014-03-11T00:00:00\",\"2014-03-10T00:00:00\",\"2014-03-09T00:00:00\",\"2014-03-08T00:00:00\",\"2014-03-07T00:00:00\",\"2014-03-06T00:00:00\",\"2014-03-05T00:00:00\",\"2014-03-04T00:00:00\",\"2014-03-03T00:00:00\",\"2014-03-02T00:00:00\",\"2014-03-01T00:00:00\",\"2014-02-28T00:00:00\",\"2014-02-27T00:00:00\",\"2014-02-26T00:00:00\",\"2014-02-25T00:00:00\",\"2014-02-24T00:00:00\",\"2014-02-23T00:00:00\",\"2014-02-22T00:00:00\",\"2014-02-21T00:00:00\",\"2014-02-20T00:00:00\",\"2014-02-19T00:00:00\",\"2014-02-18T00:00:00\",\"2014-02-17T00:00:00\",\"2014-02-16T00:00:00\",\"2014-02-15T00:00:00\",\"2014-02-14T00:00:00\",\"2014-02-13T00:00:00\",\"2014-02-12T00:00:00\",\"2014-02-11T00:00:00\",\"2014-02-10T00:00:00\",\"2014-02-09T00:00:00\",\"2014-02-08T00:00:00\",\"2014-02-07T00:00:00\",\"2014-02-06T00:00:00\",\"2014-02-05T00:00:00\",\"2014-02-04T00:00:00\",\"2014-02-03T00:00:00\",\"2014-02-02T00:00:00\",\"2014-02-01T00:00:00\",\"2014-01-31T00:00:00\",\"2014-01-30T00:00:00\",\"2014-01-29T00:00:00\",\"2014-01-28T00:00:00\",\"2014-01-27T00:00:00\",\"2014-01-26T00:00:00\",\"2014-01-25T00:00:00\",\"2014-01-24T00:00:00\",\"2014-01-23T00:00:00\",\"2014-01-22T00:00:00\",\"2014-01-21T00:00:00\",\"2014-01-20T00:00:00\",\"2014-01-19T00:00:00\",\"2014-01-18T00:00:00\",\"2014-01-17T00:00:00\",\"2014-01-16T00:00:00\",\"2014-01-15T00:00:00\",\"2014-01-14T00:00:00\",\"2014-01-13T00:00:00\",\"2014-01-12T00:00:00\",\"2014-01-11T00:00:00\",\"2014-01-10T00:00:00\",\"2014-01-09T00:00:00\",\"2014-01-08T00:00:00\",\"2014-01-07T00:00:00\",\"2014-01-06T00:00:00\",\"2014-01-05T00:00:00\",\"2014-01-04T00:00:00\",\"2014-01-03T00:00:00\",\"2014-01-02T00:00:00\",\"2014-01-01T00:00:00\",\"2013-12-31T00:00:00\",\"2013-12-30T00:00:00\",\"2013-12-29T00:00:00\",\"2013-12-28T00:00:00\",\"2013-12-27T00:00:00\",\"2013-12-26T00:00:00\",\"2013-12-25T00:00:00\",\"2013-12-24T00:00:00\",\"2013-12-23T00:00:00\",\"2013-12-22T00:00:00\",\"2013-12-21T00:00:00\",\"2013-12-20T00:00:00\",\"2013-12-19T00:00:00\",\"2013-12-18T00:00:00\",\"2013-12-17T00:00:00\",\"2013-12-16T00:00:00\",\"2013-12-15T00:00:00\",\"2013-12-14T00:00:00\",\"2013-12-13T00:00:00\",\"2013-12-12T00:00:00\",\"2013-12-11T00:00:00\",\"2013-12-10T00:00:00\",\"2013-12-09T00:00:00\",\"2013-12-08T00:00:00\",\"2013-12-07T00:00:00\",\"2013-12-06T00:00:00\",\"2013-12-05T00:00:00\",\"2013-12-04T00:00:00\",\"2013-12-03T00:00:00\",\"2013-12-02T00:00:00\",\"2013-12-01T00:00:00\",\"2013-11-30T00:00:00\",\"2013-11-29T00:00:00\",\"2013-11-28T00:00:00\",\"2013-11-27T00:00:00\",\"2013-11-26T00:00:00\",\"2013-11-25T00:00:00\",\"2013-11-24T00:00:00\",\"2013-11-23T00:00:00\",\"2013-11-22T00:00:00\",\"2013-11-21T00:00:00\",\"2013-11-20T00:00:00\",\"2013-11-19T00:00:00\",\"2013-11-18T00:00:00\",\"2013-11-17T00:00:00\",\"2013-11-16T00:00:00\",\"2013-11-15T00:00:00\",\"2013-11-14T00:00:00\",\"2013-11-13T00:00:00\",\"2013-11-12T00:00:00\",\"2013-11-11T00:00:00\",\"2013-11-10T00:00:00\",\"2013-11-09T00:00:00\",\"2013-11-08T00:00:00\",\"2013-11-07T00:00:00\",\"2013-11-06T00:00:00\",\"2013-11-05T00:00:00\",\"2013-11-04T00:00:00\",\"2013-11-03T00:00:00\",\"2013-11-02T00:00:00\",\"2013-11-01T00:00:00\",\"2013-10-31T00:00:00\",\"2013-10-30T00:00:00\",\"2013-10-29T00:00:00\",\"2013-10-28T00:00:00\",\"2013-10-27T00:00:00\",\"2013-10-26T00:00:00\",\"2013-10-25T00:00:00\",\"2013-10-24T00:00:00\",\"2013-10-23T00:00:00\",\"2013-10-22T00:00:00\",\"2013-10-21T00:00:00\",\"2013-10-20T00:00:00\",\"2013-10-19T00:00:00\",\"2013-10-18T00:00:00\",\"2013-10-17T00:00:00\",\"2013-10-16T00:00:00\",\"2013-10-15T00:00:00\",\"2013-10-14T00:00:00\",\"2013-10-13T00:00:00\",\"2013-10-12T00:00:00\",\"2013-10-11T00:00:00\",\"2013-10-10T00:00:00\",\"2013-10-09T00:00:00\",\"2013-10-08T00:00:00\",\"2013-10-07T00:00:00\",\"2013-10-06T00:00:00\",\"2013-10-05T00:00:00\",\"2013-10-04T00:00:00\",\"2013-10-03T00:00:00\",\"2013-10-02T00:00:00\",\"2013-10-01T00:00:00\",\"2013-09-30T00:00:00\",\"2013-09-29T00:00:00\",\"2013-09-28T00:00:00\",\"2013-09-27T00:00:00\",\"2013-09-26T00:00:00\",\"2013-09-25T00:00:00\",\"2013-09-24T00:00:00\",\"2013-09-23T00:00:00\",\"2013-09-22T00:00:00\",\"2013-09-21T00:00:00\",\"2013-09-20T00:00:00\",\"2013-09-19T00:00:00\",\"2013-09-18T00:00:00\",\"2013-09-17T00:00:00\",\"2013-09-16T00:00:00\",\"2013-09-15T00:00:00\",\"2013-09-14T00:00:00\",\"2013-09-13T00:00:00\",\"2013-09-12T00:00:00\",\"2013-09-11T00:00:00\",\"2013-09-10T00:00:00\",\"2013-09-09T00:00:00\",\"2013-09-08T00:00:00\",\"2013-09-07T00:00:00\",\"2013-09-06T00:00:00\",\"2013-09-05T00:00:00\",\"2013-09-04T00:00:00\",\"2013-09-03T00:00:00\",\"2013-09-02T00:00:00\",\"2013-09-01T00:00:00\",\"2013-08-31T00:00:00\",\"2013-08-30T00:00:00\",\"2013-08-29T00:00:00\",\"2013-08-28T00:00:00\",\"2013-08-27T00:00:00\",\"2013-08-26T00:00:00\",\"2013-08-25T00:00:00\",\"2013-08-24T00:00:00\",\"2013-08-23T00:00:00\",\"2013-08-22T00:00:00\",\"2013-08-21T00:00:00\",\"2013-08-20T00:00:00\",\"2013-08-19T00:00:00\",\"2013-08-18T00:00:00\",\"2013-08-17T00:00:00\",\"2013-08-16T00:00:00\",\"2013-08-15T00:00:00\",\"2013-08-14T00:00:00\",\"2013-08-13T00:00:00\",\"2013-08-12T00:00:00\",\"2013-08-11T00:00:00\",\"2013-08-10T00:00:00\",\"2013-08-09T00:00:00\",\"2013-08-08T00:00:00\",\"2013-08-07T00:00:00\",\"2013-08-06T00:00:00\",\"2013-08-05T00:00:00\",\"2013-08-04T00:00:00\",\"2013-08-03T00:00:00\",\"2013-08-02T00:00:00\",\"2013-08-01T00:00:00\",\"2013-07-31T00:00:00\",\"2013-07-30T00:00:00\",\"2013-07-29T00:00:00\",\"2013-07-28T00:00:00\",\"2013-07-27T00:00:00\",\"2013-07-26T00:00:00\",\"2013-07-25T00:00:00\",\"2013-07-24T00:00:00\",\"2013-07-23T00:00:00\",\"2013-07-22T00:00:00\",\"2013-07-21T00:00:00\",\"2013-07-20T00:00:00\",\"2013-07-19T00:00:00\",\"2013-07-18T00:00:00\",\"2013-07-17T00:00:00\",\"2013-07-16T00:00:00\",\"2013-07-15T00:00:00\",\"2013-07-14T00:00:00\",\"2013-07-13T00:00:00\",\"2013-07-12T00:00:00\",\"2013-07-11T00:00:00\",\"2013-07-10T00:00:00\",\"2013-07-09T00:00:00\",\"2013-07-08T00:00:00\",\"2013-07-07T00:00:00\",\"2013-07-06T00:00:00\",\"2013-07-05T00:00:00\",\"2013-07-04T00:00:00\",\"2013-07-03T00:00:00\",\"2013-07-02T00:00:00\",\"2013-07-01T00:00:00\",\"2013-06-30T00:00:00\",\"2013-06-29T00:00:00\",\"2013-06-28T00:00:00\",\"2013-06-27T00:00:00\",\"2013-06-26T00:00:00\",\"2013-06-25T00:00:00\",\"2013-06-24T00:00:00\",\"2013-06-23T00:00:00\",\"2013-06-22T00:00:00\",\"2013-06-21T00:00:00\",\"2013-06-20T00:00:00\",\"2013-06-19T00:00:00\",\"2013-06-18T00:00:00\",\"2013-06-17T00:00:00\",\"2013-06-16T00:00:00\",\"2013-06-15T00:00:00\",\"2013-06-14T00:00:00\",\"2013-06-13T00:00:00\",\"2013-06-12T00:00:00\",\"2013-06-11T00:00:00\",\"2013-06-10T00:00:00\",\"2013-06-09T00:00:00\",\"2013-06-08T00:00:00\",\"2013-06-07T00:00:00\",\"2013-06-06T00:00:00\",\"2013-06-05T00:00:00\",\"2013-06-04T00:00:00\",\"2013-06-03T00:00:00\",\"2013-06-02T00:00:00\",\"2013-06-01T00:00:00\",\"2013-05-31T00:00:00\",\"2013-05-30T00:00:00\",\"2013-05-29T00:00:00\",\"2013-05-28T00:00:00\",\"2013-05-27T00:00:00\",\"2013-05-26T00:00:00\",\"2013-05-25T00:00:00\",\"2013-05-24T00:00:00\",\"2013-05-23T00:00:00\",\"2013-05-22T00:00:00\",\"2013-05-21T00:00:00\",\"2013-05-20T00:00:00\",\"2013-05-19T00:00:00\",\"2013-05-18T00:00:00\",\"2013-05-17T00:00:00\",\"2013-05-16T00:00:00\",\"2013-05-15T00:00:00\",\"2013-05-14T00:00:00\",\"2013-05-13T00:00:00\",\"2013-05-12T00:00:00\",\"2013-05-11T00:00:00\",\"2013-05-10T00:00:00\",\"2013-05-09T00:00:00\",\"2013-05-08T00:00:00\",\"2013-05-07T00:00:00\",\"2013-05-06T00:00:00\",\"2013-05-05T00:00:00\",\"2013-05-04T00:00:00\",\"2013-05-03T00:00:00\",\"2013-05-02T00:00:00\",\"2013-05-01T00:00:00\",\"2013-04-30T00:00:00\",\"2013-04-29T00:00:00\",\"2013-04-28T00:00:00\"],\"xaxis\":\"x\",\"y\":[null,-4.109427059060855,-1.114544570902154,3.0281134809000854,-4.885351066745935,-5.327160170373324,1.8592974757358327,6.923399366577665,-0.8878854097848943,2.9197187225314947,-5.065975830213643,5.616697154166772,-19.313245315161844,1.999181852971077,-3.9014524253087823,-13.399239816730313,3.5775357287208154,11.730686491300046,5.577296784188701,1.7362907672081151,-2.5449800737022965,1.4873021101125428,6.148632700542889,2.1005066628547953,-2.048737234282527,3.5693583095773196,-0.25186309688104425,-0.013451243087014841,-1.4444734859550112,-2.246047284384922,-2.869374059932883,1.901378078084237,2.3572660872930085,1.3968306475749426,-0.8676435748158129,-2.8991753021606725,4.4769916681797195,0.7457297222147163,5.220567941365872,-1.4390271447879854,-0.602866109018596,1.2156483581867494,-4.856730313506919,-1.5952270620945286,4.222046941282209,-5.170414325948469,-2.1432882281938848,1.6956235950953191,8.404585117121588,-2.1122406165578367,11.222613671826531,-0.35157583727447594,-4.203262871856461,-0.6441651527546166,-2.6183160941253614,4.796205200281101,-6.160589550153672,-6.513300158924529,0.1409342267129965,-1.0654580873436958,-3.2416467420787187,-5.044686612289661,-4.852148127413725,3.683801661250219,-4.4249670820753595,-5.423972539196598,8.021600200110846,4.65669581642012,6.01567041796458,-5.042477615360685,-6.335921945165102,-6.082635501978473,2.132569077013513,-4.653840065620008,-4.983624371764495,-2.624096576920032,-5.689770484315604,0.22946755455619527,4.054232842277239,-0.22112764040222999,-4.469474932268092,7.2107131257829415,-3.32365017283629,-1.7777106310117419,-1.823557560842215,-7.3484782545623295,-1.1216814574969813,-1.4789713706612528,-1.1430775659776904,-3.094292013240818,-2.5011912032159134,-2.1489241612863252,-5.185002813730999,-1.936359791971165,-0.40172795981207043,0.09495017015070939,-2.781298141500921,-1.2169419552252703,-1.2121786817754332,-3.43478782546095,2.0294729168910175,-0.7842755193998685,0.5752628779509772,-1.528785758453477,0.11402225912797714,-1.4657456238084565,-0.9188297275338986,-0.8808561719106711,-0.42472623068263715,0.14903129657228842,2.6589012041598137,0.38654748119331117,-1.4838051136505048,0.06233521181333579,-1.0034768114355774,0.08078574769336822,0.4911207409295626,-4.895660702810578,0.7530361492914084,0.9318332230310977,-3.6404647625042474,-1.9661213787346865,-0.8061082832022226,-4.232172347194874,1.3191352552049285,0.6904045308999462,-0.1317862770376821,-7.558067261443712,0.6258210668956155,-3.6246633360060843,10.780570014506342,1.015800267670608,6.805574089254041,-5.917682545915359,-1.6590307617882272,-6.069024056176087,12.98083834794932,7.960153786026547,5.20285230802906,-0.7690399404614134,-0.6516129032257956,-0.8555750373400839,-3.729388069233175,-5.027087249007078,6.426857224729554,-3.2385632188743685,6.394782608695659,4.028474753583855,-0.44860664817768514,-0.9446619104741316,1.580687567223027,-1.8807990650907103,-2.278958601450032,-3.4789366053169735,0.0,-1.2517267388153952,-1.8331616889804447,2.608756469436302,-0.5930066116829114,-4.223806911684036,-0.1915091638029831,-3.166860934277771,-2.9732032074668124,0.6250775382442564,-0.7786271125358013,-1.7940948757897535,-1.942692517324618,-0.2908246317544827,-1.384699616743812,0.8620689655172376,0.5274324946456188,-1.5710090099059326,0.5775435686326214,6.907821959411886,-0.16179555438494697,-2.185895321995557,-1.0412753455666501,1.514591079876193,-1.2455652507431192,-1.758406074317187,-2.2514330895433865,-1.882671735657515,-5.154575432811215,-0.09561268171841553,0.22729744426319698,-0.19965494417257812,-0.23484642565914093,-1.7491472226157767,-0.9816536149255595,3.1724338796222495,0.3973898220431815,-0.31146246769117036,-2.903047331821784,0.45138151793795434,-1.3847642563982854,2.4046378380817135,-8.415754345000781,-1.1701321660072428,-0.41250912630810266,0.6805879693552175,-2.324085536056697,-3.3634432116099067,16.704381814441472,-0.534329279041057,0.927084833246572,-0.2864354697102778,-0.7032875114187931,12.323209931279088,13.948370798713228,-9.603110683882822,-2.1162247087676223,-2.2921458282358698,-3.4647861929422152,-0.2594060638761442,1.2754358953019018,0.2485875706214724,-4.377407984260994,-2.74217745392199,-1.2593514835667396,0.2945836773862398,2.5767116886584507,-6.230070066595806,-3.5001272352927604,-4.003452078438896,-1.0201278593547025,-0.2750059921030501,0.03794922393838274,-0.7485806051869659,-0.8688894268132574,0.4356822475549027,-0.11772534165942483,-0.06021318028081035,-1.328051891448423,0.639185168825418,-0.24010843606789845,-0.2562144955291834,-0.34768620023092334,-0.5090284196685446,-0.7223050953913734,1.9994727823909209,-0.35148022277643465,0.8805031446540879,-2.7212895596061437,-1.4641172350912335,-1.3531092008743584,0.028548123980409734,-0.5137195743466383,0.4576315178339785,0.8526204139356564,-0.18337490730129247,0.5808534493239259,0.9078821901986389,-1.610434551141282,-1.1119377747717318,2.8165738752171654,-0.003991378622170139,-1.4116739179605875,0.43455963723717517,-4.377855415210973,-0.9274612855175501,-0.42410144393066895,0.4301810463940292,1.6112332458690926,-0.12283468963303346,1.0817156513353687,-1.8554619989768595,-0.9466788758188405,1.1932359592109476,-1.1384079154486249,-0.025589263882164204,-2.0675729480689298,7.569333526934807,-1.4902204284383824,-3.949081242549213,0.12696691727178688,1.798079389051943,-3.475254730713251,-0.19430145726093695,-1.4542865859859644,-3.0532212885153953,-0.5824297814747803,0.5063020068526658,0.03348197300134803,-3.7213406563312845,-0.3113000331842697,-0.05389468344799697,1.1799784305018157,0.1928020565552746,0.3817331309938998,-0.464442123965525,0.2708838957175219,-0.560604640994411,-0.09422258515364712,0.7670664424149987,-3.444241658477243,-0.36187983650786126,0.38265099310903494,-0.3214291482935172,-0.6643764583873502,-0.08319467554076532,-0.37713669980897757,0.3162897410684984,-0.20257134922320175,0.5058193782841558,-0.6905762402684146,-0.6642175353429258,-0.15849692086711276,0.23812279860433438,0.3084943167758203,-1.1857772514966003,0.2995855732902841,0.03484725287490331,-1.0848649724636839,0.14254569847391707,1.868877166541072,0.15123867764792465,0.10505063769019607,-0.6378408513289746,0.16337172843987613,0.02965550191935673,0.5814049246479325,-0.23580271173117007,-0.1641389271879734,-0.24990135472839903,2.7673391350210963,-0.10424852849192368,0.5555020389814702,-1.8808276919146882,-0.6671656849025154,-0.6306926151628423,0.3363062365024039,-1.7120417987940062,-3.789639089951702,-0.5629495777878191,0.5539052944260048,0.3527551392774608,-0.5870129870129803,-0.034836529584936216,-0.6900036591103054,1.7019036757610184,-0.32605882860347046,0.418859041816666,0.5567237753800525,0.572496186215532,-0.9271410311035511,0.06708984878982527,-1.0434932095581995,-0.22757674200439837,-0.19153085387937363,0.7361920379610032,-1.7664172901080688,0.5694238770185489,2.6504461233719523,0.3364128485800588,0.2655047995098414,0.5058392178164173,-0.7262286775882587,0.5529091527730623,0.2774722950681152,-0.828426327422449,-2.1674776276838337,0.5651780745687285,-2.0629787822718626,-3.3353344162723286,10.74031453778288,3.036600854404803,4.86168918486265,0.29616059842760833,-0.2983302637787566,-0.10381203914323622,-0.39275617024528975,0.35594832612231286,1.097691484482488,-0.8649891120251718,-0.753554213191765,2.2117364974946874,0.10075036465615472,1.0785963225574013,0.03715483161430555,0.9433822109313539,-2.750713802136995,0.37531970277100424,-0.7794949114210303,-0.5485655239484633,1.5401775482451363,-2.541569483108874,0.2624834017848965,0.2463964518911066,2.390315841219115,-3.8948568685110763,5.740289746471849,-0.9891780963489083,1.9429491672009913,-3.656788462101046,6.838125891962488,-3.893704703708978,-0.43767558775690274,-4.967772596310938,1.1111284752066686,1.2782071097372505,-3.9525691699604737,5.680283458061242,0.02706278566273479,-6.210732000601227,-4.464886695086379,11.831510434140768,10.587264681617036,3.6013184487880157,-0.9885045431930584,-0.9679594832260108,2.3233766407178447,-9.374796100794702,-1.2829927858654888,2.74520100355915,-4.486214827223945,-9.817473765569718,-4.822573467605029,-0.4918004398496989,1.2199154238379473,-0.8665153703321549,1.550468262226845,-1.8034634696177831,-0.39131795888552867,-0.618092294798589,-5.484987438289501,-0.19517816978643632,-1.0299485956939525,0.46481868307646224,-1.4292136515191234,0.7240180149364228,-10.674666062938643,-4.241118573902758,-0.8337377034716931,-0.8051601423487598,-0.410332301896954,-1.0874704491725784,0.8809068560502675,-0.11507479861909697,-0.8968103370380454,3.6265414510724625,-0.1847696977695712,0.08374101987749238,0.7508367095296675,-0.41523701291604764,0.0,-0.19751135690302402,-0.4485784022692729,-0.4064232544783941,2.1269045665240016,-0.41912786657400947,-0.0021807872642054527,0.2311684912984724,-2.528285465622282,-0.2812625563641258,0.8013968481375366,-1.2502775927159648,1.6214271257336765,-0.7878197751615468,1.5123126338329795,-1.3381674357284212,-0.9621166566446182,4.812341181497226,-0.999806904245959,-0.6219794985154903,-1.8056524773203186,-1.0082615261614913,0.827836855566022,-1.7889326480208356,-1.332155236865351,-1.588941700535007,-0.2776546349658182,0.741693963500234,-0.19973523468890253,-1.2636429219706313,-0.12963137550673354,0.3445590352346928,-0.6373621204637914,-0.21776178754023823,-0.5100104374229031,0.2241243651796676,0.5709527774473644,0.15612063867533887,0.14643017406295034,-0.6108058392094828,-0.1281321184510298,-0.007127583749100275,-0.6914249055527844,-0.2942865345965995,-0.4583303337892697,0.4098163058676052,1.8510515701527064,0.5963746081135257,-2.0667354016308925,-0.18184428386849305,-0.1893667002253241,0.39626311871083786,0.011960577935110628,-1.143294505967607,0.10645762260772518,-0.8000000000000007,-0.2168404638924093,2.7029666707361732,-0.8582568589225459,-0.04316443250761415,-0.09356332317731475,-0.5715109019306497,-0.5892865768246103,2.446431174384145,-1.081363086627618,-0.5441948553208786,-0.21453020296002823,0.08454718940984485,-1.595385209499911,-1.7512447573029832,2.5888109444042184,2.606219886114758,0.5549626467449276,2.625061911837534,0.592939878654164,-0.959561343385873,-0.2260668973471769,-0.08554517710164244,-1.7609626287168667,0.09657511659677542,-0.9907047887986797,4.042876836050757,0.23986293546545134,-0.37374658158614293,-3.7446243938146218,0.37548420827491213,-1.4323933991524096,-2.1209646425826234,-1.7914550050308065,1.7591643969114612,-3.774279890970711,-1.9394681774103084,-1.199708530682353,0.526801000921906,-1.4725533866107754,-0.6861154695104066,0.8488418797697239,-0.026551962190013434,2.6638691171783746,0.7864441857456939,-5.04119715598449,1.2163805919718884,-0.3712111096274451,-1.1499490698547166,2.57070802939503,0.32253800396564447,0.21609086357288199,3.8602119435168003,-0.713978276831162,-0.10710187428278894,2.8693232583667294,-3.841477033029761,-1.29035588015175,7.260320531255715,2.430166236045439,-9.537634152725893,1.8466394844140588,-1.2578453909135479,1.370651320952132,-5.989059193889668,18.109955260340914,0.4787246403755496,0.767860859911651,2.9240974087080263,-0.09812010793212034,-0.08482332194914566,1.2555572931793213,1.0634777044767452,-6.31808754502784,0.6641653655239832,0.26159829613852104,-0.7111685792791311,0.7976558684681834,0.2053340716131391,-0.8657011949439353,-0.9173885779315771,1.4907880549435149,-2.4712457850247227,0.12787723785165905,-1.312615297289632,9.197881467634872,-0.14484801931305968,-2.7670937822809383,-1.3178119349005368,0.4741507662001432,0.923308407805945,4.4342542185276335,0.28119051739055045,-1.6263319097536866,-0.25214874583405766,2.283867847800747,-4.543110117768412,-2.3481471475527926,0.2881844380403509,3.89425287356322,-8.067442580873562,0.5006257822277815,-0.47897308171280795,-4.817595533737606,-1.709055974111351,0.04372652914244046,-6.625530273814107,-0.5864860399801719,-0.5151641046946431,0.9187338177566229,4.091147341995627,-1.598113007526758,-3.746397694524506,0.1846773742235186,-1.497039436934422,-6.938301009413639,-2.486213095274359,0.937353538509611,0.4612289119331425,0.736426942749735,-1.5018505490472012,1.282529035463642,2.587766365169397,0.14943662392779,-1.2951744307499458,-3.198790627362047,3.9791360839553924,1.1534649004235398,0.4157386785448969,-8.005323081472715,8.274398868458288,12.897096371949402,-1.811918161258086,3.5112622867397025,-3.1075346719105723,3.1724837770715997,6.525171476640357,-1.9778404120905813,-10.467998611868524,-9.900606329078876,-3.46003748886089,4.405258299646686,-4.31389286911984,-2.943987765245659,-3.5552491628914606,-2.889819258654147,-0.5678233438485836,-0.715595036661032,-1.8285105627551812,-0.8969258589511808,-2.8282607108970126,1.198032072708144,-2.234097825280179,-0.6832675372001273,3.4398410029047533,-2.8709725096068506,-3.2525582987788737,-0.9161686064800167,-0.984166038334866,-1.6832992665624547,0.7093065916595309,-0.8540781218376869,-0.41234588062382116,-0.6682244906325518,0.2765167148163439,1.2717619459192475,-2.30838006990165,-0.8819369331891203,0.19726349366238072,-0.6031918904201405,0.10957056765983353,-0.6272363712902629,0.2668813013640525,1.0351092145844731,-2.66789328426863,0.6788107922323539,0.3413843133907912,-0.25941992004762104,-1.8121349081141047,0.147646343581731,-1.5306564911976461,1.8142586639658287,0.12110202845898588,0.6393364724178063,-1.3563978194617299,-0.31330229319872505,0.5281766991138914,0.14763352149369524,-0.056364897676031145,2.047633508307656,2.0745653190494595,-0.6788555245512584,-0.12998993626299749,2.28408279800143,-1.5434505972661272,-0.004169272461951312,-2.009673115410271,-2.00833971576887,-1.3547546678245759,0.9243771458755212,-0.5059316120027857,0.8504295984569588,-0.5650699817438931,0.4458821472285379,0.7050221951431901,-2.8651685393258353,0.4715931841437815,-1.8686622680777587,-5.013311673660937,8.394299287410911,0.9729587588201749,0.9462216242024368,1.1953390377090756,-3.683875079668575,-6.881948120698778,22.21906386204282,0.20544228234746775,1.1759699818189029,1.5790479831772064,-0.6022282445046767,0.8709481975159195,1.5053682708912053,-2.1894300824734536,0.2306499792036787,-1.5391579900407404,7.118773946360157,-0.35767937620716506,1.184578936032743,1.1849013764722693,-1.398920131828063,0.4907015609998844,-0.3573829659247685,1.0830965909090828,1.0785174776041018,0.6499374391769619,1.6713284298491171,-0.2751078354787273,-0.316735917171862,-1.3632170555878287,-0.14547973675095305,-4.242403219092539,0.4238362615468283,-0.5014068249044268,1.1420077584019195,-1.9248691662484774,0.47147399583347127,1.6624226991633462,-0.49379182023117085,2.78327160271854,0.5702690410383848,1.5967438948027768,6.4441020373223745,-5.709782224080806,-2.807723799126649,-5.496858436589546,0.5794302269435114,-1.69134753868313,1.0593140753540453,1.070512582239913,-4.052811592070915,-1.7440300509793394,-0.36279940703751734,1.2568027876747268,1.7206712551233405,-2.284563044056709,-3.1315646152649257,0.7951487892052578,-2.9483246344475855,-0.3243154480889965,-0.943163097199351,1.5758180533034016,1.1011051985263975,-1.234867808413298,0.5206198245470306,-0.244688226418166,1.7987817341891033,0.10842938034616445,0.6498716302952623,-5.611797528895979,-1.3850181572502285,-0.488139076817673,-1.0413080895008697,-0.11740151317505276,-0.3961516694963252,0.10926573426572883,-0.24448810303426827,-2.4552496826994674,1.2293610911701336,-0.29695948940697825,-0.2800622360524585,0.6909771754636251,-0.03099127816885705,-1.2710363153232929,3.2566276409635275,1.368434771275906,1.611382531927652,0.13074652045550472,-0.05475759235078481,-0.06743088334456582,-0.004217273954110201,1.6195014971953858,-0.8632496368541132,0.6195838740737702,-2.0844601622633574,-0.560890626327859,-0.8845397829245427,0.5087303298124679,1.574228970960423,-0.27449324324324564,0.6140165149269405,-0.28198653198652224,-0.23213607394589886,2.0010153143243947,0.4354858778151005,-0.7680872150644169,0.6367041198501955,0.8394326593061274,-2.677765931272047,-3.181224455399656,2.7591609365479997,1.228189056411999,0.5606225420466959,-2.2591113330005075,-1.2131273145192134,1.7537056187521438,-4.378572940927383,0.017714007351310457,1.5231348239982179,-4.300231148327438,3.1718543499065666,2.15557224259022,2.244130237384878,-0.9642222786094945,0.4654539243317046,-4.522463552514133,-0.903708320349017,0.3414195867026182,-0.21489971346705383,2.5529432878679037,-2.0737629610184993,-2.086404860831892,2.4776419054572063,5.147157041720463,0.16938386618674528,-0.20291693088142493,3.223620112678449,0.5499015101772864,3.330340380377117,0.9123943439450111,2.000078280950346,-2.647735993860334,0.2443831296807364,-0.519031141868509,-2.2648221343873454,-1.233469486795813,1.355335353369913,-1.9472387185391682,4.157224671418569,-2.282436708860769,0.6072136987410381,-0.9375125739347401,-0.2477660438667706,8.611914165886226,0.4573742220889132,-2.9631288251977916,0.665333435889548,-0.3132760267430701,-1.7744222588433667,11.392898946547003,1.782837127845882,-1.4453353522144607,-1.5747756555745673,1.227472683411368,3.157636503820016,0.6896551724137945,-1.5588096362777581,-0.7369070468878469,-5.269155070612197,0.6961909969017466,-1.2814015782233956,1.2687004986799533,-1.1188355420378104,3.152806766999894,-2.140575079872198,-5.611782203359095,-2.2828593389700225,-0.16911822543851374,-6.854981680652406,0.43987649621453073,0.5348043963448124,0.06282985674792574,-1.2181338691447885,3.6231884057970953,-0.3067108330266244,-1.4357207318073661,-1.6439154319960014,3.0804383700757443,-4.01050859981118,0.4190899760520006,9.581807341793724,-8.50691745686305,-5.806396805844627,-1.1589105339105288,0.2965463752908404,0.1228165938864656,1.4992503748125774,1.9426167136654682,-2.406147091108668,-2.3215008773113777,4.486205149463407,0.18514436852545835,4.822457869494423,-4.726524786970576,-4.189981054764946,4.124896532695677,3.126794152718282,0.17129887370990193,12.641614296096805,3.7915591316229014,-7.221998756719206,-2.3135740186031817,-6.039943514222312,0.22758502232909095,-2.7890835868214725,-6.870868223887172,1.6799962140930491,-2.103695429582053,-5.267661880764485,4.436414734517724,0.8361364728495913,-15.125810141059858,26.816395283548577,18.569025059771537,-0.7991038088125402,3.440487841602047,5.680494905385736,-2.431045762886952,3.878595376742533,-2.768906706529861,-4.095181522764591,-3.7454002258899055,6.393126159203599,12.078411840045543,-0.24759546709836044,1.8902147971360472,-2.9513726225053882,0.6210980240715758,1.4616048869414922,-0.4350018913125697,3.818147280440698,-2.717126128323988,1.103413686091348,3.732986078814382,-0.8010281854320511,-3.3294163728946335,2.8425383368657187,-3.673172505758271,-2.026176692675563,2.691072575465636,2.27656513853276,5.592246071057305,1.8184450557405363,-1.2086568267781428,1.4854050319534906,-0.5758211834118176,-1.1811360588856235,1.688945347460824,2.7511214581795507,3.644552513055732,-0.08264462809917106,0.5496411323674621,-1.9238423776038238,1.4637445887445866,1.6799552011946384,-0.5402428470273501,-0.3164139749505579,-0.677159105938363,0.25566592985164505,-1.8010359941559195,-0.35166499851219113,1.8948339984254936,0.4129479152790605,-2.4754576810825157,-3.9856353891775664,-0.5865351921115258,1.9923044035912607,6.349206349206349,-1.4084507042253502,3.254264392324102,0.12131849978058717,-3.029287408476844,5.766623241964219,5.761399627972463,0.6702476588867246,-13.190575125129856,-0.20941554026489007,-0.9974926414477392,-4.891813026482406,-0.8885930128223696,2.0063080427545232,-2.805691545707012,-2.6510353765943018,-0.8895881872371336,-0.5067928560525181,-0.042959280738896766,3.8587874136607914,2.0660912745329885,-2.8148620080507447,6.5645579427277445,-1.294670320451874,0.4844329867701669,-2.094727939103469,3.190600973306079,0.019533975163943396,6.902516600636122,0.866478755611233,-0.9392465328089461,1.7500326498628649,0.48517520215634047,-1.9619865113427393,-0.3126954346466482,3.19165621079045,1.545203536236306,-2.6093247187367385,-3.0378320227453237,-4.292695812970548,-0.20425062103229807,0.959730058634789,-3.3120565432978033,-4.745849152830505,-1.8174246705731867,-2.8992971400872536,2.608342953417986,9.316751299905723,4.328113265277733,2.2795744794305017,0.8654397580939444,-2.9642838682999884,0.45542919540841886,5.922901532424829,1.2289747697236786,1.7654476670870167,2.825764754476756,2.9749527410207977,-7.719314348654183,-0.82804923535994,2.527455995185801,-3.4482758620689613,7.507598784194536,7.749034021298651,1.90890604158922,1.997596875938723,0.5301133853629736,0.23227102471279348,-0.26096033402922547,0.4186289900575568,-0.08129233976028605,-0.8553070761014747,-0.1388713546269349,1.6182048040455088,0.5287384921622396,-0.3073242167357604,1.3075681714735055,-2.464975697422711,-0.0335015389769433,-0.5341097124185734,0.6064690026954089,5.544624916275964,0.8468021814576066,-0.13962086053646017,0.6577263149603052,0.08216766115622942,-1.7729733956252325,1.1522388059701516,-2.010663204076424,3.2063766137289784,0.6225196482763984,-1.0169360451627862,-5.220907066682301,-4.902627511591973,6.574784380011267,5.675071167141121,-4.367820515287379,1.8027806281563752,8.041978773445058,4.2037098013390395,1.1814479320272575,2.548710030015422,-0.2859269786485208,0.5446493713626488,-0.6260758041108483,-0.7166267597262577,0.1351235782091953,0.5705110685979564,-0.3583681510920922,0.45340651473573246,0.9485347767804075,-1.4590197001277394,-3.2324645196506574,3.074265366919926,0.1641783387204443,1.3932284997182798,0.3300496758440463,0.8861885500411448,0.10647324028014715,2.9381948714539696,0.3454900631245872,0.10618614753439282,0.27161247810223443,0.7389004648180819,0.042958743695398205,-0.9049270014949484,-1.0094849861175925,0.776588845655013,-0.36519249022667344,1.1593360459859037,1.150837988826825,-0.2698395164980938,-2.411392405063295,1.2565665737077625,0.04963891691087685,-0.11683364809065289,1.8779342723004522,-0.6841666535600144,-0.12193963196401869,2.2943125782872498,0.8866017732035436,-1.5471361848574339,-0.1576130210202753,-5.795561112847758,-1.023692593575798,0.11901768502222687,-2.6989920637578324,-2.5467185187734387,2.828689479817781,1.995329349543229,1.3956698878750062,-1.2087601906121792,-0.14117884334190478,0.6597660523437021,1.6536525824736303,0.47700506612275984,-3.056346789771791,0.1266485418531138,-2.6275845785408425,3.9490092836358626,-2.20107971207677,7.8490501746315555,3.1799943129758867,-0.610885707724107,1.0752356891983617,-0.17831560337732144,-0.1939020107791123,0.8505430625669108,-2.6772441828716964,4.052305917925225,-1.0470184688665563,-4.600224031969969,-1.0393031115624507,-1.3388276038994174,-7.662555051760855,1.5628850012320061,-1.0085606349426346,2.1322036271969713,-2.027698741901196,-8.12645427666685,-0.9368930190044478,0.8381069547499065,-6.2545274314689925,-1.2302499135774747,-8.140492464794535,0.01792998341476615,0.5915833818849858,-0.18712408108709777,-0.1807793599071572,-0.733370598099492,-0.7432934657747192,0.17927247146389824,-0.5821591990214259,3.5407505297454955,-1.0936777941597198,-2.066924754149413,-0.3066996842129188,-2.246934961943392,1.0537113017530908,0.6736181600073721,0.31164069660862825,2.654422514619892,1.8647914904980079,-2.2107654666200682,-0.09605933339290607,-1.5473714809597139,-0.8857798269322537,5.089484176997638,0.621456607064963,8.45378697583703,-1.8303161091795528,-0.6879706900061011,1.6088703066076349,0.48409544748573285,0.6804905955798191,-4.3703644628758305,3.4025519139354587,6.337204613275271,-2.2374333984337857,-11.016505362788266,-9.74955862159158,1.705066898517127,-0.04036854103344201,-13.248604347309655,21.23610274385235,2.3400266528132097,-0.8099935995056096,2.465399848693872,0.3061889250814298,-3.113160572405893,-0.6278908676513151,-1.704443245187992,9.43404858855288,-4.469250386721857,0.7155361050328102,6.713450800617027,0.9161797341042721,-4.9286823894930105,23.255665902724743,0.5319973141882928,-0.08734073160706624,-3.794929809225067,0.6716909865127185,1.141512105337683,3.0236749549423347,3.587139290385033,0.8099821279247132,1.2263552526714738,1.4043093336761014,0.7938394257736459,-1.1507262780607541,1.485368956743005,-0.9465007678565729,0.3179876601803411,-0.9966725016164468,1.4606795265933004,-3.0629866867621147,1.8948902745161478,5.516967336883094,0.24854638026090559,0.19083109194450998,0.14697501424758563,-16.168982868096325,1.0396755926329604,-2.8906843938402815,5.372683246549892,0.6772984086943046,-7.547752664366991,1.4126338846503605,10.891052862791039,-0.06602621240634488,-5.1633576690561895,-3.13849797965724,12.02754702053439,0.573006115275354,-0.05266517714651586,-1.53927219889185,5.560871186935423,1.7006698211761817,-8.572637048898024,7.679598175930202,3.137850610691695,1.3181189282473138,0.2745840858699333,-1.3149802313662362,5.709876543209869,9.706625491297016,3.8845883180858465,1.9768200908967914,-0.49881636794048,0.1869317699039863,0.873547621066928,-0.31948881789138905,-1.3121746674378265,0.8510066786320492,-1.6331719128329314,-5.060860789405675,14.764256731355086,-3.577399240918122,-6.623633743747137,3.1327236001856607,2.864824096151053,2.166534608971249,0.7280851014573431,0.08733624454149158,-3.554698263984568,-3.019047619047621,2.5765982519886155,3.0240656749997097,-3.2094319897781443,0.9516723270968752,2.6176890156918597,5.87683325224162,-4.975108047486188,-2.4894067796610186,-0.4888647474198815,-4.8319726599582395,18.864089775561087,-2.07282149188599,-7.929043522971946,-4.745727216669959,-1.994576900527656,-3.8622116427173836,-2.254342753435312,0.28116337979602335,-1.465356486318492,-2.311254278236352,0.9947377821744041,3.660875834954491,-10.468778708102578,-2.437665821374646,1.1764175606238103,-8.350039351954974,-1.8665543277487928,3.2460456361655288,10.656943644853833,-24.460951500086704,30.499330399846937,3.496452237143033,24.101590719152366,-0.4017714468337652,2.2897089158835593,-2.1645118644827432,0.5977601172617586,12.525043256534008,-9.642795722855602,-10.895778053941497,-12.268335280887577,18.793234321068987,26.000361685454187,10.14821406359141,-6.331818932043065,-3.241273138702383,-8.384691324892401,18.159753099335664,0.22489220226131756,-8.83592321351272,-2.906148553708998,-7.371551758553241,-13.898286822540673,-3.110960944050256,3.044236357765584,-3.3065102404051028,-6.353054028829219,-18.216297772794587,-1.0527562919960154,20.346897931954633,-30.05429529819773,-10.544390481802846,-5.058834219254016,0.5383419069266759,-3.053307948595907,-11.547242064953245,-4.964893292259864,-4.619787408013076,3.8240156757087806,-0.294889563858336,-12.333264322261982,-11.440234809891713,-6.57523809523809,-6.581308106344808,-6.132693147097335,-4.10602185538248,-0.019396760740952868,-1.057328547870795,-1.9754901960784332,2.210331549732447,-2.857282645921999,-1.0627046084109915,-9.733251883526783,5.2842318971351165,6.181370185869617,7.763708823084303,-9.296882314390043,-5.960982658959524,-4.171011470281538,-1.2542236985281674,-9.546456327572194,-6.225955373172609,-2.529914529914523,1.887057172921791,-3.249793445331861,-1.700825505266168,-2.128429740099902,-3.173311635475995,-0.23682200152788102,0.07657554177196157,-3.588644884841996,0.7460317460317389,1.6228139278399167,-0.34883720930232176,0.35783741734731755,-4.170219362840088,-7.684219040685914,15.81529834399371,0.6203661673475525,3.2631578947368345,-1.8639871850881007,-0.741949844190537,-4.036477799372107,-0.1246300046736204,-0.7565122445796324,-1.0216110019646396,2.516871774513696,-1.3088599752168473,-0.30605038060111944,2.054471032745586,1.4037794060933306,0.1445196622803735,0.04557192769254481,-1.0249013058001744,-0.8821047787067604,4.457514316669231,-1.3705734182841822,1.5924284533914257,-6.90573012939002,0.9530617107457839,-4.287624891825981,2.046687489725474,-4.027386226339102,6.109945446915654,0.24519496954835684,7.913839356162233,-0.6726621335088168,1.8329039381671075,-2.161341622090507,-1.3742149981529228,-8.315229605213881,0.1879238499877367,3.1642472679823896,-5.09090909090909,1.707479593536565,-1.6870035214151202,-1.291128696376509,2.2362869198312207,1.7746595130003984,-1.703163017031628,-1.8151815181518205,-4.621848739495793,0.0,-3.9735682819383333,0.9175153683824266,2.336576052368411,-3.1627576403695845,-2.1651376146789025,-1.5378844711177786,-1.904761904761909,-0.1941747572815511,0.1945525291828787,3.6407766990291357,0.0,-0.49648711943793833,-1.0167576727546535,-1.0842685942552777,0.48076923076922906,-0.4784688995215336,2.009615384615393,1.7909322273541362,-6.287619224002217,-1.4229249011857736,-5.653568564554934,2.0186995325116808,0.9164757342220442,-2.4664602683178494,1.1109935456565356,-4.1335286730849745,-0.9278463049885333,-1.5094755398854187,3.10996755789239,-1.7250732342410813,8.74365202031353,-1.0659898477157315,0.974858902001019,-3.770325203252045,3.632907381983319,-4.626515846326296,-4.9257399294796445,-2.4949426837491573,-11.606731212540344,-0.22167166514539538,-2.5614218504965924,-5.740343347639487,-2.6323278315310117,17.682303083442918,-3.725319756612444,16.251773507029533,-2.3077776544990547,9.72174900624645,-1.6768450470965757,-0.3579324139383,7.173798203909132,2.5236593059936974,-0.048076923076922906,-1.1640211640211673,4.730387385633628,0.6505576208178487,1.1080332409972415,0.5936073059360725,-1.7249205628688258,-0.7852193995381063,-5.307262569832405,-2.1533923303834746,0.48236358154958303,-0.010001000100001711,4.02080416083217,3.9903846153846123,0.6934812760055475,-2.3415977961432577,-5.970850963798768,8.299999999999997,2.9547553093259404,5.829596412556048,3.0932203389830493,-0.1890669954788371,0.6588700378850287,0.057273768613974596,5.732275737999837,-0.23201856148492572,-0.15503875968991832,2.717391304347827,-2.4943310657596474,0.5813953488372103,2.8747591522158,-1.1237638597542676,0.9243824821942637,-4.8798798798798675,-2.2178374112075794,-0.8152393252078505,-0.7161458333333259,-0.00819672131148197,1.2378063775719372,-0.3886639676113357,-3.462851568850589,-3.82283597170765,-2.381369287340218,5.811659192825114,-2.5258518392948015,0.20869565217391806,1.7007983339118349,-3.8651877133105805,0.7987929351202627,-1.822664436030641,0.7174887892376747,3.2146037399821914,-2.9419377102924638,-13.111111111111107,7.631713554987196,11.196654310426757,18.813573809727323,3.9856115107913537,-7.146810571468098],\"yaxis\":\"y\"}],                        {\"legend\":{\"tracegroupgap\":0},\"template\":{\"data\":{\"bar\":[{\"error_x\":{\"color\":\"#2a3f5f\"},\"error_y\":{\"color\":\"#2a3f5f\"},\"marker\":{\"line\":{\"color\":\"#E5ECF6\",\"width\":0.5},\"pattern\":{\"fillmode\":\"overlay\",\"size\":10,\"solidity\":0.2}},\"type\":\"bar\"}],\"barpolar\":[{\"marker\":{\"line\":{\"color\":\"#E5ECF6\",\"width\":0.5},\"pattern\":{\"fillmode\":\"overlay\",\"size\":10,\"solidity\":0.2}},\"type\":\"barpolar\"}],\"carpet\":[{\"aaxis\":{\"endlinecolor\":\"#2a3f5f\",\"gridcolor\":\"white\",\"linecolor\":\"white\",\"minorgridcolor\":\"white\",\"startlinecolor\":\"#2a3f5f\"},\"baxis\":{\"endlinecolor\":\"#2a3f5f\",\"gridcolor\":\"white\",\"linecolor\":\"white\",\"minorgridcolor\":\"white\",\"startlinecolor\":\"#2a3f5f\"},\"type\":\"carpet\"}],\"choropleth\":[{\"colorbar\":{\"outlinewidth\":0,\"ticks\":\"\"},\"type\":\"choropleth\"}],\"contour\":[{\"colorbar\":{\"outlinewidth\":0,\"ticks\":\"\"},\"colorscale\":[[0.0,\"#0d0887\"],[0.1111111111111111,\"#46039f\"],[0.2222222222222222,\"#7201a8\"],[0.3333333333333333,\"#9c179e\"],[0.4444444444444444,\"#bd3786\"],[0.5555555555555556,\"#d8576b\"],[0.6666666666666666,\"#ed7953\"],[0.7777777777777778,\"#fb9f3a\"],[0.8888888888888888,\"#fdca26\"],[1.0,\"#f0f921\"]],\"type\":\"contour\"}],\"contourcarpet\":[{\"colorbar\":{\"outlinewidth\":0,\"ticks\":\"\"},\"type\":\"contourcarpet\"}],\"heatmap\":[{\"colorbar\":{\"outlinewidth\":0,\"ticks\":\"\"},\"colorscale\":[[0.0,\"#0d0887\"],[0.1111111111111111,\"#46039f\"],[0.2222222222222222,\"#7201a8\"],[0.3333333333333333,\"#9c179e\"],[0.4444444444444444,\"#bd3786\"],[0.5555555555555556,\"#d8576b\"],[0.6666666666666666,\"#ed7953\"],[0.7777777777777778,\"#fb9f3a\"],[0.8888888888888888,\"#fdca26\"],[1.0,\"#f0f921\"]],\"type\":\"heatmap\"}],\"heatmapgl\":[{\"colorbar\":{\"outlinewidth\":0,\"ticks\":\"\"},\"colorscale\":[[0.0,\"#0d0887\"],[0.1111111111111111,\"#46039f\"],[0.2222222222222222,\"#7201a8\"],[0.3333333333333333,\"#9c179e\"],[0.4444444444444444,\"#bd3786\"],[0.5555555555555556,\"#d8576b\"],[0.6666666666666666,\"#ed7953\"],[0.7777777777777778,\"#fb9f3a\"],[0.8888888888888888,\"#fdca26\"],[1.0,\"#f0f921\"]],\"type\":\"heatmapgl\"}],\"histogram\":[{\"marker\":{\"pattern\":{\"fillmode\":\"overlay\",\"size\":10,\"solidity\":0.2}},\"type\":\"histogram\"}],\"histogram2d\":[{\"colorbar\":{\"outlinewidth\":0,\"ticks\":\"\"},\"colorscale\":[[0.0,\"#0d0887\"],[0.1111111111111111,\"#46039f\"],[0.2222222222222222,\"#7201a8\"],[0.3333333333333333,\"#9c179e\"],[0.4444444444444444,\"#bd3786\"],[0.5555555555555556,\"#d8576b\"],[0.6666666666666666,\"#ed7953\"],[0.7777777777777778,\"#fb9f3a\"],[0.8888888888888888,\"#fdca26\"],[1.0,\"#f0f921\"]],\"type\":\"histogram2d\"}],\"histogram2dcontour\":[{\"colorbar\":{\"outlinewidth\":0,\"ticks\":\"\"},\"colorscale\":[[0.0,\"#0d0887\"],[0.1111111111111111,\"#46039f\"],[0.2222222222222222,\"#7201a8\"],[0.3333333333333333,\"#9c179e\"],[0.4444444444444444,\"#bd3786\"],[0.5555555555555556,\"#d8576b\"],[0.6666666666666666,\"#ed7953\"],[0.7777777777777778,\"#fb9f3a\"],[0.8888888888888888,\"#fdca26\"],[1.0,\"#f0f921\"]],\"type\":\"histogram2dcontour\"}],\"mesh3d\":[{\"colorbar\":{\"outlinewidth\":0,\"ticks\":\"\"},\"type\":\"mesh3d\"}],\"parcoords\":[{\"line\":{\"colorbar\":{\"outlinewidth\":0,\"ticks\":\"\"}},\"type\":\"parcoords\"}],\"pie\":[{\"automargin\":true,\"type\":\"pie\"}],\"scatter\":[{\"marker\":{\"colorbar\":{\"outlinewidth\":0,\"ticks\":\"\"}},\"type\":\"scatter\"}],\"scatter3d\":[{\"line\":{\"colorbar\":{\"outlinewidth\":0,\"ticks\":\"\"}},\"marker\":{\"colorbar\":{\"outlinewidth\":0,\"ticks\":\"\"}},\"type\":\"scatter3d\"}],\"scattercarpet\":[{\"marker\":{\"colorbar\":{\"outlinewidth\":0,\"ticks\":\"\"}},\"type\":\"scattercarpet\"}],\"scattergeo\":[{\"marker\":{\"colorbar\":{\"outlinewidth\":0,\"ticks\":\"\"}},\"type\":\"scattergeo\"}],\"scattergl\":[{\"marker\":{\"colorbar\":{\"outlinewidth\":0,\"ticks\":\"\"}},\"type\":\"scattergl\"}],\"scattermapbox\":[{\"marker\":{\"colorbar\":{\"outlinewidth\":0,\"ticks\":\"\"}},\"type\":\"scattermapbox\"}],\"scatterpolar\":[{\"marker\":{\"colorbar\":{\"outlinewidth\":0,\"ticks\":\"\"}},\"type\":\"scatterpolar\"}],\"scatterpolargl\":[{\"marker\":{\"colorbar\":{\"outlinewidth\":0,\"ticks\":\"\"}},\"type\":\"scatterpolargl\"}],\"scatterternary\":[{\"marker\":{\"colorbar\":{\"outlinewidth\":0,\"ticks\":\"\"}},\"type\":\"scatterternary\"}],\"surface\":[{\"colorbar\":{\"outlinewidth\":0,\"ticks\":\"\"},\"colorscale\":[[0.0,\"#0d0887\"],[0.1111111111111111,\"#46039f\"],[0.2222222222222222,\"#7201a8\"],[0.3333333333333333,\"#9c179e\"],[0.4444444444444444,\"#bd3786\"],[0.5555555555555556,\"#d8576b\"],[0.6666666666666666,\"#ed7953\"],[0.7777777777777778,\"#fb9f3a\"],[0.8888888888888888,\"#fdca26\"],[1.0,\"#f0f921\"]],\"type\":\"surface\"}],\"table\":[{\"cells\":{\"fill\":{\"color\":\"#EBF0F8\"},\"line\":{\"color\":\"white\"}},\"header\":{\"fill\":{\"color\":\"#C8D4E3\"},\"line\":{\"color\":\"white\"}},\"type\":\"table\"}]},\"layout\":{\"annotationdefaults\":{\"arrowcolor\":\"#2a3f5f\",\"arrowhead\":0,\"arrowwidth\":1},\"autotypenumbers\":\"strict\",\"coloraxis\":{\"colorbar\":{\"outlinewidth\":0,\"ticks\":\"\"}},\"colorscale\":{\"diverging\":[[0,\"#8e0152\"],[0.1,\"#c51b7d\"],[0.2,\"#de77ae\"],[0.3,\"#f1b6da\"],[0.4,\"#fde0ef\"],[0.5,\"#f7f7f7\"],[0.6,\"#e6f5d0\"],[0.7,\"#b8e186\"],[0.8,\"#7fbc41\"],[0.9,\"#4d9221\"],[1,\"#276419\"]],\"sequential\":[[0.0,\"#0d0887\"],[0.1111111111111111,\"#46039f\"],[0.2222222222222222,\"#7201a8\"],[0.3333333333333333,\"#9c179e\"],[0.4444444444444444,\"#bd3786\"],[0.5555555555555556,\"#d8576b\"],[0.6666666666666666,\"#ed7953\"],[0.7777777777777778,\"#fb9f3a\"],[0.8888888888888888,\"#fdca26\"],[1.0,\"#f0f921\"]],\"sequentialminus\":[[0.0,\"#0d0887\"],[0.1111111111111111,\"#46039f\"],[0.2222222222222222,\"#7201a8\"],[0.3333333333333333,\"#9c179e\"],[0.4444444444444444,\"#bd3786\"],[0.5555555555555556,\"#d8576b\"],[0.6666666666666666,\"#ed7953\"],[0.7777777777777778,\"#fb9f3a\"],[0.8888888888888888,\"#fdca26\"],[1.0,\"#f0f921\"]]},\"colorway\":[\"#636efa\",\"#EF553B\",\"#00cc96\",\"#ab63fa\",\"#FFA15A\",\"#19d3f3\",\"#FF6692\",\"#B6E880\",\"#FF97FF\",\"#FECB52\"],\"font\":{\"color\":\"#2a3f5f\"},\"geo\":{\"bgcolor\":\"white\",\"lakecolor\":\"white\",\"landcolor\":\"#E5ECF6\",\"showlakes\":true,\"showland\":true,\"subunitcolor\":\"white\"},\"hoverlabel\":{\"align\":\"left\"},\"hovermode\":\"closest\",\"mapbox\":{\"style\":\"light\"},\"paper_bgcolor\":\"white\",\"plot_bgcolor\":\"#E5ECF6\",\"polar\":{\"angularaxis\":{\"gridcolor\":\"white\",\"linecolor\":\"white\",\"ticks\":\"\"},\"bgcolor\":\"#E5ECF6\",\"radialaxis\":{\"gridcolor\":\"white\",\"linecolor\":\"white\",\"ticks\":\"\"}},\"scene\":{\"xaxis\":{\"backgroundcolor\":\"#E5ECF6\",\"gridcolor\":\"white\",\"gridwidth\":2,\"linecolor\":\"white\",\"showbackground\":true,\"ticks\":\"\",\"zerolinecolor\":\"white\"},\"yaxis\":{\"backgroundcolor\":\"#E5ECF6\",\"gridcolor\":\"white\",\"gridwidth\":2,\"linecolor\":\"white\",\"showbackground\":true,\"ticks\":\"\",\"zerolinecolor\":\"white\"},\"zaxis\":{\"backgroundcolor\":\"#E5ECF6\",\"gridcolor\":\"white\",\"gridwidth\":2,\"linecolor\":\"white\",\"showbackground\":true,\"ticks\":\"\",\"zerolinecolor\":\"white\"}},\"shapedefaults\":{\"line\":{\"color\":\"#2a3f5f\"}},\"ternary\":{\"aaxis\":{\"gridcolor\":\"white\",\"linecolor\":\"white\",\"ticks\":\"\"},\"baxis\":{\"gridcolor\":\"white\",\"linecolor\":\"white\",\"ticks\":\"\"},\"bgcolor\":\"#E5ECF6\",\"caxis\":{\"gridcolor\":\"white\",\"linecolor\":\"white\",\"ticks\":\"\"}},\"title\":{\"x\":0.05},\"xaxis\":{\"automargin\":true,\"gridcolor\":\"white\",\"linecolor\":\"white\",\"ticks\":\"\",\"title\":{\"standoff\":15},\"zerolinecolor\":\"white\",\"zerolinewidth\":2},\"yaxis\":{\"automargin\":true,\"gridcolor\":\"white\",\"linecolor\":\"white\",\"ticks\":\"\",\"title\":{\"standoff\":15},\"zerolinecolor\":\"white\",\"zerolinewidth\":2}}},\"title\":{\"text\":\"Close Price Percentage Change Over Time\"},\"xaxis\":{\"anchor\":\"y\",\"domain\":[0.0,1.0],\"title\":{\"text\":\"Date\"}},\"yaxis\":{\"anchor\":\"x\",\"domain\":[0.0,1.0],\"title\":{\"text\":\"Percentage Change\"}}},                        {\"responsive\": true}                    ).then(function(){\n",
       "                            \n",
       "var gd = document.getElementById('86438429-afee-4736-ad92-9fbac7f69eea');\n",
       "var x = new MutationObserver(function (mutations, observer) {{\n",
       "        var display = window.getComputedStyle(gd).display;\n",
       "        if (!display || display === 'none') {{\n",
       "            console.log([gd, 'removed!']);\n",
       "            Plotly.purge(gd);\n",
       "            observer.disconnect();\n",
       "        }}\n",
       "}});\n",
       "\n",
       "// Listen for the removal of the full notebook cells\n",
       "var notebookContainer = gd.closest('#notebook-container');\n",
       "if (notebookContainer) {{\n",
       "    x.observe(notebookContainer, {childList: true});\n",
       "}}\n",
       "\n",
       "// Listen for the clearing of the current output cell\n",
       "var outputEl = gd.closest('.output');\n",
       "if (outputEl) {{\n",
       "    x.observe(outputEl, {childList: true});\n",
       "}}\n",
       "\n",
       "                        })                };                });            </script>        </div>"
      ]
     },
     "metadata": {},
     "output_type": "display_data"
    }
   ],
   "source": [
    "# Create a line plot with plotly\n",
    "fig = px.line(df, x=df.index, y='Close_price_pct_change', title='Close Price Percentage Change Over Time')\n",
    "\n",
    "# Customize the graph if needed\n",
    "fig.update_xaxes(title_text='Date')\n",
    "fig.update_yaxes(title_text='Percentage Change')\n",
    "\n",
    "# Show the graph\n",
    "fig.show()"
   ]
  },
  {
   "cell_type": "code",
   "execution_count": null,
   "id": "261d793b",
   "metadata": {},
   "outputs": [],
   "source": []
  }
 ],
 "metadata": {
  "kernelspec": {
   "display_name": "Python 3 (ipykernel)",
   "language": "python",
   "name": "python3"
  },
  "language_info": {
   "codemirror_mode": {
    "name": "ipython",
    "version": 3
   },
   "file_extension": ".py",
   "mimetype": "text/x-python",
   "name": "python",
   "nbconvert_exporter": "python",
   "pygments_lexer": "ipython3",
   "version": "3.9.7"
  }
 },
 "nbformat": 4,
 "nbformat_minor": 5
}
